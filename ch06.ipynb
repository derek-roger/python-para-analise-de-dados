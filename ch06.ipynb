{
 "cells": [
  {
   "cell_type": "markdown",
   "id": "148eaa1a",
   "metadata": {},
   "source": [
    "# Cap 6 Carregamentos de dados, armazenamento e formatos de arquivos"
   ]
  },
  {
   "cell_type": "markdown",
   "id": "97dea0b8",
   "metadata": {},
   "source": [
    "## 6.1 Leitura e escrita de dados no formato texto"
   ]
  },
  {
   "cell_type": "code",
   "execution_count": 2,
   "id": "ca34d895",
   "metadata": {},
   "outputs": [],
   "source": [
    "import pandas as pd\n",
    "import numpy as np\n"
   ]
  },
  {
   "cell_type": "code",
   "execution_count": 3,
   "id": "2cdc947a",
   "metadata": {},
   "outputs": [],
   "source": [
    "df = pd.read_csv(\"examples/ex1.csv\")\n"
   ]
  },
  {
   "cell_type": "code",
   "execution_count": 4,
   "id": "25749b68",
   "metadata": {},
   "outputs": [
    {
     "data": {
      "application/vnd.microsoft.datawrangler.viewer.v0+json": {
       "columns": [
        {
         "name": "index",
         "rawType": "int64",
         "type": "integer"
        },
        {
         "name": "a",
         "rawType": "int64",
         "type": "integer"
        },
        {
         "name": "b",
         "rawType": "int64",
         "type": "integer"
        },
        {
         "name": "c",
         "rawType": "int64",
         "type": "integer"
        },
        {
         "name": "d",
         "rawType": "int64",
         "type": "integer"
        },
        {
         "name": "message",
         "rawType": "object",
         "type": "string"
        }
       ],
       "ref": "144359d5-691d-4a7f-abc0-05c07ba45e58",
       "rows": [
        [
         "0",
         "1",
         "2",
         "3",
         "4",
         "hello"
        ],
        [
         "1",
         "5",
         "6",
         "7",
         "8",
         "world"
        ],
        [
         "2",
         "9",
         "10",
         "11",
         "12",
         "foo"
        ]
       ],
       "shape": {
        "columns": 5,
        "rows": 3
       }
      },
      "text/html": [
       "<div>\n",
       "<style scoped>\n",
       "    .dataframe tbody tr th:only-of-type {\n",
       "        vertical-align: middle;\n",
       "    }\n",
       "\n",
       "    .dataframe tbody tr th {\n",
       "        vertical-align: top;\n",
       "    }\n",
       "\n",
       "    .dataframe thead th {\n",
       "        text-align: right;\n",
       "    }\n",
       "</style>\n",
       "<table border=\"1\" class=\"dataframe\">\n",
       "  <thead>\n",
       "    <tr style=\"text-align: right;\">\n",
       "      <th></th>\n",
       "      <th>a</th>\n",
       "      <th>b</th>\n",
       "      <th>c</th>\n",
       "      <th>d</th>\n",
       "      <th>message</th>\n",
       "    </tr>\n",
       "  </thead>\n",
       "  <tbody>\n",
       "    <tr>\n",
       "      <th>0</th>\n",
       "      <td>1</td>\n",
       "      <td>2</td>\n",
       "      <td>3</td>\n",
       "      <td>4</td>\n",
       "      <td>hello</td>\n",
       "    </tr>\n",
       "    <tr>\n",
       "      <th>1</th>\n",
       "      <td>5</td>\n",
       "      <td>6</td>\n",
       "      <td>7</td>\n",
       "      <td>8</td>\n",
       "      <td>world</td>\n",
       "    </tr>\n",
       "    <tr>\n",
       "      <th>2</th>\n",
       "      <td>9</td>\n",
       "      <td>10</td>\n",
       "      <td>11</td>\n",
       "      <td>12</td>\n",
       "      <td>foo</td>\n",
       "    </tr>\n",
       "  </tbody>\n",
       "</table>\n",
       "</div>"
      ],
      "text/plain": [
       "   a   b   c   d message\n",
       "0  1   2   3   4   hello\n",
       "1  5   6   7   8   world\n",
       "2  9  10  11  12     foo"
      ]
     },
     "execution_count": 4,
     "metadata": {},
     "output_type": "execute_result"
    }
   ],
   "source": [
    "df\n"
   ]
  },
  {
   "cell_type": "code",
   "execution_count": 5,
   "id": "9c14b66d",
   "metadata": {},
   "outputs": [
    {
     "data": {
      "application/vnd.microsoft.datawrangler.viewer.v0+json": {
       "columns": [
        {
         "name": "index",
         "rawType": "int64",
         "type": "integer"
        },
        {
         "name": "0",
         "rawType": "int64",
         "type": "integer"
        },
        {
         "name": "1",
         "rawType": "int64",
         "type": "integer"
        },
        {
         "name": "2",
         "rawType": "int64",
         "type": "integer"
        },
        {
         "name": "3",
         "rawType": "int64",
         "type": "integer"
        },
        {
         "name": "4",
         "rawType": "object",
         "type": "string"
        }
       ],
       "ref": "88811527-6c4a-4663-8372-d56218ba9ba7",
       "rows": [
        [
         "0",
         "1",
         "2",
         "3",
         "4",
         "hello"
        ],
        [
         "1",
         "5",
         "6",
         "7",
         "8",
         "world"
        ],
        [
         "2",
         "9",
         "10",
         "11",
         "12",
         "foo"
        ]
       ],
       "shape": {
        "columns": 5,
        "rows": 3
       }
      },
      "text/html": [
       "<div>\n",
       "<style scoped>\n",
       "    .dataframe tbody tr th:only-of-type {\n",
       "        vertical-align: middle;\n",
       "    }\n",
       "\n",
       "    .dataframe tbody tr th {\n",
       "        vertical-align: top;\n",
       "    }\n",
       "\n",
       "    .dataframe thead th {\n",
       "        text-align: right;\n",
       "    }\n",
       "</style>\n",
       "<table border=\"1\" class=\"dataframe\">\n",
       "  <thead>\n",
       "    <tr style=\"text-align: right;\">\n",
       "      <th></th>\n",
       "      <th>0</th>\n",
       "      <th>1</th>\n",
       "      <th>2</th>\n",
       "      <th>3</th>\n",
       "      <th>4</th>\n",
       "    </tr>\n",
       "  </thead>\n",
       "  <tbody>\n",
       "    <tr>\n",
       "      <th>0</th>\n",
       "      <td>1</td>\n",
       "      <td>2</td>\n",
       "      <td>3</td>\n",
       "      <td>4</td>\n",
       "      <td>hello</td>\n",
       "    </tr>\n",
       "    <tr>\n",
       "      <th>1</th>\n",
       "      <td>5</td>\n",
       "      <td>6</td>\n",
       "      <td>7</td>\n",
       "      <td>8</td>\n",
       "      <td>world</td>\n",
       "    </tr>\n",
       "    <tr>\n",
       "      <th>2</th>\n",
       "      <td>9</td>\n",
       "      <td>10</td>\n",
       "      <td>11</td>\n",
       "      <td>12</td>\n",
       "      <td>foo</td>\n",
       "    </tr>\n",
       "  </tbody>\n",
       "</table>\n",
       "</div>"
      ],
      "text/plain": [
       "   0   1   2   3      4\n",
       "0  1   2   3   4  hello\n",
       "1  5   6   7   8  world\n",
       "2  9  10  11  12    foo"
      ]
     },
     "execution_count": 5,
     "metadata": {},
     "output_type": "execute_result"
    }
   ],
   "source": [
    "# Arquivos sem cabeçalho\n",
    "pd.read_csv(\"examples/ex2.csv\", header=None)\n"
   ]
  },
  {
   "cell_type": "code",
   "execution_count": 6,
   "id": "dc8f1f76",
   "metadata": {},
   "outputs": [
    {
     "data": {
      "application/vnd.microsoft.datawrangler.viewer.v0+json": {
       "columns": [
        {
         "name": "index",
         "rawType": "int64",
         "type": "integer"
        },
        {
         "name": "a",
         "rawType": "int64",
         "type": "integer"
        },
        {
         "name": "b",
         "rawType": "int64",
         "type": "integer"
        },
        {
         "name": "c",
         "rawType": "int64",
         "type": "integer"
        },
        {
         "name": "d",
         "rawType": "int64",
         "type": "integer"
        },
        {
         "name": "message",
         "rawType": "object",
         "type": "string"
        }
       ],
       "ref": "51d127d4-cc28-4cd1-bb29-8c798b9013c9",
       "rows": [
        [
         "0",
         "1",
         "2",
         "3",
         "4",
         "hello"
        ],
        [
         "1",
         "5",
         "6",
         "7",
         "8",
         "world"
        ],
        [
         "2",
         "9",
         "10",
         "11",
         "12",
         "foo"
        ]
       ],
       "shape": {
        "columns": 5,
        "rows": 3
       }
      },
      "text/html": [
       "<div>\n",
       "<style scoped>\n",
       "    .dataframe tbody tr th:only-of-type {\n",
       "        vertical-align: middle;\n",
       "    }\n",
       "\n",
       "    .dataframe tbody tr th {\n",
       "        vertical-align: top;\n",
       "    }\n",
       "\n",
       "    .dataframe thead th {\n",
       "        text-align: right;\n",
       "    }\n",
       "</style>\n",
       "<table border=\"1\" class=\"dataframe\">\n",
       "  <thead>\n",
       "    <tr style=\"text-align: right;\">\n",
       "      <th></th>\n",
       "      <th>a</th>\n",
       "      <th>b</th>\n",
       "      <th>c</th>\n",
       "      <th>d</th>\n",
       "      <th>message</th>\n",
       "    </tr>\n",
       "  </thead>\n",
       "  <tbody>\n",
       "    <tr>\n",
       "      <th>0</th>\n",
       "      <td>1</td>\n",
       "      <td>2</td>\n",
       "      <td>3</td>\n",
       "      <td>4</td>\n",
       "      <td>hello</td>\n",
       "    </tr>\n",
       "    <tr>\n",
       "      <th>1</th>\n",
       "      <td>5</td>\n",
       "      <td>6</td>\n",
       "      <td>7</td>\n",
       "      <td>8</td>\n",
       "      <td>world</td>\n",
       "    </tr>\n",
       "    <tr>\n",
       "      <th>2</th>\n",
       "      <td>9</td>\n",
       "      <td>10</td>\n",
       "      <td>11</td>\n",
       "      <td>12</td>\n",
       "      <td>foo</td>\n",
       "    </tr>\n",
       "  </tbody>\n",
       "</table>\n",
       "</div>"
      ],
      "text/plain": [
       "   a   b   c   d message\n",
       "0  1   2   3   4   hello\n",
       "1  5   6   7   8   world\n",
       "2  9  10  11  12     foo"
      ]
     },
     "execution_count": 6,
     "metadata": {},
     "output_type": "execute_result"
    }
   ],
   "source": [
    "pd.read_csv(\"examples/ex2.csv\", names=[\"a\", \"b\", \"c\", \"d\", \"message\"])\n"
   ]
  },
  {
   "cell_type": "code",
   "execution_count": 7,
   "id": "9b4dffc5",
   "metadata": {},
   "outputs": [],
   "source": [
    "names = [\"a\", \"b\", \"c\", \"d\", \"message\"]\n"
   ]
  },
  {
   "cell_type": "code",
   "execution_count": 8,
   "id": "08fd591a",
   "metadata": {},
   "outputs": [
    {
     "data": {
      "application/vnd.microsoft.datawrangler.viewer.v0+json": {
       "columns": [
        {
         "name": "message",
         "rawType": "object",
         "type": "string"
        },
        {
         "name": "a",
         "rawType": "int64",
         "type": "integer"
        },
        {
         "name": "b",
         "rawType": "int64",
         "type": "integer"
        },
        {
         "name": "c",
         "rawType": "int64",
         "type": "integer"
        },
        {
         "name": "d",
         "rawType": "int64",
         "type": "integer"
        }
       ],
       "ref": "53e74686-3d31-401a-9957-acb5ff3c5927",
       "rows": [
        [
         "hello",
         "1",
         "2",
         "3",
         "4"
        ],
        [
         "world",
         "5",
         "6",
         "7",
         "8"
        ],
        [
         "foo",
         "9",
         "10",
         "11",
         "12"
        ]
       ],
       "shape": {
        "columns": 4,
        "rows": 3
       }
      },
      "text/html": [
       "<div>\n",
       "<style scoped>\n",
       "    .dataframe tbody tr th:only-of-type {\n",
       "        vertical-align: middle;\n",
       "    }\n",
       "\n",
       "    .dataframe tbody tr th {\n",
       "        vertical-align: top;\n",
       "    }\n",
       "\n",
       "    .dataframe thead th {\n",
       "        text-align: right;\n",
       "    }\n",
       "</style>\n",
       "<table border=\"1\" class=\"dataframe\">\n",
       "  <thead>\n",
       "    <tr style=\"text-align: right;\">\n",
       "      <th></th>\n",
       "      <th>a</th>\n",
       "      <th>b</th>\n",
       "      <th>c</th>\n",
       "      <th>d</th>\n",
       "    </tr>\n",
       "    <tr>\n",
       "      <th>message</th>\n",
       "      <th></th>\n",
       "      <th></th>\n",
       "      <th></th>\n",
       "      <th></th>\n",
       "    </tr>\n",
       "  </thead>\n",
       "  <tbody>\n",
       "    <tr>\n",
       "      <th>hello</th>\n",
       "      <td>1</td>\n",
       "      <td>2</td>\n",
       "      <td>3</td>\n",
       "      <td>4</td>\n",
       "    </tr>\n",
       "    <tr>\n",
       "      <th>world</th>\n",
       "      <td>5</td>\n",
       "      <td>6</td>\n",
       "      <td>7</td>\n",
       "      <td>8</td>\n",
       "    </tr>\n",
       "    <tr>\n",
       "      <th>foo</th>\n",
       "      <td>9</td>\n",
       "      <td>10</td>\n",
       "      <td>11</td>\n",
       "      <td>12</td>\n",
       "    </tr>\n",
       "  </tbody>\n",
       "</table>\n",
       "</div>"
      ],
      "text/plain": [
       "         a   b   c   d\n",
       "message               \n",
       "hello    1   2   3   4\n",
       "world    5   6   7   8\n",
       "foo      9  10  11  12"
      ]
     },
     "execution_count": 8,
     "metadata": {},
     "output_type": "execute_result"
    }
   ],
   "source": [
    "# Parâmetro index_col\n",
    "pd.read_csv(\"examples/ex2.csv\", names=names, index_col=\"message\")\n"
   ]
  },
  {
   "cell_type": "code",
   "execution_count": 9,
   "id": "25f72593",
   "metadata": {},
   "outputs": [],
   "source": [
    "parsed = pd.read_csv(\"examples/csv_mindex.csv\", index_col=[\"key1\", \"key2\"])\n"
   ]
  },
  {
   "cell_type": "code",
   "execution_count": 10,
   "id": "2c055a60",
   "metadata": {},
   "outputs": [
    {
     "data": {
      "application/vnd.microsoft.datawrangler.viewer.v0+json": {
       "columns": [
        {
         "name": "('key1', 'key2')",
         "rawType": "object",
         "type": "unknown"
        },
        {
         "name": "value1",
         "rawType": "int64",
         "type": "integer"
        },
        {
         "name": "value2",
         "rawType": "int64",
         "type": "integer"
        }
       ],
       "ref": "db592b64-a060-4386-88ca-b48bf597d790",
       "rows": [
        [
         "('one', 'a')",
         "1",
         "2"
        ],
        [
         "('one', 'b')",
         "3",
         "4"
        ],
        [
         "('one', 'c')",
         "5",
         "6"
        ],
        [
         "('one', 'd')",
         "7",
         "8"
        ],
        [
         "('two', 'a')",
         "9",
         "10"
        ],
        [
         "('two', 'b')",
         "11",
         "12"
        ],
        [
         "('two', 'c')",
         "13",
         "14"
        ],
        [
         "('two', 'd')",
         "15",
         "16"
        ]
       ],
       "shape": {
        "columns": 2,
        "rows": 8
       }
      },
      "text/html": [
       "<div>\n",
       "<style scoped>\n",
       "    .dataframe tbody tr th:only-of-type {\n",
       "        vertical-align: middle;\n",
       "    }\n",
       "\n",
       "    .dataframe tbody tr th {\n",
       "        vertical-align: top;\n",
       "    }\n",
       "\n",
       "    .dataframe thead th {\n",
       "        text-align: right;\n",
       "    }\n",
       "</style>\n",
       "<table border=\"1\" class=\"dataframe\">\n",
       "  <thead>\n",
       "    <tr style=\"text-align: right;\">\n",
       "      <th></th>\n",
       "      <th></th>\n",
       "      <th>value1</th>\n",
       "      <th>value2</th>\n",
       "    </tr>\n",
       "    <tr>\n",
       "      <th>key1</th>\n",
       "      <th>key2</th>\n",
       "      <th></th>\n",
       "      <th></th>\n",
       "    </tr>\n",
       "  </thead>\n",
       "  <tbody>\n",
       "    <tr>\n",
       "      <th rowspan=\"4\" valign=\"top\">one</th>\n",
       "      <th>a</th>\n",
       "      <td>1</td>\n",
       "      <td>2</td>\n",
       "    </tr>\n",
       "    <tr>\n",
       "      <th>b</th>\n",
       "      <td>3</td>\n",
       "      <td>4</td>\n",
       "    </tr>\n",
       "    <tr>\n",
       "      <th>c</th>\n",
       "      <td>5</td>\n",
       "      <td>6</td>\n",
       "    </tr>\n",
       "    <tr>\n",
       "      <th>d</th>\n",
       "      <td>7</td>\n",
       "      <td>8</td>\n",
       "    </tr>\n",
       "    <tr>\n",
       "      <th rowspan=\"4\" valign=\"top\">two</th>\n",
       "      <th>a</th>\n",
       "      <td>9</td>\n",
       "      <td>10</td>\n",
       "    </tr>\n",
       "    <tr>\n",
       "      <th>b</th>\n",
       "      <td>11</td>\n",
       "      <td>12</td>\n",
       "    </tr>\n",
       "    <tr>\n",
       "      <th>c</th>\n",
       "      <td>13</td>\n",
       "      <td>14</td>\n",
       "    </tr>\n",
       "    <tr>\n",
       "      <th>d</th>\n",
       "      <td>15</td>\n",
       "      <td>16</td>\n",
       "    </tr>\n",
       "  </tbody>\n",
       "</table>\n",
       "</div>"
      ],
      "text/plain": [
       "           value1  value2\n",
       "key1 key2                \n",
       "one  a          1       2\n",
       "     b          3       4\n",
       "     c          5       6\n",
       "     d          7       8\n",
       "two  a          9      10\n",
       "     b         11      12\n",
       "     c         13      14\n",
       "     d         15      16"
      ]
     },
     "execution_count": 10,
     "metadata": {},
     "output_type": "execute_result"
    }
   ],
   "source": [
    "parsed\n"
   ]
  },
  {
   "cell_type": "code",
   "execution_count": 11,
   "id": "d5b5c60e",
   "metadata": {},
   "outputs": [],
   "source": [
    "# Expressão regular com o parâmetro sep\n",
    "result = pd.read_csv(\"examples/ex3.txt\", sep=\"\\s+\")\n"
   ]
  },
  {
   "cell_type": "code",
   "execution_count": 12,
   "id": "e62c9d98",
   "metadata": {},
   "outputs": [
    {
     "data": {
      "application/vnd.microsoft.datawrangler.viewer.v0+json": {
       "columns": [
        {
         "name": "index",
         "rawType": "object",
         "type": "string"
        },
        {
         "name": "A",
         "rawType": "float64",
         "type": "float"
        },
        {
         "name": "B",
         "rawType": "float64",
         "type": "float"
        },
        {
         "name": "C",
         "rawType": "float64",
         "type": "float"
        }
       ],
       "ref": "f1dee48e-22da-47b4-827a-58a4d5bfcc27",
       "rows": [
        [
         "aaa",
         "-0.264438",
         "-1.026059",
         "-0.6195"
        ],
        [
         "bbb",
         "0.927272",
         "0.302904",
         "-0.032399"
        ],
        [
         "ccc",
         "-0.264273",
         "-0.386314",
         "-0.217601"
        ],
        [
         "ddd",
         "-0.871858",
         "-0.348382",
         "1.100491"
        ]
       ],
       "shape": {
        "columns": 3,
        "rows": 4
       }
      },
      "text/html": [
       "<div>\n",
       "<style scoped>\n",
       "    .dataframe tbody tr th:only-of-type {\n",
       "        vertical-align: middle;\n",
       "    }\n",
       "\n",
       "    .dataframe tbody tr th {\n",
       "        vertical-align: top;\n",
       "    }\n",
       "\n",
       "    .dataframe thead th {\n",
       "        text-align: right;\n",
       "    }\n",
       "</style>\n",
       "<table border=\"1\" class=\"dataframe\">\n",
       "  <thead>\n",
       "    <tr style=\"text-align: right;\">\n",
       "      <th></th>\n",
       "      <th>A</th>\n",
       "      <th>B</th>\n",
       "      <th>C</th>\n",
       "    </tr>\n",
       "  </thead>\n",
       "  <tbody>\n",
       "    <tr>\n",
       "      <th>aaa</th>\n",
       "      <td>-0.264438</td>\n",
       "      <td>-1.026059</td>\n",
       "      <td>-0.619500</td>\n",
       "    </tr>\n",
       "    <tr>\n",
       "      <th>bbb</th>\n",
       "      <td>0.927272</td>\n",
       "      <td>0.302904</td>\n",
       "      <td>-0.032399</td>\n",
       "    </tr>\n",
       "    <tr>\n",
       "      <th>ccc</th>\n",
       "      <td>-0.264273</td>\n",
       "      <td>-0.386314</td>\n",
       "      <td>-0.217601</td>\n",
       "    </tr>\n",
       "    <tr>\n",
       "      <th>ddd</th>\n",
       "      <td>-0.871858</td>\n",
       "      <td>-0.348382</td>\n",
       "      <td>1.100491</td>\n",
       "    </tr>\n",
       "  </tbody>\n",
       "</table>\n",
       "</div>"
      ],
      "text/plain": [
       "            A         B         C\n",
       "aaa -0.264438 -1.026059 -0.619500\n",
       "bbb  0.927272  0.302904 -0.032399\n",
       "ccc -0.264273 -0.386314 -0.217601\n",
       "ddd -0.871858 -0.348382  1.100491"
      ]
     },
     "execution_count": 12,
     "metadata": {},
     "output_type": "execute_result"
    }
   ],
   "source": [
    "result\n"
   ]
  },
  {
   "cell_type": "code",
   "execution_count": 13,
   "id": "c3df385e",
   "metadata": {},
   "outputs": [
    {
     "data": {
      "application/vnd.microsoft.datawrangler.viewer.v0+json": {
       "columns": [
        {
         "name": "index",
         "rawType": "int64",
         "type": "integer"
        },
        {
         "name": "a",
         "rawType": "int64",
         "type": "integer"
        },
        {
         "name": "b",
         "rawType": "int64",
         "type": "integer"
        },
        {
         "name": "c",
         "rawType": "int64",
         "type": "integer"
        },
        {
         "name": "d",
         "rawType": "int64",
         "type": "integer"
        },
        {
         "name": "message",
         "rawType": "object",
         "type": "string"
        }
       ],
       "ref": "5e7d91b4-b191-49b3-9085-4f395fc86f78",
       "rows": [
        [
         "0",
         "1",
         "2",
         "3",
         "4",
         "hello"
        ],
        [
         "1",
         "5",
         "6",
         "7",
         "8",
         "world"
        ],
        [
         "2",
         "9",
         "10",
         "11",
         "12",
         "foo"
        ]
       ],
       "shape": {
        "columns": 5,
        "rows": 3
       }
      },
      "text/html": [
       "<div>\n",
       "<style scoped>\n",
       "    .dataframe tbody tr th:only-of-type {\n",
       "        vertical-align: middle;\n",
       "    }\n",
       "\n",
       "    .dataframe tbody tr th {\n",
       "        vertical-align: top;\n",
       "    }\n",
       "\n",
       "    .dataframe thead th {\n",
       "        text-align: right;\n",
       "    }\n",
       "</style>\n",
       "<table border=\"1\" class=\"dataframe\">\n",
       "  <thead>\n",
       "    <tr style=\"text-align: right;\">\n",
       "      <th></th>\n",
       "      <th>a</th>\n",
       "      <th>b</th>\n",
       "      <th>c</th>\n",
       "      <th>d</th>\n",
       "      <th>message</th>\n",
       "    </tr>\n",
       "  </thead>\n",
       "  <tbody>\n",
       "    <tr>\n",
       "      <th>0</th>\n",
       "      <td>1</td>\n",
       "      <td>2</td>\n",
       "      <td>3</td>\n",
       "      <td>4</td>\n",
       "      <td>hello</td>\n",
       "    </tr>\n",
       "    <tr>\n",
       "      <th>1</th>\n",
       "      <td>5</td>\n",
       "      <td>6</td>\n",
       "      <td>7</td>\n",
       "      <td>8</td>\n",
       "      <td>world</td>\n",
       "    </tr>\n",
       "    <tr>\n",
       "      <th>2</th>\n",
       "      <td>9</td>\n",
       "      <td>10</td>\n",
       "      <td>11</td>\n",
       "      <td>12</td>\n",
       "      <td>foo</td>\n",
       "    </tr>\n",
       "  </tbody>\n",
       "</table>\n",
       "</div>"
      ],
      "text/plain": [
       "   a   b   c   d message\n",
       "0  1   2   3   4   hello\n",
       "1  5   6   7   8   world\n",
       "2  9  10  11  12     foo"
      ]
     },
     "execution_count": 13,
     "metadata": {},
     "output_type": "execute_result"
    }
   ],
   "source": [
    "# Parâmetro skiprows\n",
    "pd.read_csv(\"examples/ex4.csv\", skiprows=[0, 2, 3])\n"
   ]
  },
  {
   "cell_type": "code",
   "execution_count": 14,
   "id": "7e844492",
   "metadata": {},
   "outputs": [],
   "source": [
    "result = pd.read_csv(\"examples/ex5.csv\")\n"
   ]
  },
  {
   "cell_type": "code",
   "execution_count": 15,
   "id": "ce889e62",
   "metadata": {},
   "outputs": [
    {
     "data": {
      "application/vnd.microsoft.datawrangler.viewer.v0+json": {
       "columns": [
        {
         "name": "index",
         "rawType": "int64",
         "type": "integer"
        },
        {
         "name": "something",
         "rawType": "object",
         "type": "string"
        },
        {
         "name": "a",
         "rawType": "int64",
         "type": "integer"
        },
        {
         "name": "b",
         "rawType": "int64",
         "type": "integer"
        },
        {
         "name": "c",
         "rawType": "float64",
         "type": "float"
        },
        {
         "name": "d",
         "rawType": "int64",
         "type": "integer"
        },
        {
         "name": "message",
         "rawType": "object",
         "type": "unknown"
        }
       ],
       "ref": "4181c457-bd80-4b98-b539-37f1325b9e9f",
       "rows": [
        [
         "0",
         "one",
         "1",
         "2",
         "3.0",
         "4",
         null
        ],
        [
         "1",
         "two",
         "5",
         "6",
         null,
         "8",
         "world"
        ],
        [
         "2",
         "three",
         "9",
         "10",
         "11.0",
         "12",
         "foo"
        ]
       ],
       "shape": {
        "columns": 6,
        "rows": 3
       }
      },
      "text/html": [
       "<div>\n",
       "<style scoped>\n",
       "    .dataframe tbody tr th:only-of-type {\n",
       "        vertical-align: middle;\n",
       "    }\n",
       "\n",
       "    .dataframe tbody tr th {\n",
       "        vertical-align: top;\n",
       "    }\n",
       "\n",
       "    .dataframe thead th {\n",
       "        text-align: right;\n",
       "    }\n",
       "</style>\n",
       "<table border=\"1\" class=\"dataframe\">\n",
       "  <thead>\n",
       "    <tr style=\"text-align: right;\">\n",
       "      <th></th>\n",
       "      <th>something</th>\n",
       "      <th>a</th>\n",
       "      <th>b</th>\n",
       "      <th>c</th>\n",
       "      <th>d</th>\n",
       "      <th>message</th>\n",
       "    </tr>\n",
       "  </thead>\n",
       "  <tbody>\n",
       "    <tr>\n",
       "      <th>0</th>\n",
       "      <td>one</td>\n",
       "      <td>1</td>\n",
       "      <td>2</td>\n",
       "      <td>3.0</td>\n",
       "      <td>4</td>\n",
       "      <td>NaN</td>\n",
       "    </tr>\n",
       "    <tr>\n",
       "      <th>1</th>\n",
       "      <td>two</td>\n",
       "      <td>5</td>\n",
       "      <td>6</td>\n",
       "      <td>NaN</td>\n",
       "      <td>8</td>\n",
       "      <td>world</td>\n",
       "    </tr>\n",
       "    <tr>\n",
       "      <th>2</th>\n",
       "      <td>three</td>\n",
       "      <td>9</td>\n",
       "      <td>10</td>\n",
       "      <td>11.0</td>\n",
       "      <td>12</td>\n",
       "      <td>foo</td>\n",
       "    </tr>\n",
       "  </tbody>\n",
       "</table>\n",
       "</div>"
      ],
      "text/plain": [
       "  something  a   b     c   d message\n",
       "0       one  1   2   3.0   4     NaN\n",
       "1       two  5   6   NaN   8   world\n",
       "2     three  9  10  11.0  12     foo"
      ]
     },
     "execution_count": 15,
     "metadata": {},
     "output_type": "execute_result"
    }
   ],
   "source": [
    "result\n"
   ]
  },
  {
   "cell_type": "code",
   "execution_count": 16,
   "id": "adfb962c",
   "metadata": {},
   "outputs": [
    {
     "data": {
      "application/vnd.microsoft.datawrangler.viewer.v0+json": {
       "columns": [
        {
         "name": "index",
         "rawType": "int64",
         "type": "integer"
        },
        {
         "name": "something",
         "rawType": "bool",
         "type": "boolean"
        },
        {
         "name": "a",
         "rawType": "bool",
         "type": "boolean"
        },
        {
         "name": "b",
         "rawType": "bool",
         "type": "boolean"
        },
        {
         "name": "c",
         "rawType": "bool",
         "type": "boolean"
        },
        {
         "name": "d",
         "rawType": "bool",
         "type": "boolean"
        },
        {
         "name": "message",
         "rawType": "bool",
         "type": "boolean"
        }
       ],
       "ref": "21c5cf96-7abe-4e6d-b7c0-a1f29550610c",
       "rows": [
        [
         "0",
         "False",
         "False",
         "False",
         "False",
         "False",
         "True"
        ],
        [
         "1",
         "False",
         "False",
         "False",
         "True",
         "False",
         "False"
        ],
        [
         "2",
         "False",
         "False",
         "False",
         "False",
         "False",
         "False"
        ]
       ],
       "shape": {
        "columns": 6,
        "rows": 3
       }
      },
      "text/html": [
       "<div>\n",
       "<style scoped>\n",
       "    .dataframe tbody tr th:only-of-type {\n",
       "        vertical-align: middle;\n",
       "    }\n",
       "\n",
       "    .dataframe tbody tr th {\n",
       "        vertical-align: top;\n",
       "    }\n",
       "\n",
       "    .dataframe thead th {\n",
       "        text-align: right;\n",
       "    }\n",
       "</style>\n",
       "<table border=\"1\" class=\"dataframe\">\n",
       "  <thead>\n",
       "    <tr style=\"text-align: right;\">\n",
       "      <th></th>\n",
       "      <th>something</th>\n",
       "      <th>a</th>\n",
       "      <th>b</th>\n",
       "      <th>c</th>\n",
       "      <th>d</th>\n",
       "      <th>message</th>\n",
       "    </tr>\n",
       "  </thead>\n",
       "  <tbody>\n",
       "    <tr>\n",
       "      <th>0</th>\n",
       "      <td>False</td>\n",
       "      <td>False</td>\n",
       "      <td>False</td>\n",
       "      <td>False</td>\n",
       "      <td>False</td>\n",
       "      <td>True</td>\n",
       "    </tr>\n",
       "    <tr>\n",
       "      <th>1</th>\n",
       "      <td>False</td>\n",
       "      <td>False</td>\n",
       "      <td>False</td>\n",
       "      <td>True</td>\n",
       "      <td>False</td>\n",
       "      <td>False</td>\n",
       "    </tr>\n",
       "    <tr>\n",
       "      <th>2</th>\n",
       "      <td>False</td>\n",
       "      <td>False</td>\n",
       "      <td>False</td>\n",
       "      <td>False</td>\n",
       "      <td>False</td>\n",
       "      <td>False</td>\n",
       "    </tr>\n",
       "  </tbody>\n",
       "</table>\n",
       "</div>"
      ],
      "text/plain": [
       "   something      a      b      c      d  message\n",
       "0      False  False  False  False  False     True\n",
       "1      False  False  False   True  False    False\n",
       "2      False  False  False  False  False    False"
      ]
     },
     "execution_count": 16,
     "metadata": {},
     "output_type": "execute_result"
    }
   ],
   "source": [
    "pd.isna(result)\n"
   ]
  },
  {
   "cell_type": "code",
   "execution_count": 17,
   "id": "b5b3cf5e",
   "metadata": {},
   "outputs": [],
   "source": [
    "# Parâmetro na_values\n",
    "result = pd.read_csv(\"examples/ex5.csv\", na_values=[\"NULL\"])\n"
   ]
  },
  {
   "cell_type": "code",
   "execution_count": 18,
   "id": "7017e83c",
   "metadata": {},
   "outputs": [
    {
     "data": {
      "application/vnd.microsoft.datawrangler.viewer.v0+json": {
       "columns": [
        {
         "name": "index",
         "rawType": "int64",
         "type": "integer"
        },
        {
         "name": "something",
         "rawType": "object",
         "type": "string"
        },
        {
         "name": "a",
         "rawType": "int64",
         "type": "integer"
        },
        {
         "name": "b",
         "rawType": "int64",
         "type": "integer"
        },
        {
         "name": "c",
         "rawType": "float64",
         "type": "float"
        },
        {
         "name": "d",
         "rawType": "int64",
         "type": "integer"
        },
        {
         "name": "message",
         "rawType": "object",
         "type": "unknown"
        }
       ],
       "ref": "0c603fd2-222c-4b24-8a72-8dc65b3c2eb5",
       "rows": [
        [
         "0",
         "one",
         "1",
         "2",
         "3.0",
         "4",
         null
        ],
        [
         "1",
         "two",
         "5",
         "6",
         null,
         "8",
         "world"
        ],
        [
         "2",
         "three",
         "9",
         "10",
         "11.0",
         "12",
         "foo"
        ]
       ],
       "shape": {
        "columns": 6,
        "rows": 3
       }
      },
      "text/html": [
       "<div>\n",
       "<style scoped>\n",
       "    .dataframe tbody tr th:only-of-type {\n",
       "        vertical-align: middle;\n",
       "    }\n",
       "\n",
       "    .dataframe tbody tr th {\n",
       "        vertical-align: top;\n",
       "    }\n",
       "\n",
       "    .dataframe thead th {\n",
       "        text-align: right;\n",
       "    }\n",
       "</style>\n",
       "<table border=\"1\" class=\"dataframe\">\n",
       "  <thead>\n",
       "    <tr style=\"text-align: right;\">\n",
       "      <th></th>\n",
       "      <th>something</th>\n",
       "      <th>a</th>\n",
       "      <th>b</th>\n",
       "      <th>c</th>\n",
       "      <th>d</th>\n",
       "      <th>message</th>\n",
       "    </tr>\n",
       "  </thead>\n",
       "  <tbody>\n",
       "    <tr>\n",
       "      <th>0</th>\n",
       "      <td>one</td>\n",
       "      <td>1</td>\n",
       "      <td>2</td>\n",
       "      <td>3.0</td>\n",
       "      <td>4</td>\n",
       "      <td>NaN</td>\n",
       "    </tr>\n",
       "    <tr>\n",
       "      <th>1</th>\n",
       "      <td>two</td>\n",
       "      <td>5</td>\n",
       "      <td>6</td>\n",
       "      <td>NaN</td>\n",
       "      <td>8</td>\n",
       "      <td>world</td>\n",
       "    </tr>\n",
       "    <tr>\n",
       "      <th>2</th>\n",
       "      <td>three</td>\n",
       "      <td>9</td>\n",
       "      <td>10</td>\n",
       "      <td>11.0</td>\n",
       "      <td>12</td>\n",
       "      <td>foo</td>\n",
       "    </tr>\n",
       "  </tbody>\n",
       "</table>\n",
       "</div>"
      ],
      "text/plain": [
       "  something  a   b     c   d message\n",
       "0       one  1   2   3.0   4     NaN\n",
       "1       two  5   6   NaN   8   world\n",
       "2     three  9  10  11.0  12     foo"
      ]
     },
     "execution_count": 18,
     "metadata": {},
     "output_type": "execute_result"
    }
   ],
   "source": [
    "result\n"
   ]
  },
  {
   "cell_type": "code",
   "execution_count": 19,
   "id": "0153303f",
   "metadata": {},
   "outputs": [],
   "source": [
    "# Parâmetro keep_default_na\n",
    "result2 = pd.read_csv(\"examples/ex5.csv\", keep_default_na=False)\n"
   ]
  },
  {
   "cell_type": "code",
   "execution_count": 20,
   "id": "523fe8e9",
   "metadata": {},
   "outputs": [
    {
     "data": {
      "application/vnd.microsoft.datawrangler.viewer.v0+json": {
       "columns": [
        {
         "name": "index",
         "rawType": "int64",
         "type": "integer"
        },
        {
         "name": "something",
         "rawType": "object",
         "type": "string"
        },
        {
         "name": "a",
         "rawType": "int64",
         "type": "integer"
        },
        {
         "name": "b",
         "rawType": "int64",
         "type": "integer"
        },
        {
         "name": "c",
         "rawType": "object",
         "type": "string"
        },
        {
         "name": "d",
         "rawType": "int64",
         "type": "integer"
        },
        {
         "name": "message",
         "rawType": "object",
         "type": "string"
        }
       ],
       "ref": "a3c753e5-348b-42e5-9a86-2860ca6b992e",
       "rows": [
        [
         "0",
         "one",
         "1",
         "2",
         "3",
         "4",
         "NA"
        ],
        [
         "1",
         "two",
         "5",
         "6",
         "",
         "8",
         "world"
        ],
        [
         "2",
         "three",
         "9",
         "10",
         "11",
         "12",
         "foo"
        ]
       ],
       "shape": {
        "columns": 6,
        "rows": 3
       }
      },
      "text/html": [
       "<div>\n",
       "<style scoped>\n",
       "    .dataframe tbody tr th:only-of-type {\n",
       "        vertical-align: middle;\n",
       "    }\n",
       "\n",
       "    .dataframe tbody tr th {\n",
       "        vertical-align: top;\n",
       "    }\n",
       "\n",
       "    .dataframe thead th {\n",
       "        text-align: right;\n",
       "    }\n",
       "</style>\n",
       "<table border=\"1\" class=\"dataframe\">\n",
       "  <thead>\n",
       "    <tr style=\"text-align: right;\">\n",
       "      <th></th>\n",
       "      <th>something</th>\n",
       "      <th>a</th>\n",
       "      <th>b</th>\n",
       "      <th>c</th>\n",
       "      <th>d</th>\n",
       "      <th>message</th>\n",
       "    </tr>\n",
       "  </thead>\n",
       "  <tbody>\n",
       "    <tr>\n",
       "      <th>0</th>\n",
       "      <td>one</td>\n",
       "      <td>1</td>\n",
       "      <td>2</td>\n",
       "      <td>3</td>\n",
       "      <td>4</td>\n",
       "      <td>NA</td>\n",
       "    </tr>\n",
       "    <tr>\n",
       "      <th>1</th>\n",
       "      <td>two</td>\n",
       "      <td>5</td>\n",
       "      <td>6</td>\n",
       "      <td></td>\n",
       "      <td>8</td>\n",
       "      <td>world</td>\n",
       "    </tr>\n",
       "    <tr>\n",
       "      <th>2</th>\n",
       "      <td>three</td>\n",
       "      <td>9</td>\n",
       "      <td>10</td>\n",
       "      <td>11</td>\n",
       "      <td>12</td>\n",
       "      <td>foo</td>\n",
       "    </tr>\n",
       "  </tbody>\n",
       "</table>\n",
       "</div>"
      ],
      "text/plain": [
       "  something  a   b   c   d message\n",
       "0       one  1   2   3   4      NA\n",
       "1       two  5   6       8   world\n",
       "2     three  9  10  11  12     foo"
      ]
     },
     "execution_count": 20,
     "metadata": {},
     "output_type": "execute_result"
    }
   ],
   "source": [
    "result2\n"
   ]
  },
  {
   "cell_type": "code",
   "execution_count": 21,
   "id": "360a8a98",
   "metadata": {},
   "outputs": [
    {
     "data": {
      "application/vnd.microsoft.datawrangler.viewer.v0+json": {
       "columns": [
        {
         "name": "index",
         "rawType": "int64",
         "type": "integer"
        },
        {
         "name": "something",
         "rawType": "bool",
         "type": "boolean"
        },
        {
         "name": "a",
         "rawType": "bool",
         "type": "boolean"
        },
        {
         "name": "b",
         "rawType": "bool",
         "type": "boolean"
        },
        {
         "name": "c",
         "rawType": "bool",
         "type": "boolean"
        },
        {
         "name": "d",
         "rawType": "bool",
         "type": "boolean"
        },
        {
         "name": "message",
         "rawType": "bool",
         "type": "boolean"
        }
       ],
       "ref": "4cfd68b8-dbe4-4308-be79-3611ef68a083",
       "rows": [
        [
         "0",
         "False",
         "False",
         "False",
         "False",
         "False",
         "False"
        ],
        [
         "1",
         "False",
         "False",
         "False",
         "False",
         "False",
         "False"
        ],
        [
         "2",
         "False",
         "False",
         "False",
         "False",
         "False",
         "False"
        ]
       ],
       "shape": {
        "columns": 6,
        "rows": 3
       }
      },
      "text/html": [
       "<div>\n",
       "<style scoped>\n",
       "    .dataframe tbody tr th:only-of-type {\n",
       "        vertical-align: middle;\n",
       "    }\n",
       "\n",
       "    .dataframe tbody tr th {\n",
       "        vertical-align: top;\n",
       "    }\n",
       "\n",
       "    .dataframe thead th {\n",
       "        text-align: right;\n",
       "    }\n",
       "</style>\n",
       "<table border=\"1\" class=\"dataframe\">\n",
       "  <thead>\n",
       "    <tr style=\"text-align: right;\">\n",
       "      <th></th>\n",
       "      <th>something</th>\n",
       "      <th>a</th>\n",
       "      <th>b</th>\n",
       "      <th>c</th>\n",
       "      <th>d</th>\n",
       "      <th>message</th>\n",
       "    </tr>\n",
       "  </thead>\n",
       "  <tbody>\n",
       "    <tr>\n",
       "      <th>0</th>\n",
       "      <td>False</td>\n",
       "      <td>False</td>\n",
       "      <td>False</td>\n",
       "      <td>False</td>\n",
       "      <td>False</td>\n",
       "      <td>False</td>\n",
       "    </tr>\n",
       "    <tr>\n",
       "      <th>1</th>\n",
       "      <td>False</td>\n",
       "      <td>False</td>\n",
       "      <td>False</td>\n",
       "      <td>False</td>\n",
       "      <td>False</td>\n",
       "      <td>False</td>\n",
       "    </tr>\n",
       "    <tr>\n",
       "      <th>2</th>\n",
       "      <td>False</td>\n",
       "      <td>False</td>\n",
       "      <td>False</td>\n",
       "      <td>False</td>\n",
       "      <td>False</td>\n",
       "      <td>False</td>\n",
       "    </tr>\n",
       "  </tbody>\n",
       "</table>\n",
       "</div>"
      ],
      "text/plain": [
       "   something      a      b      c      d  message\n",
       "0      False  False  False  False  False    False\n",
       "1      False  False  False  False  False    False\n",
       "2      False  False  False  False  False    False"
      ]
     },
     "execution_count": 21,
     "metadata": {},
     "output_type": "execute_result"
    }
   ],
   "source": [
    "result2.isna()\n"
   ]
  },
  {
   "cell_type": "code",
   "execution_count": 22,
   "id": "72dc8e91",
   "metadata": {},
   "outputs": [],
   "source": [
    "result3 = pd.read_csv(\n",
    "    \"examples/ex5.csv\", keep_default_na=False, na_values=[\"NA\"]\n",
    ")\n"
   ]
  },
  {
   "cell_type": "code",
   "execution_count": 23,
   "id": "1987f030",
   "metadata": {},
   "outputs": [
    {
     "data": {
      "application/vnd.microsoft.datawrangler.viewer.v0+json": {
       "columns": [
        {
         "name": "index",
         "rawType": "int64",
         "type": "integer"
        },
        {
         "name": "something",
         "rawType": "object",
         "type": "string"
        },
        {
         "name": "a",
         "rawType": "int64",
         "type": "integer"
        },
        {
         "name": "b",
         "rawType": "int64",
         "type": "integer"
        },
        {
         "name": "c",
         "rawType": "object",
         "type": "string"
        },
        {
         "name": "d",
         "rawType": "int64",
         "type": "integer"
        },
        {
         "name": "message",
         "rawType": "object",
         "type": "unknown"
        }
       ],
       "ref": "34ab859f-76e9-4258-966b-064c6c930844",
       "rows": [
        [
         "0",
         "one",
         "1",
         "2",
         "3",
         "4",
         null
        ],
        [
         "1",
         "two",
         "5",
         "6",
         "",
         "8",
         "world"
        ],
        [
         "2",
         "three",
         "9",
         "10",
         "11",
         "12",
         "foo"
        ]
       ],
       "shape": {
        "columns": 6,
        "rows": 3
       }
      },
      "text/html": [
       "<div>\n",
       "<style scoped>\n",
       "    .dataframe tbody tr th:only-of-type {\n",
       "        vertical-align: middle;\n",
       "    }\n",
       "\n",
       "    .dataframe tbody tr th {\n",
       "        vertical-align: top;\n",
       "    }\n",
       "\n",
       "    .dataframe thead th {\n",
       "        text-align: right;\n",
       "    }\n",
       "</style>\n",
       "<table border=\"1\" class=\"dataframe\">\n",
       "  <thead>\n",
       "    <tr style=\"text-align: right;\">\n",
       "      <th></th>\n",
       "      <th>something</th>\n",
       "      <th>a</th>\n",
       "      <th>b</th>\n",
       "      <th>c</th>\n",
       "      <th>d</th>\n",
       "      <th>message</th>\n",
       "    </tr>\n",
       "  </thead>\n",
       "  <tbody>\n",
       "    <tr>\n",
       "      <th>0</th>\n",
       "      <td>one</td>\n",
       "      <td>1</td>\n",
       "      <td>2</td>\n",
       "      <td>3</td>\n",
       "      <td>4</td>\n",
       "      <td>NaN</td>\n",
       "    </tr>\n",
       "    <tr>\n",
       "      <th>1</th>\n",
       "      <td>two</td>\n",
       "      <td>5</td>\n",
       "      <td>6</td>\n",
       "      <td></td>\n",
       "      <td>8</td>\n",
       "      <td>world</td>\n",
       "    </tr>\n",
       "    <tr>\n",
       "      <th>2</th>\n",
       "      <td>three</td>\n",
       "      <td>9</td>\n",
       "      <td>10</td>\n",
       "      <td>11</td>\n",
       "      <td>12</td>\n",
       "      <td>foo</td>\n",
       "    </tr>\n",
       "  </tbody>\n",
       "</table>\n",
       "</div>"
      ],
      "text/plain": [
       "  something  a   b   c   d message\n",
       "0       one  1   2   3   4     NaN\n",
       "1       two  5   6       8   world\n",
       "2     three  9  10  11  12     foo"
      ]
     },
     "execution_count": 23,
     "metadata": {},
     "output_type": "execute_result"
    }
   ],
   "source": [
    "result3\n"
   ]
  },
  {
   "cell_type": "code",
   "execution_count": 24,
   "id": "c0901615",
   "metadata": {},
   "outputs": [
    {
     "data": {
      "application/vnd.microsoft.datawrangler.viewer.v0+json": {
       "columns": [
        {
         "name": "index",
         "rawType": "int64",
         "type": "integer"
        },
        {
         "name": "something",
         "rawType": "bool",
         "type": "boolean"
        },
        {
         "name": "a",
         "rawType": "bool",
         "type": "boolean"
        },
        {
         "name": "b",
         "rawType": "bool",
         "type": "boolean"
        },
        {
         "name": "c",
         "rawType": "bool",
         "type": "boolean"
        },
        {
         "name": "d",
         "rawType": "bool",
         "type": "boolean"
        },
        {
         "name": "message",
         "rawType": "bool",
         "type": "boolean"
        }
       ],
       "ref": "27674547-e081-4179-9713-b30ee3091d6f",
       "rows": [
        [
         "0",
         "False",
         "False",
         "False",
         "False",
         "False",
         "True"
        ],
        [
         "1",
         "False",
         "False",
         "False",
         "False",
         "False",
         "False"
        ],
        [
         "2",
         "False",
         "False",
         "False",
         "False",
         "False",
         "False"
        ]
       ],
       "shape": {
        "columns": 6,
        "rows": 3
       }
      },
      "text/html": [
       "<div>\n",
       "<style scoped>\n",
       "    .dataframe tbody tr th:only-of-type {\n",
       "        vertical-align: middle;\n",
       "    }\n",
       "\n",
       "    .dataframe tbody tr th {\n",
       "        vertical-align: top;\n",
       "    }\n",
       "\n",
       "    .dataframe thead th {\n",
       "        text-align: right;\n",
       "    }\n",
       "</style>\n",
       "<table border=\"1\" class=\"dataframe\">\n",
       "  <thead>\n",
       "    <tr style=\"text-align: right;\">\n",
       "      <th></th>\n",
       "      <th>something</th>\n",
       "      <th>a</th>\n",
       "      <th>b</th>\n",
       "      <th>c</th>\n",
       "      <th>d</th>\n",
       "      <th>message</th>\n",
       "    </tr>\n",
       "  </thead>\n",
       "  <tbody>\n",
       "    <tr>\n",
       "      <th>0</th>\n",
       "      <td>False</td>\n",
       "      <td>False</td>\n",
       "      <td>False</td>\n",
       "      <td>False</td>\n",
       "      <td>False</td>\n",
       "      <td>True</td>\n",
       "    </tr>\n",
       "    <tr>\n",
       "      <th>1</th>\n",
       "      <td>False</td>\n",
       "      <td>False</td>\n",
       "      <td>False</td>\n",
       "      <td>False</td>\n",
       "      <td>False</td>\n",
       "      <td>False</td>\n",
       "    </tr>\n",
       "    <tr>\n",
       "      <th>2</th>\n",
       "      <td>False</td>\n",
       "      <td>False</td>\n",
       "      <td>False</td>\n",
       "      <td>False</td>\n",
       "      <td>False</td>\n",
       "      <td>False</td>\n",
       "    </tr>\n",
       "  </tbody>\n",
       "</table>\n",
       "</div>"
      ],
      "text/plain": [
       "   something      a      b      c      d  message\n",
       "0      False  False  False  False  False     True\n",
       "1      False  False  False  False  False    False\n",
       "2      False  False  False  False  False    False"
      ]
     },
     "execution_count": 24,
     "metadata": {},
     "output_type": "execute_result"
    }
   ],
   "source": [
    "result3.isna()\n"
   ]
  },
  {
   "cell_type": "code",
   "execution_count": 25,
   "id": "74d66e92",
   "metadata": {},
   "outputs": [],
   "source": [
    "sentinels = {\"message\": [\"foo\", \"NA\"], \"something\": [\"two\"]}\n"
   ]
  },
  {
   "cell_type": "code",
   "execution_count": 26,
   "id": "0a4aeb14",
   "metadata": {},
   "outputs": [
    {
     "data": {
      "application/vnd.microsoft.datawrangler.viewer.v0+json": {
       "columns": [
        {
         "name": "index",
         "rawType": "int64",
         "type": "integer"
        },
        {
         "name": "something",
         "rawType": "object",
         "type": "unknown"
        },
        {
         "name": "a",
         "rawType": "int64",
         "type": "integer"
        },
        {
         "name": "b",
         "rawType": "int64",
         "type": "integer"
        },
        {
         "name": "c",
         "rawType": "object",
         "type": "string"
        },
        {
         "name": "d",
         "rawType": "int64",
         "type": "integer"
        },
        {
         "name": "message",
         "rawType": "object",
         "type": "unknown"
        }
       ],
       "ref": "6ce13e8e-2847-4a6b-8b2c-3ce4c805e4e7",
       "rows": [
        [
         "0",
         "one",
         "1",
         "2",
         "3",
         "4",
         null
        ],
        [
         "1",
         null,
         "5",
         "6",
         "",
         "8",
         "world"
        ],
        [
         "2",
         "three",
         "9",
         "10",
         "11",
         "12",
         null
        ]
       ],
       "shape": {
        "columns": 6,
        "rows": 3
       }
      },
      "text/html": [
       "<div>\n",
       "<style scoped>\n",
       "    .dataframe tbody tr th:only-of-type {\n",
       "        vertical-align: middle;\n",
       "    }\n",
       "\n",
       "    .dataframe tbody tr th {\n",
       "        vertical-align: top;\n",
       "    }\n",
       "\n",
       "    .dataframe thead th {\n",
       "        text-align: right;\n",
       "    }\n",
       "</style>\n",
       "<table border=\"1\" class=\"dataframe\">\n",
       "  <thead>\n",
       "    <tr style=\"text-align: right;\">\n",
       "      <th></th>\n",
       "      <th>something</th>\n",
       "      <th>a</th>\n",
       "      <th>b</th>\n",
       "      <th>c</th>\n",
       "      <th>d</th>\n",
       "      <th>message</th>\n",
       "    </tr>\n",
       "  </thead>\n",
       "  <tbody>\n",
       "    <tr>\n",
       "      <th>0</th>\n",
       "      <td>one</td>\n",
       "      <td>1</td>\n",
       "      <td>2</td>\n",
       "      <td>3</td>\n",
       "      <td>4</td>\n",
       "      <td>NaN</td>\n",
       "    </tr>\n",
       "    <tr>\n",
       "      <th>1</th>\n",
       "      <td>NaN</td>\n",
       "      <td>5</td>\n",
       "      <td>6</td>\n",
       "      <td></td>\n",
       "      <td>8</td>\n",
       "      <td>world</td>\n",
       "    </tr>\n",
       "    <tr>\n",
       "      <th>2</th>\n",
       "      <td>three</td>\n",
       "      <td>9</td>\n",
       "      <td>10</td>\n",
       "      <td>11</td>\n",
       "      <td>12</td>\n",
       "      <td>NaN</td>\n",
       "    </tr>\n",
       "  </tbody>\n",
       "</table>\n",
       "</div>"
      ],
      "text/plain": [
       "  something  a   b   c   d message\n",
       "0       one  1   2   3   4     NaN\n",
       "1       NaN  5   6       8   world\n",
       "2     three  9  10  11  12     NaN"
      ]
     },
     "execution_count": 26,
     "metadata": {},
     "output_type": "execute_result"
    }
   ],
   "source": [
    "pd.read_csv(\"examples/ex5.csv\", na_values=sentinels, keep_default_na=False)\n"
   ]
  },
  {
   "cell_type": "markdown",
   "id": "0a560fe1",
   "metadata": {},
   "source": [
    "### Leitura de arquivos de texto por partes"
   ]
  },
  {
   "cell_type": "code",
   "execution_count": 27,
   "id": "c9aa15e8",
   "metadata": {},
   "outputs": [],
   "source": [
    "pd.options.display.max_rows = 10\n"
   ]
  },
  {
   "cell_type": "code",
   "execution_count": 28,
   "id": "66eac58f",
   "metadata": {},
   "outputs": [],
   "source": [
    "result = pd.read_csv(\"examples/ex6.csv\")\n"
   ]
  },
  {
   "cell_type": "code",
   "execution_count": 29,
   "id": "9ca40184",
   "metadata": {},
   "outputs": [
    {
     "data": {
      "application/vnd.microsoft.datawrangler.viewer.v0+json": {
       "columns": [
        {
         "name": "index",
         "rawType": "int64",
         "type": "integer"
        },
        {
         "name": "one",
         "rawType": "float64",
         "type": "float"
        },
        {
         "name": "two",
         "rawType": "float64",
         "type": "float"
        },
        {
         "name": "three",
         "rawType": "float64",
         "type": "float"
        },
        {
         "name": "four",
         "rawType": "float64",
         "type": "float"
        },
        {
         "name": "key",
         "rawType": "object",
         "type": "string"
        }
       ],
       "ref": "700d6343-f700-4a49-ac9c-a674664232bc",
       "rows": [
        [
         "0",
         "0.467976300189",
         "-0.0386485396255",
         "-0.295344251987",
         "-1.82472622729",
         "L"
        ],
        [
         "1",
         "-0.358893469543",
         "1.40445260007",
         "0.704964644926",
         "-0.200638304015",
         "B"
        ],
        [
         "2",
         "-0.50184039929",
         "0.659253707223",
         "-0.421690619312",
         "-0.0576883018364",
         "G"
        ],
        [
         "3",
         "0.204886212202",
         "1.07413396504",
         "1.38836131252",
         "-0.982404023494",
         "R"
        ],
        [
         "4",
         "0.354627914484",
         "-0.133115852296",
         "0.283762637978",
         "-0.837062961653",
         "Q"
        ],
        [
         "5",
         "1.81748001608",
         "0.742272722638",
         "0.419394843928",
         "-2.25103520513",
         "Q"
        ],
        [
         "6",
         "-0.776764319165",
         "0.935517747061",
         "-0.332871759623",
         "-1.87564085416",
         "U"
        ],
        [
         "7",
         "-0.913134961617",
         "1.53062351168",
         "-0.572656719239",
         "0.477252252981",
         "K"
        ],
        [
         "8",
         "0.358479538224",
         "-0.49757199147",
         "-0.367016188009",
         "0.507701778685",
         "S"
        ],
        [
         "9",
         "-1.74087710829",
         "-1.16041658062",
         "-1.63783027929",
         "2.17220101238",
         "G"
        ],
        [
         "10",
         "0.24056373835",
         "-0.328249185208",
         "1.25215525783",
         "1.07279626643",
         "8"
        ],
        [
         "11",
         "0.764018252198",
         "1.16547617218",
         "-0.639544262638",
         "1.49525751956",
         "R"
        ],
        [
         "12",
         "0.571034923177",
         "-0.310537224251",
         "0.582437274651",
         "-0.2987651796",
         "1"
        ],
        [
         "13",
         "2.31765810894",
         "0.430709506296",
         "-1.33421573445",
         "0.199679483557",
         "P"
        ],
        [
         "14",
         "1.54777073472",
         "-1.11975292512",
         "-2.27763354506",
         "0.329585909852",
         "J"
        ],
        [
         "15",
         "-1.31060811665",
         "0.401719086645",
         "-1.00098707369",
         "1.15670834954",
         "E"
        ],
        [
         "16",
         "-0.0884964396951",
         "0.634711729043",
         "0.153323985774",
         "0.415334751149",
         "B"
        ],
        [
         "17",
         "-0.0186628260149",
         "-0.247487241047",
         "-1.44652215689",
         "0.750937748749",
         "A"
        ],
        [
         "18",
         "-0.0701272145463",
         "-1.57909726069",
         "0.120891794918",
         "0.671431885035",
         "F"
        ],
        [
         "19",
         "-0.194677940725",
         "-0.492039150308",
         "2.35960484963",
         "0.319810396195",
         "H"
        ],
        [
         "20",
         "-0.248617847177",
         "0.868706587235",
         "-0.492226143765",
         "-0.717959381922",
         "W"
        ],
        [
         "21",
         "-1.09154895394",
         "-0.867110226119",
         "-0.647760443099",
         "-0.832561559975",
         "C"
        ],
        [
         "22",
         "0.641404300148",
         "-0.138821578977",
         "-0.621962804042",
         "-0.284839425379",
         "C"
        ],
        [
         "23",
         "1.21640846838",
         "0.99268666512",
         "0.165161778012",
         "-0.0696186082242",
         "V"
        ],
        [
         "24",
         "-0.564474180519",
         "0.792832268133",
         "0.747052842907",
         "0.57167515791",
         "I"
        ],
        [
         "25",
         "1.75987899507",
         "-0.515665834496",
         "-0.230480686323",
         "1.36231722352",
         "S"
        ],
        [
         "26",
         "0.126266090531",
         "0.309281375664",
         "0.38281996138",
         "-0.239199054993",
         "L"
        ],
        [
         "27",
         "1.33436047951",
         "-0.100152166835",
         "-0.840730552173",
         "-0.643966598255",
         "6"
        ],
        [
         "28",
         "-0.737620017711",
         "0.278087463151",
         "-0.053235240431",
         "-0.950971590734",
         "J"
        ],
        [
         "29",
         "-1.1484864849",
         "-0.986292150868",
         "-0.144963115417",
         "0.124362404338",
         "Y"
        ],
        [
         "30",
         "1.63059449241",
         "0.243886206002",
         "0.468368306354",
         "1.25804787443",
         "F"
        ],
        [
         "31",
         "1.04488953219",
         "0.0807175385621",
         "0.857885542829",
         "-0.298381802517",
         "J"
        ],
        [
         "32",
         "-0.262542542362",
         "-1.61519874791",
         "-1.08723871374",
         "0.759029075237",
         "T"
        ],
        [
         "33",
         "0.0201440713103",
         "1.10779156618",
         "-0.559435335039",
         "-0.481925210095",
         "M"
        ],
        [
         "34",
         "-1.20391554609",
         "1.88534310731",
         "-0.0804704068388",
         "0.25064589327",
         "J"
        ],
        [
         "35",
         "0.366914548813",
         "-2.43008643092",
         "-1.05344696342",
         "0.346278884194",
         "A"
        ],
        [
         "36",
         "0.434220473424",
         "-0.0798625386706",
         "-0.422976747932",
         "-0.0742721760915",
         "I"
        ],
        [
         "37",
         "0.0406656980213",
         "-1.81021570262",
         "-0.189192727269",
         "1.22926636581",
         "G"
        ],
        [
         "38",
         "1.33845943246",
         "0.338489099729",
         "-0.213446105129",
         "2.32592341971",
         "Q"
        ],
        [
         "39",
         "0.572981073363",
         "0.782663875351",
         "1.30767321124",
         "1.61995725335",
         "X"
        ],
        [
         "40",
         "0.762428447112",
         "-0.648528798886",
         "1.93651473707",
         "-1.15966561312",
         "J"
        ],
        [
         "41",
         "-1.25204557796",
         "-1.53853949038",
         "1.0422813822",
         "0.623835121823",
         "A"
        ],
        [
         "42",
         "-0.0475302140596",
         "-0.494310199706",
         "-0.165460018905",
         "0.472929032513",
         "J"
        ],
        [
         "43",
         "0.124547711991",
         "0.730791450242",
         "-0.25752685093",
         "-1.51125664924",
         "G"
        ],
        [
         "44",
         "0.801889237656",
         "-0.462780621429",
         "-1.73462083332",
         "0.674768319362",
         "R"
        ],
        [
         "45",
         "-0.992306666472",
         "-1.09683007882",
         "-2.0617943017",
         "0.035390605957",
         "R"
        ],
        [
         "46",
         "-0.109662774864",
         "2.57709376617",
         "0.91356252242",
         "0.613594050216",
         "V"
        ],
        [
         "47",
         "-0.541680906279",
         "1.5100313553",
         "0.467944825377",
         "0.553225037837",
         "N"
        ],
        [
         "48",
         "-0.0795865737601",
         "-0.609923697841",
         "0.35383422895",
         "1.10803005914",
         "M"
        ],
        [
         "49",
         "-0.0437516462601",
         "-0.410666385961",
         "-0.729599036366",
         "0.263223371713",
         "P"
        ]
       ],
       "shape": {
        "columns": 5,
        "rows": 10000
       }
      },
      "text/html": [
       "<div>\n",
       "<style scoped>\n",
       "    .dataframe tbody tr th:only-of-type {\n",
       "        vertical-align: middle;\n",
       "    }\n",
       "\n",
       "    .dataframe tbody tr th {\n",
       "        vertical-align: top;\n",
       "    }\n",
       "\n",
       "    .dataframe thead th {\n",
       "        text-align: right;\n",
       "    }\n",
       "</style>\n",
       "<table border=\"1\" class=\"dataframe\">\n",
       "  <thead>\n",
       "    <tr style=\"text-align: right;\">\n",
       "      <th></th>\n",
       "      <th>one</th>\n",
       "      <th>two</th>\n",
       "      <th>three</th>\n",
       "      <th>four</th>\n",
       "      <th>key</th>\n",
       "    </tr>\n",
       "  </thead>\n",
       "  <tbody>\n",
       "    <tr>\n",
       "      <th>0</th>\n",
       "      <td>0.467976</td>\n",
       "      <td>-0.038649</td>\n",
       "      <td>-0.295344</td>\n",
       "      <td>-1.824726</td>\n",
       "      <td>L</td>\n",
       "    </tr>\n",
       "    <tr>\n",
       "      <th>1</th>\n",
       "      <td>-0.358893</td>\n",
       "      <td>1.404453</td>\n",
       "      <td>0.704965</td>\n",
       "      <td>-0.200638</td>\n",
       "      <td>B</td>\n",
       "    </tr>\n",
       "    <tr>\n",
       "      <th>2</th>\n",
       "      <td>-0.501840</td>\n",
       "      <td>0.659254</td>\n",
       "      <td>-0.421691</td>\n",
       "      <td>-0.057688</td>\n",
       "      <td>G</td>\n",
       "    </tr>\n",
       "    <tr>\n",
       "      <th>3</th>\n",
       "      <td>0.204886</td>\n",
       "      <td>1.074134</td>\n",
       "      <td>1.388361</td>\n",
       "      <td>-0.982404</td>\n",
       "      <td>R</td>\n",
       "    </tr>\n",
       "    <tr>\n",
       "      <th>4</th>\n",
       "      <td>0.354628</td>\n",
       "      <td>-0.133116</td>\n",
       "      <td>0.283763</td>\n",
       "      <td>-0.837063</td>\n",
       "      <td>Q</td>\n",
       "    </tr>\n",
       "    <tr>\n",
       "      <th>...</th>\n",
       "      <td>...</td>\n",
       "      <td>...</td>\n",
       "      <td>...</td>\n",
       "      <td>...</td>\n",
       "      <td>...</td>\n",
       "    </tr>\n",
       "    <tr>\n",
       "      <th>9995</th>\n",
       "      <td>2.311896</td>\n",
       "      <td>-0.417070</td>\n",
       "      <td>-1.409599</td>\n",
       "      <td>-0.515821</td>\n",
       "      <td>L</td>\n",
       "    </tr>\n",
       "    <tr>\n",
       "      <th>9996</th>\n",
       "      <td>-0.479893</td>\n",
       "      <td>-0.650419</td>\n",
       "      <td>0.745152</td>\n",
       "      <td>-0.646038</td>\n",
       "      <td>E</td>\n",
       "    </tr>\n",
       "    <tr>\n",
       "      <th>9997</th>\n",
       "      <td>0.523331</td>\n",
       "      <td>0.787112</td>\n",
       "      <td>0.486066</td>\n",
       "      <td>1.093156</td>\n",
       "      <td>K</td>\n",
       "    </tr>\n",
       "    <tr>\n",
       "      <th>9998</th>\n",
       "      <td>-0.362559</td>\n",
       "      <td>0.598894</td>\n",
       "      <td>-1.843201</td>\n",
       "      <td>0.887292</td>\n",
       "      <td>G</td>\n",
       "    </tr>\n",
       "    <tr>\n",
       "      <th>9999</th>\n",
       "      <td>-0.096376</td>\n",
       "      <td>-1.012999</td>\n",
       "      <td>-0.657431</td>\n",
       "      <td>-0.573315</td>\n",
       "      <td>0</td>\n",
       "    </tr>\n",
       "  </tbody>\n",
       "</table>\n",
       "<p>10000 rows × 5 columns</p>\n",
       "</div>"
      ],
      "text/plain": [
       "           one       two     three      four key\n",
       "0     0.467976 -0.038649 -0.295344 -1.824726   L\n",
       "1    -0.358893  1.404453  0.704965 -0.200638   B\n",
       "2    -0.501840  0.659254 -0.421691 -0.057688   G\n",
       "3     0.204886  1.074134  1.388361 -0.982404   R\n",
       "4     0.354628 -0.133116  0.283763 -0.837063   Q\n",
       "...        ...       ...       ...       ...  ..\n",
       "9995  2.311896 -0.417070 -1.409599 -0.515821   L\n",
       "9996 -0.479893 -0.650419  0.745152 -0.646038   E\n",
       "9997  0.523331  0.787112  0.486066  1.093156   K\n",
       "9998 -0.362559  0.598894 -1.843201  0.887292   G\n",
       "9999 -0.096376 -1.012999 -0.657431 -0.573315   0\n",
       "\n",
       "[10000 rows x 5 columns]"
      ]
     },
     "execution_count": 29,
     "metadata": {},
     "output_type": "execute_result"
    }
   ],
   "source": [
    "result\n"
   ]
  },
  {
   "cell_type": "code",
   "execution_count": 30,
   "id": "01148c13",
   "metadata": {},
   "outputs": [
    {
     "data": {
      "application/vnd.microsoft.datawrangler.viewer.v0+json": {
       "columns": [
        {
         "name": "index",
         "rawType": "int64",
         "type": "integer"
        },
        {
         "name": "one",
         "rawType": "float64",
         "type": "float"
        },
        {
         "name": "two",
         "rawType": "float64",
         "type": "float"
        },
        {
         "name": "three",
         "rawType": "float64",
         "type": "float"
        },
        {
         "name": "four",
         "rawType": "float64",
         "type": "float"
        },
        {
         "name": "key",
         "rawType": "object",
         "type": "string"
        }
       ],
       "ref": "66e4cf17-2033-4803-a647-93ee775122f0",
       "rows": [
        [
         "0",
         "0.467976300189",
         "-0.0386485396255",
         "-0.295344251987",
         "-1.82472622729",
         "L"
        ],
        [
         "1",
         "-0.358893469543",
         "1.40445260007",
         "0.704964644926",
         "-0.200638304015",
         "B"
        ],
        [
         "2",
         "-0.50184039929",
         "0.659253707223",
         "-0.421690619312",
         "-0.0576883018364",
         "G"
        ],
        [
         "3",
         "0.204886212202",
         "1.07413396504",
         "1.38836131252",
         "-0.982404023494",
         "R"
        ],
        [
         "4",
         "0.354627914484",
         "-0.133115852296",
         "0.283762637978",
         "-0.837062961653",
         "Q"
        ]
       ],
       "shape": {
        "columns": 5,
        "rows": 5
       }
      },
      "text/html": [
       "<div>\n",
       "<style scoped>\n",
       "    .dataframe tbody tr th:only-of-type {\n",
       "        vertical-align: middle;\n",
       "    }\n",
       "\n",
       "    .dataframe tbody tr th {\n",
       "        vertical-align: top;\n",
       "    }\n",
       "\n",
       "    .dataframe thead th {\n",
       "        text-align: right;\n",
       "    }\n",
       "</style>\n",
       "<table border=\"1\" class=\"dataframe\">\n",
       "  <thead>\n",
       "    <tr style=\"text-align: right;\">\n",
       "      <th></th>\n",
       "      <th>one</th>\n",
       "      <th>two</th>\n",
       "      <th>three</th>\n",
       "      <th>four</th>\n",
       "      <th>key</th>\n",
       "    </tr>\n",
       "  </thead>\n",
       "  <tbody>\n",
       "    <tr>\n",
       "      <th>0</th>\n",
       "      <td>0.467976</td>\n",
       "      <td>-0.038649</td>\n",
       "      <td>-0.295344</td>\n",
       "      <td>-1.824726</td>\n",
       "      <td>L</td>\n",
       "    </tr>\n",
       "    <tr>\n",
       "      <th>1</th>\n",
       "      <td>-0.358893</td>\n",
       "      <td>1.404453</td>\n",
       "      <td>0.704965</td>\n",
       "      <td>-0.200638</td>\n",
       "      <td>B</td>\n",
       "    </tr>\n",
       "    <tr>\n",
       "      <th>2</th>\n",
       "      <td>-0.501840</td>\n",
       "      <td>0.659254</td>\n",
       "      <td>-0.421691</td>\n",
       "      <td>-0.057688</td>\n",
       "      <td>G</td>\n",
       "    </tr>\n",
       "    <tr>\n",
       "      <th>3</th>\n",
       "      <td>0.204886</td>\n",
       "      <td>1.074134</td>\n",
       "      <td>1.388361</td>\n",
       "      <td>-0.982404</td>\n",
       "      <td>R</td>\n",
       "    </tr>\n",
       "    <tr>\n",
       "      <th>4</th>\n",
       "      <td>0.354628</td>\n",
       "      <td>-0.133116</td>\n",
       "      <td>0.283763</td>\n",
       "      <td>-0.837063</td>\n",
       "      <td>Q</td>\n",
       "    </tr>\n",
       "  </tbody>\n",
       "</table>\n",
       "</div>"
      ],
      "text/plain": [
       "        one       two     three      four key\n",
       "0  0.467976 -0.038649 -0.295344 -1.824726   L\n",
       "1 -0.358893  1.404453  0.704965 -0.200638   B\n",
       "2 -0.501840  0.659254 -0.421691 -0.057688   G\n",
       "3  0.204886  1.074134  1.388361 -0.982404   R\n",
       "4  0.354628 -0.133116  0.283763 -0.837063   Q"
      ]
     },
     "execution_count": 30,
     "metadata": {},
     "output_type": "execute_result"
    }
   ],
   "source": [
    "# Parâmetro nrows\n",
    "pd.read_csv(\"examples/ex6.csv\", nrows=5)\n"
   ]
  },
  {
   "cell_type": "code",
   "execution_count": 31,
   "id": "41c79736",
   "metadata": {},
   "outputs": [],
   "source": [
    "# Parâmetro chunksize\n",
    "chunker = pd.read_csv(\"examples/ex6.csv\", chunksize=1000)\n"
   ]
  },
  {
   "cell_type": "code",
   "execution_count": 32,
   "id": "90bbc385",
   "metadata": {},
   "outputs": [
    {
     "data": {
      "text/plain": [
       "pandas.io.parsers.readers.TextFileReader"
      ]
     },
     "execution_count": 32,
     "metadata": {},
     "output_type": "execute_result"
    }
   ],
   "source": [
    "type(chunker)\n"
   ]
  },
  {
   "cell_type": "code",
   "execution_count": 33,
   "id": "e8c1afc5",
   "metadata": {},
   "outputs": [],
   "source": [
    "tot = pd.Series([], dtype=\"int64\")\n",
    "for piece in chunker:\n",
    "    tot = tot.add(piece[\"key\"].value_counts(), fill_value=0)\n",
    "\n",
    "tot = tot.sort_values(ascending=False)\n"
   ]
  },
  {
   "cell_type": "code",
   "execution_count": 34,
   "id": "a1893894",
   "metadata": {},
   "outputs": [
    {
     "data": {
      "application/vnd.microsoft.datawrangler.viewer.v0+json": {
       "columns": [
        {
         "name": "key",
         "rawType": "object",
         "type": "string"
        },
        {
         "name": "0",
         "rawType": "float64",
         "type": "float"
        }
       ],
       "ref": "8e727366-e297-44df-8f4b-ec3e3585f103",
       "rows": [
        [
         "E",
         "368.0"
        ],
        [
         "X",
         "364.0"
        ],
        [
         "L",
         "346.0"
        ],
        [
         "O",
         "343.0"
        ],
        [
         "Q",
         "340.0"
        ],
        [
         "M",
         "338.0"
        ],
        [
         "J",
         "337.0"
        ],
        [
         "F",
         "335.0"
        ],
        [
         "K",
         "334.0"
        ],
        [
         "H",
         "330.0"
        ]
       ],
       "shape": {
        "columns": 1,
        "rows": 10
       }
      },
      "text/plain": [
       "key\n",
       "E    368.0\n",
       "X    364.0\n",
       "L    346.0\n",
       "O    343.0\n",
       "Q    340.0\n",
       "M    338.0\n",
       "J    337.0\n",
       "F    335.0\n",
       "K    334.0\n",
       "H    330.0\n",
       "dtype: float64"
      ]
     },
     "execution_count": 34,
     "metadata": {},
     "output_type": "execute_result"
    }
   ],
   "source": [
    "tot[:10]\n"
   ]
  },
  {
   "cell_type": "markdown",
   "id": "100cb8a1",
   "metadata": {},
   "source": [
    "### Gravação de dados em formato texto"
   ]
  },
  {
   "cell_type": "code",
   "execution_count": 35,
   "id": "b80d8e01",
   "metadata": {},
   "outputs": [],
   "source": [
    "data = pd.read_csv(\"examples/ex5.csv\")\n"
   ]
  },
  {
   "cell_type": "code",
   "execution_count": 36,
   "id": "1df6e22f",
   "metadata": {},
   "outputs": [
    {
     "data": {
      "application/vnd.microsoft.datawrangler.viewer.v0+json": {
       "columns": [
        {
         "name": "index",
         "rawType": "int64",
         "type": "integer"
        },
        {
         "name": "something",
         "rawType": "object",
         "type": "string"
        },
        {
         "name": "a",
         "rawType": "int64",
         "type": "integer"
        },
        {
         "name": "b",
         "rawType": "int64",
         "type": "integer"
        },
        {
         "name": "c",
         "rawType": "float64",
         "type": "float"
        },
        {
         "name": "d",
         "rawType": "int64",
         "type": "integer"
        },
        {
         "name": "message",
         "rawType": "object",
         "type": "unknown"
        }
       ],
       "ref": "23fc4217-cced-4029-8305-df0670da410a",
       "rows": [
        [
         "0",
         "one",
         "1",
         "2",
         "3.0",
         "4",
         null
        ],
        [
         "1",
         "two",
         "5",
         "6",
         null,
         "8",
         "world"
        ],
        [
         "2",
         "three",
         "9",
         "10",
         "11.0",
         "12",
         "foo"
        ]
       ],
       "shape": {
        "columns": 6,
        "rows": 3
       }
      },
      "text/html": [
       "<div>\n",
       "<style scoped>\n",
       "    .dataframe tbody tr th:only-of-type {\n",
       "        vertical-align: middle;\n",
       "    }\n",
       "\n",
       "    .dataframe tbody tr th {\n",
       "        vertical-align: top;\n",
       "    }\n",
       "\n",
       "    .dataframe thead th {\n",
       "        text-align: right;\n",
       "    }\n",
       "</style>\n",
       "<table border=\"1\" class=\"dataframe\">\n",
       "  <thead>\n",
       "    <tr style=\"text-align: right;\">\n",
       "      <th></th>\n",
       "      <th>something</th>\n",
       "      <th>a</th>\n",
       "      <th>b</th>\n",
       "      <th>c</th>\n",
       "      <th>d</th>\n",
       "      <th>message</th>\n",
       "    </tr>\n",
       "  </thead>\n",
       "  <tbody>\n",
       "    <tr>\n",
       "      <th>0</th>\n",
       "      <td>one</td>\n",
       "      <td>1</td>\n",
       "      <td>2</td>\n",
       "      <td>3.0</td>\n",
       "      <td>4</td>\n",
       "      <td>NaN</td>\n",
       "    </tr>\n",
       "    <tr>\n",
       "      <th>1</th>\n",
       "      <td>two</td>\n",
       "      <td>5</td>\n",
       "      <td>6</td>\n",
       "      <td>NaN</td>\n",
       "      <td>8</td>\n",
       "      <td>world</td>\n",
       "    </tr>\n",
       "    <tr>\n",
       "      <th>2</th>\n",
       "      <td>three</td>\n",
       "      <td>9</td>\n",
       "      <td>10</td>\n",
       "      <td>11.0</td>\n",
       "      <td>12</td>\n",
       "      <td>foo</td>\n",
       "    </tr>\n",
       "  </tbody>\n",
       "</table>\n",
       "</div>"
      ],
      "text/plain": [
       "  something  a   b     c   d message\n",
       "0       one  1   2   3.0   4     NaN\n",
       "1       two  5   6   NaN   8   world\n",
       "2     three  9  10  11.0  12     foo"
      ]
     },
     "execution_count": 36,
     "metadata": {},
     "output_type": "execute_result"
    }
   ],
   "source": [
    "data\n"
   ]
  },
  {
   "cell_type": "code",
   "execution_count": 37,
   "id": "c7f62a88",
   "metadata": {},
   "outputs": [],
   "source": [
    "data.to_csv(\"examples/out.csv\")\n"
   ]
  },
  {
   "cell_type": "code",
   "execution_count": 38,
   "id": "e04becc4",
   "metadata": {},
   "outputs": [],
   "source": [
    "import sys\n"
   ]
  },
  {
   "cell_type": "code",
   "execution_count": 39,
   "id": "0c55ecd0",
   "metadata": {},
   "outputs": [
    {
     "name": "stdout",
     "output_type": "stream",
     "text": [
      "|something|a|b|c|d|message\n",
      "0|one|1|2|3.0|4|\n",
      "1|two|5|6||8|world\n",
      "2|three|9|10|11.0|12|foo\n"
     ]
    }
   ],
   "source": [
    "data.to_csv(sys.stdout, sep=\"|\")\n"
   ]
  },
  {
   "cell_type": "code",
   "execution_count": 40,
   "id": "be83dc2f",
   "metadata": {},
   "outputs": [
    {
     "name": "stdout",
     "output_type": "stream",
     "text": [
      ",something,a,b,c,d,message\n",
      "0,one,1,2,3.0,4,NULL\n",
      "1,two,5,6,NULL,8,world\n",
      "2,three,9,10,11.0,12,foo\n"
     ]
    }
   ],
   "source": [
    "data.to_csv(sys.stdout, na_rep=\"NULL\")\n"
   ]
  },
  {
   "cell_type": "code",
   "execution_count": 41,
   "id": "b234c1f8",
   "metadata": {},
   "outputs": [
    {
     "name": "stdout",
     "output_type": "stream",
     "text": [
      "one,1,2,3.0,4,\n",
      "two,5,6,,8,world\n",
      "three,9,10,11.0,12,foo\n"
     ]
    }
   ],
   "source": [
    "# Omitir os rótulos das linhas e colunas\n",
    "data.to_csv(sys.stdout, index=False, header=False)\n"
   ]
  },
  {
   "cell_type": "code",
   "execution_count": 42,
   "id": "963c4c25",
   "metadata": {},
   "outputs": [
    {
     "name": "stdout",
     "output_type": "stream",
     "text": [
      "a,b,c\n",
      "1,2,3.0\n",
      "5,6,\n",
      "9,10,11.0\n"
     ]
    }
   ],
   "source": [
    "data.to_csv(sys.stdout, index=False, columns=[\"a\", \"b\", \"c\"])\n"
   ]
  },
  {
   "cell_type": "markdown",
   "id": "aef31adf",
   "metadata": {},
   "source": [
    "### Trabalhando com outros formatos delimitados"
   ]
  },
  {
   "cell_type": "code",
   "execution_count": 43,
   "id": "59b4ae2e",
   "metadata": {},
   "outputs": [],
   "source": [
    "import csv\n"
   ]
  },
  {
   "cell_type": "code",
   "execution_count": 44,
   "id": "79d793cd",
   "metadata": {},
   "outputs": [],
   "source": [
    "f = open(\"examples/ex7.csv\")\n"
   ]
  },
  {
   "cell_type": "code",
   "execution_count": 45,
   "id": "6c248c6f",
   "metadata": {},
   "outputs": [],
   "source": [
    "reader = csv.reader(f)\n"
   ]
  },
  {
   "cell_type": "code",
   "execution_count": 46,
   "id": "87a8d2dc",
   "metadata": {},
   "outputs": [
    {
     "name": "stdout",
     "output_type": "stream",
     "text": [
      "['a', 'b', 'c']\n",
      "['1', '2', '3']\n",
      "['1', '2', '3']\n"
     ]
    }
   ],
   "source": [
    "for line in reader:\n",
    "    print(line)\n"
   ]
  },
  {
   "cell_type": "code",
   "execution_count": 47,
   "id": "e3d1fbb0",
   "metadata": {},
   "outputs": [],
   "source": [
    "f.close()\n"
   ]
  },
  {
   "cell_type": "code",
   "execution_count": 48,
   "id": "993a940e",
   "metadata": {},
   "outputs": [],
   "source": [
    "with open(\"examples/ex7.csv\") as f:\n",
    "    lines = list(csv.reader(f))\n"
   ]
  },
  {
   "cell_type": "code",
   "execution_count": 49,
   "id": "fac9da1d",
   "metadata": {},
   "outputs": [],
   "source": [
    "header, values = lines[0], lines[1:]\n"
   ]
  },
  {
   "cell_type": "code",
   "execution_count": 50,
   "id": "fab21e3c",
   "metadata": {},
   "outputs": [],
   "source": [
    "data_dict = {h: v for h, v in zip(header, zip(*values))}\n"
   ]
  },
  {
   "cell_type": "code",
   "execution_count": 51,
   "id": "041e9e2e",
   "metadata": {},
   "outputs": [
    {
     "data": {
      "text/plain": [
       "{'a': ('1', '1'), 'b': ('2', '2'), 'c': ('3', '3')}"
      ]
     },
     "execution_count": 51,
     "metadata": {},
     "output_type": "execute_result"
    }
   ],
   "source": [
    "data_dict\n"
   ]
  },
  {
   "cell_type": "code",
   "execution_count": 52,
   "id": "d456690b",
   "metadata": {},
   "outputs": [],
   "source": [
    "class MyDialect(csv.Dialect):\n",
    "    lineterminator = \"\\n\"\n",
    "    delimiter = \";\"\n",
    "    quotechar = '\"'\n",
    "    quoting = csv.QUOTE_MINIMAL\n"
   ]
  },
  {
   "cell_type": "code",
   "execution_count": 53,
   "id": "c5ecdb44",
   "metadata": {},
   "outputs": [],
   "source": [
    "with open(\"mydata.csv\", \"w\") as f:\n",
    "    writer = csv.writer(f, dialect=MyDialect)\n",
    "    writer.writerow((\"one\", \"two\", \"three\"))\n",
    "    writer.writerow((\"1\", \"2\", \"3\"))\n",
    "    writer.writerow((\"4\", \"5\", \"6\"))\n",
    "    writer.writerow((\"7\", \"8\", \"9\"))\n"
   ]
  },
  {
   "cell_type": "markdown",
   "id": "425b8214",
   "metadata": {},
   "source": [
    "### Dados JSON"
   ]
  },
  {
   "cell_type": "code",
   "execution_count": 54,
   "id": "cc78bce7",
   "metadata": {},
   "outputs": [],
   "source": [
    "obj = \"\"\"\n",
    "{\"name\": \"Wes\",\n",
    "    \"cities_lived\": [\"Akron\", \"Nashville\", \"New York\", \"San Francisco\"],\n",
    "    \"pet\": null,\n",
    "    \"siblings\": [{\"name\": \"Scott\", \"age\": 34, \"hobbies\": [\"guitars\", \"soccer\"]},\n",
    "                {\"name\": \"Katie\", \"age\": 42, \"hobbies\": [\"diving\", \"art\"]}]\n",
    "    \n",
    "}\n",
    "\"\"\"\n"
   ]
  },
  {
   "cell_type": "code",
   "execution_count": 55,
   "id": "2eaeb6eb",
   "metadata": {},
   "outputs": [],
   "source": [
    "import json\n"
   ]
  },
  {
   "cell_type": "code",
   "execution_count": 56,
   "id": "354433c3",
   "metadata": {},
   "outputs": [],
   "source": [
    "result = json.loads(obj)\n"
   ]
  },
  {
   "cell_type": "code",
   "execution_count": 57,
   "id": "3a612514",
   "metadata": {},
   "outputs": [
    {
     "data": {
      "text/plain": [
       "{'name': 'Wes',\n",
       " 'cities_lived': ['Akron', 'Nashville', 'New York', 'San Francisco'],\n",
       " 'pet': None,\n",
       " 'siblings': [{'name': 'Scott', 'age': 34, 'hobbies': ['guitars', 'soccer']},\n",
       "  {'name': 'Katie', 'age': 42, 'hobbies': ['diving', 'art']}]}"
      ]
     },
     "execution_count": 57,
     "metadata": {},
     "output_type": "execute_result"
    }
   ],
   "source": [
    "result\n"
   ]
  },
  {
   "cell_type": "code",
   "execution_count": 58,
   "id": "faf6c188",
   "metadata": {},
   "outputs": [],
   "source": [
    "asjson = json.dumps(result)\n"
   ]
  },
  {
   "cell_type": "code",
   "execution_count": 59,
   "id": "32f41e09",
   "metadata": {},
   "outputs": [
    {
     "data": {
      "text/plain": [
       "'{\"name\": \"Wes\", \"cities_lived\": [\"Akron\", \"Nashville\", \"New York\", \"San Francisco\"], \"pet\": null, \"siblings\": [{\"name\": \"Scott\", \"age\": 34, \"hobbies\": [\"guitars\", \"soccer\"]}, {\"name\": \"Katie\", \"age\": 42, \"hobbies\": [\"diving\", \"art\"]}]}'"
      ]
     },
     "execution_count": 59,
     "metadata": {},
     "output_type": "execute_result"
    }
   ],
   "source": [
    "asjson\n"
   ]
  },
  {
   "cell_type": "code",
   "execution_count": 60,
   "id": "547215f5",
   "metadata": {},
   "outputs": [],
   "source": [
    "siblings = pd.DataFrame(result[\"siblings\"], columns=[\"name\", \"age\"])\n"
   ]
  },
  {
   "cell_type": "code",
   "execution_count": 61,
   "id": "529b79c5",
   "metadata": {},
   "outputs": [
    {
     "data": {
      "application/vnd.microsoft.datawrangler.viewer.v0+json": {
       "columns": [
        {
         "name": "index",
         "rawType": "int64",
         "type": "integer"
        },
        {
         "name": "name",
         "rawType": "object",
         "type": "string"
        },
        {
         "name": "age",
         "rawType": "int64",
         "type": "integer"
        }
       ],
       "ref": "171311a6-e1ea-4aed-9cae-98e766d02cb7",
       "rows": [
        [
         "0",
         "Scott",
         "34"
        ],
        [
         "1",
         "Katie",
         "42"
        ]
       ],
       "shape": {
        "columns": 2,
        "rows": 2
       }
      },
      "text/html": [
       "<div>\n",
       "<style scoped>\n",
       "    .dataframe tbody tr th:only-of-type {\n",
       "        vertical-align: middle;\n",
       "    }\n",
       "\n",
       "    .dataframe tbody tr th {\n",
       "        vertical-align: top;\n",
       "    }\n",
       "\n",
       "    .dataframe thead th {\n",
       "        text-align: right;\n",
       "    }\n",
       "</style>\n",
       "<table border=\"1\" class=\"dataframe\">\n",
       "  <thead>\n",
       "    <tr style=\"text-align: right;\">\n",
       "      <th></th>\n",
       "      <th>name</th>\n",
       "      <th>age</th>\n",
       "    </tr>\n",
       "  </thead>\n",
       "  <tbody>\n",
       "    <tr>\n",
       "      <th>0</th>\n",
       "      <td>Scott</td>\n",
       "      <td>34</td>\n",
       "    </tr>\n",
       "    <tr>\n",
       "      <th>1</th>\n",
       "      <td>Katie</td>\n",
       "      <td>42</td>\n",
       "    </tr>\n",
       "  </tbody>\n",
       "</table>\n",
       "</div>"
      ],
      "text/plain": [
       "    name  age\n",
       "0  Scott   34\n",
       "1  Katie   42"
      ]
     },
     "execution_count": 61,
     "metadata": {},
     "output_type": "execute_result"
    }
   ],
   "source": [
    "siblings\n"
   ]
  },
  {
   "cell_type": "code",
   "execution_count": 62,
   "id": "ff80ad01",
   "metadata": {},
   "outputs": [],
   "source": [
    "data = pd.read_json(\"examples/example.json\")\n"
   ]
  },
  {
   "cell_type": "code",
   "execution_count": 63,
   "id": "56909f58",
   "metadata": {},
   "outputs": [
    {
     "data": {
      "application/vnd.microsoft.datawrangler.viewer.v0+json": {
       "columns": [
        {
         "name": "index",
         "rawType": "int64",
         "type": "integer"
        },
        {
         "name": "a",
         "rawType": "int64",
         "type": "integer"
        },
        {
         "name": "b",
         "rawType": "int64",
         "type": "integer"
        },
        {
         "name": "c",
         "rawType": "int64",
         "type": "integer"
        }
       ],
       "ref": "543954d2-1377-4243-be0f-8423323f4eed",
       "rows": [
        [
         "0",
         "1",
         "2",
         "3"
        ],
        [
         "1",
         "4",
         "5",
         "6"
        ],
        [
         "2",
         "7",
         "8",
         "9"
        ]
       ],
       "shape": {
        "columns": 3,
        "rows": 3
       }
      },
      "text/html": [
       "<div>\n",
       "<style scoped>\n",
       "    .dataframe tbody tr th:only-of-type {\n",
       "        vertical-align: middle;\n",
       "    }\n",
       "\n",
       "    .dataframe tbody tr th {\n",
       "        vertical-align: top;\n",
       "    }\n",
       "\n",
       "    .dataframe thead th {\n",
       "        text-align: right;\n",
       "    }\n",
       "</style>\n",
       "<table border=\"1\" class=\"dataframe\">\n",
       "  <thead>\n",
       "    <tr style=\"text-align: right;\">\n",
       "      <th></th>\n",
       "      <th>a</th>\n",
       "      <th>b</th>\n",
       "      <th>c</th>\n",
       "    </tr>\n",
       "  </thead>\n",
       "  <tbody>\n",
       "    <tr>\n",
       "      <th>0</th>\n",
       "      <td>1</td>\n",
       "      <td>2</td>\n",
       "      <td>3</td>\n",
       "    </tr>\n",
       "    <tr>\n",
       "      <th>1</th>\n",
       "      <td>4</td>\n",
       "      <td>5</td>\n",
       "      <td>6</td>\n",
       "    </tr>\n",
       "    <tr>\n",
       "      <th>2</th>\n",
       "      <td>7</td>\n",
       "      <td>8</td>\n",
       "      <td>9</td>\n",
       "    </tr>\n",
       "  </tbody>\n",
       "</table>\n",
       "</div>"
      ],
      "text/plain": [
       "   a  b  c\n",
       "0  1  2  3\n",
       "1  4  5  6\n",
       "2  7  8  9"
      ]
     },
     "execution_count": 63,
     "metadata": {},
     "output_type": "execute_result"
    }
   ],
   "source": [
    "data\n"
   ]
  },
  {
   "cell_type": "code",
   "execution_count": 64,
   "id": "afee1aa3",
   "metadata": {},
   "outputs": [
    {
     "name": "stdout",
     "output_type": "stream",
     "text": [
      "{\"a\":{\"0\":1,\"1\":4,\"2\":7},\"b\":{\"0\":2,\"1\":5,\"2\":8},\"c\":{\"0\":3,\"1\":6,\"2\":9}}"
     ]
    }
   ],
   "source": [
    "data.to_json(sys.stdout)\n"
   ]
  },
  {
   "cell_type": "code",
   "execution_count": 65,
   "id": "dc3aaaf5",
   "metadata": {},
   "outputs": [
    {
     "name": "stdout",
     "output_type": "stream",
     "text": [
      "[{\"a\":1,\"b\":2,\"c\":3},{\"a\":4,\"b\":5,\"c\":6},{\"a\":7,\"b\":8,\"c\":9}]"
     ]
    }
   ],
   "source": [
    "data.to_json(sys.stdout, orient=\"records\")\n"
   ]
  },
  {
   "cell_type": "markdown",
   "id": "21ffae41",
   "metadata": {},
   "source": [
    "### XML E HTML: web scraping"
   ]
  },
  {
   "cell_type": "code",
   "execution_count": 66,
   "id": "a837ce94",
   "metadata": {},
   "outputs": [],
   "source": [
    "tables = pd.read_html(\"examples/fdic_failed_bank_list.html\")\n"
   ]
  },
  {
   "cell_type": "code",
   "execution_count": 67,
   "id": "97c3832c",
   "metadata": {},
   "outputs": [
    {
     "data": {
      "text/plain": [
       "1"
      ]
     },
     "execution_count": 67,
     "metadata": {},
     "output_type": "execute_result"
    }
   ],
   "source": [
    "len(tables)\n"
   ]
  },
  {
   "cell_type": "code",
   "execution_count": 68,
   "id": "307dc3bd",
   "metadata": {},
   "outputs": [],
   "source": [
    "failures = tables[0]\n"
   ]
  },
  {
   "cell_type": "code",
   "execution_count": 69,
   "id": "8398253b",
   "metadata": {},
   "outputs": [
    {
     "data": {
      "application/vnd.microsoft.datawrangler.viewer.v0+json": {
       "columns": [
        {
         "name": "index",
         "rawType": "int64",
         "type": "integer"
        },
        {
         "name": "Bank Name",
         "rawType": "object",
         "type": "string"
        },
        {
         "name": "City",
         "rawType": "object",
         "type": "string"
        },
        {
         "name": "ST",
         "rawType": "object",
         "type": "string"
        },
        {
         "name": "CERT",
         "rawType": "int64",
         "type": "integer"
        },
        {
         "name": "Acquiring Institution",
         "rawType": "object",
         "type": "string"
        },
        {
         "name": "Closing Date",
         "rawType": "object",
         "type": "string"
        },
        {
         "name": "Updated Date",
         "rawType": "object",
         "type": "string"
        }
       ],
       "ref": "37ccaf1f-385f-49be-809a-1c4d99920e5b",
       "rows": [
        [
         "0",
         "Allied Bank",
         "Mulberry",
         "AR",
         "91",
         "Today's Bank",
         "September 23, 2016",
         "November 17, 2016"
        ],
        [
         "1",
         "The Woodbury Banking Company",
         "Woodbury",
         "GA",
         "11297",
         "United Bank",
         "August 19, 2016",
         "November 17, 2016"
        ],
        [
         "2",
         "First CornerStone Bank",
         "King of Prussia",
         "PA",
         "35312",
         "First-Citizens Bank & Trust Company",
         "May 6, 2016",
         "September 6, 2016"
        ],
        [
         "3",
         "Trust Company Bank",
         "Memphis",
         "TN",
         "9956",
         "The Bank of Fayette County",
         "April 29, 2016",
         "September 6, 2016"
        ],
        [
         "4",
         "North Milwaukee State Bank",
         "Milwaukee",
         "WI",
         "20364",
         "First-Citizens Bank & Trust Company",
         "March 11, 2016",
         "June 16, 2016"
        ]
       ],
       "shape": {
        "columns": 7,
        "rows": 5
       }
      },
      "text/html": [
       "<div>\n",
       "<style scoped>\n",
       "    .dataframe tbody tr th:only-of-type {\n",
       "        vertical-align: middle;\n",
       "    }\n",
       "\n",
       "    .dataframe tbody tr th {\n",
       "        vertical-align: top;\n",
       "    }\n",
       "\n",
       "    .dataframe thead th {\n",
       "        text-align: right;\n",
       "    }\n",
       "</style>\n",
       "<table border=\"1\" class=\"dataframe\">\n",
       "  <thead>\n",
       "    <tr style=\"text-align: right;\">\n",
       "      <th></th>\n",
       "      <th>Bank Name</th>\n",
       "      <th>City</th>\n",
       "      <th>ST</th>\n",
       "      <th>CERT</th>\n",
       "      <th>Acquiring Institution</th>\n",
       "      <th>Closing Date</th>\n",
       "      <th>Updated Date</th>\n",
       "    </tr>\n",
       "  </thead>\n",
       "  <tbody>\n",
       "    <tr>\n",
       "      <th>0</th>\n",
       "      <td>Allied Bank</td>\n",
       "      <td>Mulberry</td>\n",
       "      <td>AR</td>\n",
       "      <td>91</td>\n",
       "      <td>Today's Bank</td>\n",
       "      <td>September 23, 2016</td>\n",
       "      <td>November 17, 2016</td>\n",
       "    </tr>\n",
       "    <tr>\n",
       "      <th>1</th>\n",
       "      <td>The Woodbury Banking Company</td>\n",
       "      <td>Woodbury</td>\n",
       "      <td>GA</td>\n",
       "      <td>11297</td>\n",
       "      <td>United Bank</td>\n",
       "      <td>August 19, 2016</td>\n",
       "      <td>November 17, 2016</td>\n",
       "    </tr>\n",
       "    <tr>\n",
       "      <th>2</th>\n",
       "      <td>First CornerStone Bank</td>\n",
       "      <td>King of Prussia</td>\n",
       "      <td>PA</td>\n",
       "      <td>35312</td>\n",
       "      <td>First-Citizens Bank &amp; Trust Company</td>\n",
       "      <td>May 6, 2016</td>\n",
       "      <td>September 6, 2016</td>\n",
       "    </tr>\n",
       "    <tr>\n",
       "      <th>3</th>\n",
       "      <td>Trust Company Bank</td>\n",
       "      <td>Memphis</td>\n",
       "      <td>TN</td>\n",
       "      <td>9956</td>\n",
       "      <td>The Bank of Fayette County</td>\n",
       "      <td>April 29, 2016</td>\n",
       "      <td>September 6, 2016</td>\n",
       "    </tr>\n",
       "    <tr>\n",
       "      <th>4</th>\n",
       "      <td>North Milwaukee State Bank</td>\n",
       "      <td>Milwaukee</td>\n",
       "      <td>WI</td>\n",
       "      <td>20364</td>\n",
       "      <td>First-Citizens Bank &amp; Trust Company</td>\n",
       "      <td>March 11, 2016</td>\n",
       "      <td>June 16, 2016</td>\n",
       "    </tr>\n",
       "  </tbody>\n",
       "</table>\n",
       "</div>"
      ],
      "text/plain": [
       "                      Bank Name             City  ST   CERT  \\\n",
       "0                   Allied Bank         Mulberry  AR     91   \n",
       "1  The Woodbury Banking Company         Woodbury  GA  11297   \n",
       "2        First CornerStone Bank  King of Prussia  PA  35312   \n",
       "3            Trust Company Bank          Memphis  TN   9956   \n",
       "4    North Milwaukee State Bank        Milwaukee  WI  20364   \n",
       "\n",
       "                 Acquiring Institution        Closing Date       Updated Date  \n",
       "0                         Today's Bank  September 23, 2016  November 17, 2016  \n",
       "1                          United Bank     August 19, 2016  November 17, 2016  \n",
       "2  First-Citizens Bank & Trust Company         May 6, 2016  September 6, 2016  \n",
       "3           The Bank of Fayette County      April 29, 2016  September 6, 2016  \n",
       "4  First-Citizens Bank & Trust Company      March 11, 2016      June 16, 2016  "
      ]
     },
     "execution_count": 69,
     "metadata": {},
     "output_type": "execute_result"
    }
   ],
   "source": [
    "failures.head()\n"
   ]
  },
  {
   "cell_type": "code",
   "execution_count": 70,
   "id": "f0c71ae2",
   "metadata": {},
   "outputs": [],
   "source": [
    "close_timestamps = pd.to_datetime(failures[\"Closing Date\"])\n"
   ]
  },
  {
   "cell_type": "code",
   "execution_count": 71,
   "id": "5c742aba",
   "metadata": {},
   "outputs": [
    {
     "data": {
      "application/vnd.microsoft.datawrangler.viewer.v0+json": {
       "columns": [
        {
         "name": "Closing Date",
         "rawType": "int32",
         "type": "integer"
        },
        {
         "name": "count",
         "rawType": "int64",
         "type": "integer"
        }
       ],
       "ref": "a45f1249-bd0a-41f6-a7d4-f239ca5c4d0a",
       "rows": [
        [
         "2010",
         "157"
        ],
        [
         "2009",
         "140"
        ],
        [
         "2011",
         "92"
        ],
        [
         "2012",
         "51"
        ],
        [
         "2008",
         "25"
        ],
        [
         "2013",
         "24"
        ],
        [
         "2014",
         "18"
        ],
        [
         "2002",
         "11"
        ],
        [
         "2015",
         "8"
        ],
        [
         "2016",
         "5"
        ],
        [
         "2004",
         "4"
        ],
        [
         "2001",
         "4"
        ],
        [
         "2007",
         "3"
        ],
        [
         "2003",
         "3"
        ],
        [
         "2000",
         "2"
        ]
       ],
       "shape": {
        "columns": 1,
        "rows": 15
       }
      },
      "text/plain": [
       "Closing Date\n",
       "2010    157\n",
       "2009    140\n",
       "2011     92\n",
       "2012     51\n",
       "2008     25\n",
       "       ... \n",
       "2004      4\n",
       "2001      4\n",
       "2007      3\n",
       "2003      3\n",
       "2000      2\n",
       "Name: count, Length: 15, dtype: int64"
      ]
     },
     "execution_count": 71,
     "metadata": {},
     "output_type": "execute_result"
    }
   ],
   "source": [
    "close_timestamps.dt.year.value_counts()\n"
   ]
  },
  {
   "cell_type": "markdown",
   "id": "43007bd7",
   "metadata": {},
   "source": [
    "#### Parsing de XML com lxml.objectify"
   ]
  },
  {
   "cell_type": "code",
   "execution_count": 72,
   "id": "0176fecc",
   "metadata": {},
   "outputs": [],
   "source": [
    "from lxml import objectify\n"
   ]
  },
  {
   "cell_type": "code",
   "execution_count": 73,
   "id": "40b7dcfc",
   "metadata": {},
   "outputs": [],
   "source": [
    "path = \"datasets/mta_perf/Performance_MNR.xml\"\n"
   ]
  },
  {
   "cell_type": "code",
   "execution_count": 74,
   "id": "ef53c4f6",
   "metadata": {},
   "outputs": [],
   "source": [
    "with open(path) as f:\n",
    "    parsed = objectify.parse(f)\n"
   ]
  },
  {
   "cell_type": "code",
   "execution_count": 75,
   "id": "7a0371c2",
   "metadata": {},
   "outputs": [],
   "source": [
    "root = parsed.getroot()\n"
   ]
  },
  {
   "cell_type": "code",
   "execution_count": 76,
   "id": "d1147412",
   "metadata": {},
   "outputs": [],
   "source": [
    "data = []\n",
    "\n",
    "skip_fields = [\n",
    "    \"PARENT_SEQ\",\n",
    "    \"INDICATOR_SEQ\",\n",
    "    \"DESIRED_CHANGE\",\n",
    "    \"DECIMAL_PLACES\",\n",
    "]\n",
    "\n",
    "for elt in root.INDICATOR:\n",
    "    el_data = {}\n",
    "    for child in elt.getchildren():\n",
    "        if child.tag in skip_fields:\n",
    "            continue\n",
    "        el_data[child.tag] = child.pyval\n",
    "    data.append(el_data)\n"
   ]
  },
  {
   "cell_type": "code",
   "execution_count": 77,
   "id": "5503aad7",
   "metadata": {},
   "outputs": [],
   "source": [
    "perf = pd.DataFrame(data)\n"
   ]
  },
  {
   "cell_type": "code",
   "execution_count": 78,
   "id": "e85c37fd",
   "metadata": {},
   "outputs": [
    {
     "data": {
      "application/vnd.microsoft.datawrangler.viewer.v0+json": {
       "columns": [
        {
         "name": "index",
         "rawType": "int64",
         "type": "integer"
        },
        {
         "name": "AGENCY_NAME",
         "rawType": "object",
         "type": "string"
        },
        {
         "name": "INDICATOR_NAME",
         "rawType": "object",
         "type": "string"
        },
        {
         "name": "DESCRIPTION",
         "rawType": "object",
         "type": "string"
        },
        {
         "name": "PERIOD_YEAR",
         "rawType": "int64",
         "type": "integer"
        },
        {
         "name": "PERIOD_MONTH",
         "rawType": "int64",
         "type": "integer"
        },
        {
         "name": "CATEGORY",
         "rawType": "object",
         "type": "string"
        },
        {
         "name": "FREQUENCY",
         "rawType": "object",
         "type": "string"
        },
        {
         "name": "INDICATOR_UNIT",
         "rawType": "object",
         "type": "string"
        },
        {
         "name": "YTD_TARGET",
         "rawType": "object",
         "type": "unknown"
        },
        {
         "name": "YTD_ACTUAL",
         "rawType": "object",
         "type": "unknown"
        },
        {
         "name": "MONTHLY_TARGET",
         "rawType": "object",
         "type": "unknown"
        },
        {
         "name": "MONTHLY_ACTUAL",
         "rawType": "object",
         "type": "unknown"
        }
       ],
       "ref": "e05a540f-32b6-49c4-aeb0-fe3c5659b49e",
       "rows": [
        [
         "0",
         "Metro-North Railroad",
         "On-Time Performance (West of Hudson)",
         "Percent of commuter trains that arrive at their destinations within 5 minutes and 59 seconds of the scheduled time. West of Hudson services include the Pascack Valley and Port Jervis lines. Metro-North Railroad contracts with New Jersey Transit to operate service on these lines.\n",
         "2008",
         "1",
         "Service Indicators",
         "M",
         "%",
         "95.0",
         "96.9",
         "95.0",
         "96.9"
        ],
        [
         "1",
         "Metro-North Railroad",
         "On-Time Performance (West of Hudson)",
         "Percent of commuter trains that arrive at their destinations within 5 minutes and 59 seconds of the scheduled time. West of Hudson services include the Pascack Valley and Port Jervis lines. Metro-North Railroad contracts with New Jersey Transit to operate service on these lines.\n",
         "2008",
         "2",
         "Service Indicators",
         "M",
         "%",
         "95.0",
         "96.0",
         "95.0",
         "95.0"
        ],
        [
         "2",
         "Metro-North Railroad",
         "On-Time Performance (West of Hudson)",
         "Percent of commuter trains that arrive at their destinations within 5 minutes and 59 seconds of the scheduled time. West of Hudson services include the Pascack Valley and Port Jervis lines. Metro-North Railroad contracts with New Jersey Transit to operate service on these lines.\n",
         "2008",
         "3",
         "Service Indicators",
         "M",
         "%",
         "95.0",
         "96.3",
         "95.0",
         "96.9"
        ],
        [
         "3",
         "Metro-North Railroad",
         "On-Time Performance (West of Hudson)",
         "Percent of commuter trains that arrive at their destinations within 5 minutes and 59 seconds of the scheduled time. West of Hudson services include the Pascack Valley and Port Jervis lines. Metro-North Railroad contracts with New Jersey Transit to operate service on these lines.\n",
         "2008",
         "4",
         "Service Indicators",
         "M",
         "%",
         "95.0",
         "96.8",
         "95.0",
         "98.3"
        ],
        [
         "4",
         "Metro-North Railroad",
         "On-Time Performance (West of Hudson)",
         "Percent of commuter trains that arrive at their destinations within 5 minutes and 59 seconds of the scheduled time. West of Hudson services include the Pascack Valley and Port Jervis lines. Metro-North Railroad contracts with New Jersey Transit to operate service on these lines.\n",
         "2008",
         "5",
         "Service Indicators",
         "M",
         "%",
         "95.0",
         "96.6",
         "95.0",
         "95.8"
        ]
       ],
       "shape": {
        "columns": 12,
        "rows": 5
       }
      },
      "text/html": [
       "<div>\n",
       "<style scoped>\n",
       "    .dataframe tbody tr th:only-of-type {\n",
       "        vertical-align: middle;\n",
       "    }\n",
       "\n",
       "    .dataframe tbody tr th {\n",
       "        vertical-align: top;\n",
       "    }\n",
       "\n",
       "    .dataframe thead th {\n",
       "        text-align: right;\n",
       "    }\n",
       "</style>\n",
       "<table border=\"1\" class=\"dataframe\">\n",
       "  <thead>\n",
       "    <tr style=\"text-align: right;\">\n",
       "      <th></th>\n",
       "      <th>AGENCY_NAME</th>\n",
       "      <th>INDICATOR_NAME</th>\n",
       "      <th>DESCRIPTION</th>\n",
       "      <th>PERIOD_YEAR</th>\n",
       "      <th>PERIOD_MONTH</th>\n",
       "      <th>CATEGORY</th>\n",
       "      <th>FREQUENCY</th>\n",
       "      <th>INDICATOR_UNIT</th>\n",
       "      <th>YTD_TARGET</th>\n",
       "      <th>YTD_ACTUAL</th>\n",
       "      <th>MONTHLY_TARGET</th>\n",
       "      <th>MONTHLY_ACTUAL</th>\n",
       "    </tr>\n",
       "  </thead>\n",
       "  <tbody>\n",
       "    <tr>\n",
       "      <th>0</th>\n",
       "      <td>Metro-North Railroad</td>\n",
       "      <td>On-Time Performance (West of Hudson)</td>\n",
       "      <td>Percent of commuter trains that arrive at thei...</td>\n",
       "      <td>2008</td>\n",
       "      <td>1</td>\n",
       "      <td>Service Indicators</td>\n",
       "      <td>M</td>\n",
       "      <td>%</td>\n",
       "      <td>95.0</td>\n",
       "      <td>96.9</td>\n",
       "      <td>95.0</td>\n",
       "      <td>96.9</td>\n",
       "    </tr>\n",
       "    <tr>\n",
       "      <th>1</th>\n",
       "      <td>Metro-North Railroad</td>\n",
       "      <td>On-Time Performance (West of Hudson)</td>\n",
       "      <td>Percent of commuter trains that arrive at thei...</td>\n",
       "      <td>2008</td>\n",
       "      <td>2</td>\n",
       "      <td>Service Indicators</td>\n",
       "      <td>M</td>\n",
       "      <td>%</td>\n",
       "      <td>95.0</td>\n",
       "      <td>96.0</td>\n",
       "      <td>95.0</td>\n",
       "      <td>95.0</td>\n",
       "    </tr>\n",
       "    <tr>\n",
       "      <th>2</th>\n",
       "      <td>Metro-North Railroad</td>\n",
       "      <td>On-Time Performance (West of Hudson)</td>\n",
       "      <td>Percent of commuter trains that arrive at thei...</td>\n",
       "      <td>2008</td>\n",
       "      <td>3</td>\n",
       "      <td>Service Indicators</td>\n",
       "      <td>M</td>\n",
       "      <td>%</td>\n",
       "      <td>95.0</td>\n",
       "      <td>96.3</td>\n",
       "      <td>95.0</td>\n",
       "      <td>96.9</td>\n",
       "    </tr>\n",
       "    <tr>\n",
       "      <th>3</th>\n",
       "      <td>Metro-North Railroad</td>\n",
       "      <td>On-Time Performance (West of Hudson)</td>\n",
       "      <td>Percent of commuter trains that arrive at thei...</td>\n",
       "      <td>2008</td>\n",
       "      <td>4</td>\n",
       "      <td>Service Indicators</td>\n",
       "      <td>M</td>\n",
       "      <td>%</td>\n",
       "      <td>95.0</td>\n",
       "      <td>96.8</td>\n",
       "      <td>95.0</td>\n",
       "      <td>98.3</td>\n",
       "    </tr>\n",
       "    <tr>\n",
       "      <th>4</th>\n",
       "      <td>Metro-North Railroad</td>\n",
       "      <td>On-Time Performance (West of Hudson)</td>\n",
       "      <td>Percent of commuter trains that arrive at thei...</td>\n",
       "      <td>2008</td>\n",
       "      <td>5</td>\n",
       "      <td>Service Indicators</td>\n",
       "      <td>M</td>\n",
       "      <td>%</td>\n",
       "      <td>95.0</td>\n",
       "      <td>96.6</td>\n",
       "      <td>95.0</td>\n",
       "      <td>95.8</td>\n",
       "    </tr>\n",
       "  </tbody>\n",
       "</table>\n",
       "</div>"
      ],
      "text/plain": [
       "            AGENCY_NAME                        INDICATOR_NAME  \\\n",
       "0  Metro-North Railroad  On-Time Performance (West of Hudson)   \n",
       "1  Metro-North Railroad  On-Time Performance (West of Hudson)   \n",
       "2  Metro-North Railroad  On-Time Performance (West of Hudson)   \n",
       "3  Metro-North Railroad  On-Time Performance (West of Hudson)   \n",
       "4  Metro-North Railroad  On-Time Performance (West of Hudson)   \n",
       "\n",
       "                                         DESCRIPTION  PERIOD_YEAR  \\\n",
       "0  Percent of commuter trains that arrive at thei...         2008   \n",
       "1  Percent of commuter trains that arrive at thei...         2008   \n",
       "2  Percent of commuter trains that arrive at thei...         2008   \n",
       "3  Percent of commuter trains that arrive at thei...         2008   \n",
       "4  Percent of commuter trains that arrive at thei...         2008   \n",
       "\n",
       "   PERIOD_MONTH            CATEGORY FREQUENCY INDICATOR_UNIT YTD_TARGET  \\\n",
       "0             1  Service Indicators         M              %       95.0   \n",
       "1             2  Service Indicators         M              %       95.0   \n",
       "2             3  Service Indicators         M              %       95.0   \n",
       "3             4  Service Indicators         M              %       95.0   \n",
       "4             5  Service Indicators         M              %       95.0   \n",
       "\n",
       "  YTD_ACTUAL MONTHLY_TARGET MONTHLY_ACTUAL  \n",
       "0       96.9           95.0           96.9  \n",
       "1       96.0           95.0           95.0  \n",
       "2       96.3           95.0           96.9  \n",
       "3       96.8           95.0           98.3  \n",
       "4       96.6           95.0           95.8  "
      ]
     },
     "execution_count": 78,
     "metadata": {},
     "output_type": "execute_result"
    }
   ],
   "source": [
    "perf.head()\n"
   ]
  },
  {
   "cell_type": "code",
   "execution_count": 79,
   "id": "0e8f71c0",
   "metadata": {},
   "outputs": [],
   "source": [
    "perf2 = pd.read_xml(path)\n"
   ]
  },
  {
   "cell_type": "code",
   "execution_count": 80,
   "id": "9271e7f0",
   "metadata": {},
   "outputs": [
    {
     "data": {
      "application/vnd.microsoft.datawrangler.viewer.v0+json": {
       "columns": [
        {
         "name": "index",
         "rawType": "int64",
         "type": "integer"
        },
        {
         "name": "INDICATOR_SEQ",
         "rawType": "int64",
         "type": "integer"
        },
        {
         "name": "PARENT_SEQ",
         "rawType": "float64",
         "type": "float"
        },
        {
         "name": "AGENCY_NAME",
         "rawType": "object",
         "type": "string"
        },
        {
         "name": "INDICATOR_NAME",
         "rawType": "object",
         "type": "string"
        },
        {
         "name": "DESCRIPTION",
         "rawType": "object",
         "type": "string"
        },
        {
         "name": "PERIOD_YEAR",
         "rawType": "int64",
         "type": "integer"
        },
        {
         "name": "PERIOD_MONTH",
         "rawType": "int64",
         "type": "integer"
        },
        {
         "name": "CATEGORY",
         "rawType": "object",
         "type": "string"
        },
        {
         "name": "FREQUENCY",
         "rawType": "object",
         "type": "string"
        },
        {
         "name": "DESIRED_CHANGE",
         "rawType": "object",
         "type": "string"
        },
        {
         "name": "INDICATOR_UNIT",
         "rawType": "object",
         "type": "string"
        },
        {
         "name": "DECIMAL_PLACES",
         "rawType": "int64",
         "type": "integer"
        },
        {
         "name": "YTD_TARGET",
         "rawType": "object",
         "type": "string"
        },
        {
         "name": "YTD_ACTUAL",
         "rawType": "object",
         "type": "string"
        },
        {
         "name": "MONTHLY_TARGET",
         "rawType": "object",
         "type": "string"
        },
        {
         "name": "MONTHLY_ACTUAL",
         "rawType": "object",
         "type": "string"
        }
       ],
       "ref": "b80aa8ef-3d6f-4c85-89e7-9fd356d023b2",
       "rows": [
        [
         "0",
         "28445",
         null,
         "Metro-North Railroad",
         "On-Time Performance (West of Hudson)",
         "Percent of commuter trains that arrive at their destinations within 5 minutes and 59 seconds of the scheduled time. West of Hudson services include the Pascack Valley and Port Jervis lines. Metro-North Railroad contracts with New Jersey Transit to operate service on these lines.\n",
         "2008",
         "1",
         "Service Indicators",
         "M",
         "U",
         "%",
         "1",
         "95.00",
         "96.90",
         "95.00",
         "96.90"
        ],
        [
         "1",
         "28445",
         null,
         "Metro-North Railroad",
         "On-Time Performance (West of Hudson)",
         "Percent of commuter trains that arrive at their destinations within 5 minutes and 59 seconds of the scheduled time. West of Hudson services include the Pascack Valley and Port Jervis lines. Metro-North Railroad contracts with New Jersey Transit to operate service on these lines.\n",
         "2008",
         "2",
         "Service Indicators",
         "M",
         "U",
         "%",
         "1",
         "95.00",
         "96.00",
         "95.00",
         "95.00"
        ],
        [
         "2",
         "28445",
         null,
         "Metro-North Railroad",
         "On-Time Performance (West of Hudson)",
         "Percent of commuter trains that arrive at their destinations within 5 minutes and 59 seconds of the scheduled time. West of Hudson services include the Pascack Valley and Port Jervis lines. Metro-North Railroad contracts with New Jersey Transit to operate service on these lines.\n",
         "2008",
         "3",
         "Service Indicators",
         "M",
         "U",
         "%",
         "1",
         "95.00",
         "96.30",
         "95.00",
         "96.90"
        ],
        [
         "3",
         "28445",
         null,
         "Metro-North Railroad",
         "On-Time Performance (West of Hudson)",
         "Percent of commuter trains that arrive at their destinations within 5 minutes and 59 seconds of the scheduled time. West of Hudson services include the Pascack Valley and Port Jervis lines. Metro-North Railroad contracts with New Jersey Transit to operate service on these lines.\n",
         "2008",
         "4",
         "Service Indicators",
         "M",
         "U",
         "%",
         "1",
         "95.00",
         "96.80",
         "95.00",
         "98.30"
        ],
        [
         "4",
         "28445",
         null,
         "Metro-North Railroad",
         "On-Time Performance (West of Hudson)",
         "Percent of commuter trains that arrive at their destinations within 5 minutes and 59 seconds of the scheduled time. West of Hudson services include the Pascack Valley and Port Jervis lines. Metro-North Railroad contracts with New Jersey Transit to operate service on these lines.\n",
         "2008",
         "5",
         "Service Indicators",
         "M",
         "U",
         "%",
         "1",
         "95.00",
         "96.60",
         "95.00",
         "95.80"
        ]
       ],
       "shape": {
        "columns": 16,
        "rows": 5
       }
      },
      "text/html": [
       "<div>\n",
       "<style scoped>\n",
       "    .dataframe tbody tr th:only-of-type {\n",
       "        vertical-align: middle;\n",
       "    }\n",
       "\n",
       "    .dataframe tbody tr th {\n",
       "        vertical-align: top;\n",
       "    }\n",
       "\n",
       "    .dataframe thead th {\n",
       "        text-align: right;\n",
       "    }\n",
       "</style>\n",
       "<table border=\"1\" class=\"dataframe\">\n",
       "  <thead>\n",
       "    <tr style=\"text-align: right;\">\n",
       "      <th></th>\n",
       "      <th>INDICATOR_SEQ</th>\n",
       "      <th>PARENT_SEQ</th>\n",
       "      <th>AGENCY_NAME</th>\n",
       "      <th>INDICATOR_NAME</th>\n",
       "      <th>DESCRIPTION</th>\n",
       "      <th>PERIOD_YEAR</th>\n",
       "      <th>PERIOD_MONTH</th>\n",
       "      <th>CATEGORY</th>\n",
       "      <th>FREQUENCY</th>\n",
       "      <th>DESIRED_CHANGE</th>\n",
       "      <th>INDICATOR_UNIT</th>\n",
       "      <th>DECIMAL_PLACES</th>\n",
       "      <th>YTD_TARGET</th>\n",
       "      <th>YTD_ACTUAL</th>\n",
       "      <th>MONTHLY_TARGET</th>\n",
       "      <th>MONTHLY_ACTUAL</th>\n",
       "    </tr>\n",
       "  </thead>\n",
       "  <tbody>\n",
       "    <tr>\n",
       "      <th>0</th>\n",
       "      <td>28445</td>\n",
       "      <td>NaN</td>\n",
       "      <td>Metro-North Railroad</td>\n",
       "      <td>On-Time Performance (West of Hudson)</td>\n",
       "      <td>Percent of commuter trains that arrive at thei...</td>\n",
       "      <td>2008</td>\n",
       "      <td>1</td>\n",
       "      <td>Service Indicators</td>\n",
       "      <td>M</td>\n",
       "      <td>U</td>\n",
       "      <td>%</td>\n",
       "      <td>1</td>\n",
       "      <td>95.00</td>\n",
       "      <td>96.90</td>\n",
       "      <td>95.00</td>\n",
       "      <td>96.90</td>\n",
       "    </tr>\n",
       "    <tr>\n",
       "      <th>1</th>\n",
       "      <td>28445</td>\n",
       "      <td>NaN</td>\n",
       "      <td>Metro-North Railroad</td>\n",
       "      <td>On-Time Performance (West of Hudson)</td>\n",
       "      <td>Percent of commuter trains that arrive at thei...</td>\n",
       "      <td>2008</td>\n",
       "      <td>2</td>\n",
       "      <td>Service Indicators</td>\n",
       "      <td>M</td>\n",
       "      <td>U</td>\n",
       "      <td>%</td>\n",
       "      <td>1</td>\n",
       "      <td>95.00</td>\n",
       "      <td>96.00</td>\n",
       "      <td>95.00</td>\n",
       "      <td>95.00</td>\n",
       "    </tr>\n",
       "    <tr>\n",
       "      <th>2</th>\n",
       "      <td>28445</td>\n",
       "      <td>NaN</td>\n",
       "      <td>Metro-North Railroad</td>\n",
       "      <td>On-Time Performance (West of Hudson)</td>\n",
       "      <td>Percent of commuter trains that arrive at thei...</td>\n",
       "      <td>2008</td>\n",
       "      <td>3</td>\n",
       "      <td>Service Indicators</td>\n",
       "      <td>M</td>\n",
       "      <td>U</td>\n",
       "      <td>%</td>\n",
       "      <td>1</td>\n",
       "      <td>95.00</td>\n",
       "      <td>96.30</td>\n",
       "      <td>95.00</td>\n",
       "      <td>96.90</td>\n",
       "    </tr>\n",
       "    <tr>\n",
       "      <th>3</th>\n",
       "      <td>28445</td>\n",
       "      <td>NaN</td>\n",
       "      <td>Metro-North Railroad</td>\n",
       "      <td>On-Time Performance (West of Hudson)</td>\n",
       "      <td>Percent of commuter trains that arrive at thei...</td>\n",
       "      <td>2008</td>\n",
       "      <td>4</td>\n",
       "      <td>Service Indicators</td>\n",
       "      <td>M</td>\n",
       "      <td>U</td>\n",
       "      <td>%</td>\n",
       "      <td>1</td>\n",
       "      <td>95.00</td>\n",
       "      <td>96.80</td>\n",
       "      <td>95.00</td>\n",
       "      <td>98.30</td>\n",
       "    </tr>\n",
       "    <tr>\n",
       "      <th>4</th>\n",
       "      <td>28445</td>\n",
       "      <td>NaN</td>\n",
       "      <td>Metro-North Railroad</td>\n",
       "      <td>On-Time Performance (West of Hudson)</td>\n",
       "      <td>Percent of commuter trains that arrive at thei...</td>\n",
       "      <td>2008</td>\n",
       "      <td>5</td>\n",
       "      <td>Service Indicators</td>\n",
       "      <td>M</td>\n",
       "      <td>U</td>\n",
       "      <td>%</td>\n",
       "      <td>1</td>\n",
       "      <td>95.00</td>\n",
       "      <td>96.60</td>\n",
       "      <td>95.00</td>\n",
       "      <td>95.80</td>\n",
       "    </tr>\n",
       "  </tbody>\n",
       "</table>\n",
       "</div>"
      ],
      "text/plain": [
       "   INDICATOR_SEQ  PARENT_SEQ           AGENCY_NAME  \\\n",
       "0          28445         NaN  Metro-North Railroad   \n",
       "1          28445         NaN  Metro-North Railroad   \n",
       "2          28445         NaN  Metro-North Railroad   \n",
       "3          28445         NaN  Metro-North Railroad   \n",
       "4          28445         NaN  Metro-North Railroad   \n",
       "\n",
       "                         INDICATOR_NAME  \\\n",
       "0  On-Time Performance (West of Hudson)   \n",
       "1  On-Time Performance (West of Hudson)   \n",
       "2  On-Time Performance (West of Hudson)   \n",
       "3  On-Time Performance (West of Hudson)   \n",
       "4  On-Time Performance (West of Hudson)   \n",
       "\n",
       "                                         DESCRIPTION  PERIOD_YEAR  \\\n",
       "0  Percent of commuter trains that arrive at thei...         2008   \n",
       "1  Percent of commuter trains that arrive at thei...         2008   \n",
       "2  Percent of commuter trains that arrive at thei...         2008   \n",
       "3  Percent of commuter trains that arrive at thei...         2008   \n",
       "4  Percent of commuter trains that arrive at thei...         2008   \n",
       "\n",
       "   PERIOD_MONTH            CATEGORY FREQUENCY DESIRED_CHANGE INDICATOR_UNIT  \\\n",
       "0             1  Service Indicators         M              U              %   \n",
       "1             2  Service Indicators         M              U              %   \n",
       "2             3  Service Indicators         M              U              %   \n",
       "3             4  Service Indicators         M              U              %   \n",
       "4             5  Service Indicators         M              U              %   \n",
       "\n",
       "   DECIMAL_PLACES YTD_TARGET YTD_ACTUAL MONTHLY_TARGET MONTHLY_ACTUAL  \n",
       "0               1      95.00      96.90          95.00          96.90  \n",
       "1               1      95.00      96.00          95.00          95.00  \n",
       "2               1      95.00      96.30          95.00          96.90  \n",
       "3               1      95.00      96.80          95.00          98.30  \n",
       "4               1      95.00      96.60          95.00          95.80  "
      ]
     },
     "execution_count": 80,
     "metadata": {},
     "output_type": "execute_result"
    }
   ],
   "source": [
    "perf2.head()\n"
   ]
  },
  {
   "cell_type": "markdown",
   "id": "bebb0677",
   "metadata": {},
   "source": [
    "## 6.2 Formatos de dados binários"
   ]
  },
  {
   "cell_type": "code",
   "execution_count": 81,
   "id": "8f9906f2",
   "metadata": {},
   "outputs": [],
   "source": [
    "frame = pd.read_csv(\"examples/ex1.csv\")\n"
   ]
  },
  {
   "cell_type": "code",
   "execution_count": 82,
   "id": "10aa4ac6",
   "metadata": {},
   "outputs": [
    {
     "data": {
      "application/vnd.microsoft.datawrangler.viewer.v0+json": {
       "columns": [
        {
         "name": "index",
         "rawType": "int64",
         "type": "integer"
        },
        {
         "name": "a",
         "rawType": "int64",
         "type": "integer"
        },
        {
         "name": "b",
         "rawType": "int64",
         "type": "integer"
        },
        {
         "name": "c",
         "rawType": "int64",
         "type": "integer"
        },
        {
         "name": "d",
         "rawType": "int64",
         "type": "integer"
        },
        {
         "name": "message",
         "rawType": "object",
         "type": "string"
        }
       ],
       "ref": "a2a94195-88b5-4d2e-9086-c63378283168",
       "rows": [
        [
         "0",
         "1",
         "2",
         "3",
         "4",
         "hello"
        ],
        [
         "1",
         "5",
         "6",
         "7",
         "8",
         "world"
        ],
        [
         "2",
         "9",
         "10",
         "11",
         "12",
         "foo"
        ]
       ],
       "shape": {
        "columns": 5,
        "rows": 3
       }
      },
      "text/html": [
       "<div>\n",
       "<style scoped>\n",
       "    .dataframe tbody tr th:only-of-type {\n",
       "        vertical-align: middle;\n",
       "    }\n",
       "\n",
       "    .dataframe tbody tr th {\n",
       "        vertical-align: top;\n",
       "    }\n",
       "\n",
       "    .dataframe thead th {\n",
       "        text-align: right;\n",
       "    }\n",
       "</style>\n",
       "<table border=\"1\" class=\"dataframe\">\n",
       "  <thead>\n",
       "    <tr style=\"text-align: right;\">\n",
       "      <th></th>\n",
       "      <th>a</th>\n",
       "      <th>b</th>\n",
       "      <th>c</th>\n",
       "      <th>d</th>\n",
       "      <th>message</th>\n",
       "    </tr>\n",
       "  </thead>\n",
       "  <tbody>\n",
       "    <tr>\n",
       "      <th>0</th>\n",
       "      <td>1</td>\n",
       "      <td>2</td>\n",
       "      <td>3</td>\n",
       "      <td>4</td>\n",
       "      <td>hello</td>\n",
       "    </tr>\n",
       "    <tr>\n",
       "      <th>1</th>\n",
       "      <td>5</td>\n",
       "      <td>6</td>\n",
       "      <td>7</td>\n",
       "      <td>8</td>\n",
       "      <td>world</td>\n",
       "    </tr>\n",
       "    <tr>\n",
       "      <th>2</th>\n",
       "      <td>9</td>\n",
       "      <td>10</td>\n",
       "      <td>11</td>\n",
       "      <td>12</td>\n",
       "      <td>foo</td>\n",
       "    </tr>\n",
       "  </tbody>\n",
       "</table>\n",
       "</div>"
      ],
      "text/plain": [
       "   a   b   c   d message\n",
       "0  1   2   3   4   hello\n",
       "1  5   6   7   8   world\n",
       "2  9  10  11  12     foo"
      ]
     },
     "execution_count": 82,
     "metadata": {},
     "output_type": "execute_result"
    }
   ],
   "source": [
    "frame\n"
   ]
  },
  {
   "cell_type": "code",
   "execution_count": 83,
   "id": "11081568",
   "metadata": {},
   "outputs": [],
   "source": [
    "frame.to_pickle(\"examples/frame_pickle\")\n"
   ]
  },
  {
   "cell_type": "code",
   "execution_count": 84,
   "id": "b11cdf74",
   "metadata": {},
   "outputs": [
    {
     "data": {
      "application/vnd.microsoft.datawrangler.viewer.v0+json": {
       "columns": [
        {
         "name": "index",
         "rawType": "int64",
         "type": "integer"
        },
        {
         "name": "a",
         "rawType": "int64",
         "type": "integer"
        },
        {
         "name": "b",
         "rawType": "int64",
         "type": "integer"
        },
        {
         "name": "c",
         "rawType": "int64",
         "type": "integer"
        },
        {
         "name": "d",
         "rawType": "int64",
         "type": "integer"
        },
        {
         "name": "message",
         "rawType": "object",
         "type": "string"
        }
       ],
       "ref": "03fa6125-99e5-49e3-8217-94acd4e6ded7",
       "rows": [
        [
         "0",
         "1",
         "2",
         "3",
         "4",
         "hello"
        ],
        [
         "1",
         "5",
         "6",
         "7",
         "8",
         "world"
        ],
        [
         "2",
         "9",
         "10",
         "11",
         "12",
         "foo"
        ]
       ],
       "shape": {
        "columns": 5,
        "rows": 3
       }
      },
      "text/html": [
       "<div>\n",
       "<style scoped>\n",
       "    .dataframe tbody tr th:only-of-type {\n",
       "        vertical-align: middle;\n",
       "    }\n",
       "\n",
       "    .dataframe tbody tr th {\n",
       "        vertical-align: top;\n",
       "    }\n",
       "\n",
       "    .dataframe thead th {\n",
       "        text-align: right;\n",
       "    }\n",
       "</style>\n",
       "<table border=\"1\" class=\"dataframe\">\n",
       "  <thead>\n",
       "    <tr style=\"text-align: right;\">\n",
       "      <th></th>\n",
       "      <th>a</th>\n",
       "      <th>b</th>\n",
       "      <th>c</th>\n",
       "      <th>d</th>\n",
       "      <th>message</th>\n",
       "    </tr>\n",
       "  </thead>\n",
       "  <tbody>\n",
       "    <tr>\n",
       "      <th>0</th>\n",
       "      <td>1</td>\n",
       "      <td>2</td>\n",
       "      <td>3</td>\n",
       "      <td>4</td>\n",
       "      <td>hello</td>\n",
       "    </tr>\n",
       "    <tr>\n",
       "      <th>1</th>\n",
       "      <td>5</td>\n",
       "      <td>6</td>\n",
       "      <td>7</td>\n",
       "      <td>8</td>\n",
       "      <td>world</td>\n",
       "    </tr>\n",
       "    <tr>\n",
       "      <th>2</th>\n",
       "      <td>9</td>\n",
       "      <td>10</td>\n",
       "      <td>11</td>\n",
       "      <td>12</td>\n",
       "      <td>foo</td>\n",
       "    </tr>\n",
       "  </tbody>\n",
       "</table>\n",
       "</div>"
      ],
      "text/plain": [
       "   a   b   c   d message\n",
       "0  1   2   3   4   hello\n",
       "1  5   6   7   8   world\n",
       "2  9  10  11  12     foo"
      ]
     },
     "execution_count": 84,
     "metadata": {},
     "output_type": "execute_result"
    }
   ],
   "source": [
    "pd.read_pickle(\"examples/frame_pickle\")\n"
   ]
  },
  {
   "cell_type": "code",
   "execution_count": 85,
   "id": "a0657b4e",
   "metadata": {},
   "outputs": [],
   "source": [
    "fec = pd.read_parquet(\"datasets/fec/fec.parquet\")\n"
   ]
  },
  {
   "cell_type": "code",
   "execution_count": 86,
   "id": "5751203a",
   "metadata": {},
   "outputs": [
    {
     "data": {
      "application/vnd.microsoft.datawrangler.viewer.v0+json": {
       "columns": [
        {
         "name": "index",
         "rawType": "int64",
         "type": "integer"
        },
        {
         "name": "cmte_id",
         "rawType": "object",
         "type": "string"
        },
        {
         "name": "cand_id",
         "rawType": "object",
         "type": "string"
        },
        {
         "name": "cand_nm",
         "rawType": "object",
         "type": "string"
        },
        {
         "name": "contbr_nm",
         "rawType": "object",
         "type": "string"
        },
        {
         "name": "contbr_city",
         "rawType": "object",
         "type": "unknown"
        },
        {
         "name": "contbr_st",
         "rawType": "object",
         "type": "unknown"
        },
        {
         "name": "contbr_zip",
         "rawType": "object",
         "type": "unknown"
        },
        {
         "name": "contbr_employer",
         "rawType": "object",
         "type": "unknown"
        },
        {
         "name": "contbr_occupation",
         "rawType": "object",
         "type": "unknown"
        },
        {
         "name": "contb_receipt_amt",
         "rawType": "float64",
         "type": "float"
        },
        {
         "name": "contb_receipt_dt",
         "rawType": "object",
         "type": "string"
        },
        {
         "name": "receipt_desc",
         "rawType": "object",
         "type": "unknown"
        },
        {
         "name": "memo_cd",
         "rawType": "object",
         "type": "unknown"
        },
        {
         "name": "memo_text",
         "rawType": "object",
         "type": "unknown"
        },
        {
         "name": "form_tp",
         "rawType": "object",
         "type": "string"
        },
        {
         "name": "file_num",
         "rawType": "int64",
         "type": "integer"
        }
       ],
       "ref": "51caa862-2997-4177-8097-c0bc90263a7a",
       "rows": [
        [
         "0",
         "C00410118",
         "P20002978",
         "Bachmann, Michelle",
         "HARVEY, WILLIAM",
         "MOBILE",
         "AL",
         "366010290",
         "RETIRED",
         "RETIRED",
         "250.0",
         "20-JUN-11",
         null,
         null,
         null,
         "SA17A",
         "736166"
        ],
        [
         "1",
         "C00410118",
         "P20002978",
         "Bachmann, Michelle",
         "HARVEY, WILLIAM",
         "MOBILE",
         "AL",
         "366010290",
         "RETIRED",
         "RETIRED",
         "50.0",
         "23-JUN-11",
         null,
         null,
         null,
         "SA17A",
         "736166"
        ],
        [
         "2",
         "C00410118",
         "P20002978",
         "Bachmann, Michelle",
         "SMITH, LANIER",
         "LANETT",
         "AL",
         "368633403",
         "INFORMATION REQUESTED",
         "INFORMATION REQUESTED",
         "250.0",
         "05-JUL-11",
         null,
         null,
         null,
         "SA17A",
         "749073"
        ],
        [
         "3",
         "C00410118",
         "P20002978",
         "Bachmann, Michelle",
         "BLEVINS, DARONDA",
         "PIGGOTT",
         "AR",
         "724548253",
         "NONE",
         "RETIRED",
         "250.0",
         "01-AUG-11",
         null,
         null,
         null,
         "SA17A",
         "749073"
        ],
        [
         "4",
         "C00410118",
         "P20002978",
         "Bachmann, Michelle",
         "WARDENBURG, HAROLD",
         "HOT SPRINGS NATION",
         "AR",
         "719016467",
         "NONE",
         "RETIRED",
         "300.0",
         "20-JUN-11",
         null,
         null,
         null,
         "SA17A",
         "736166"
        ],
        [
         "5",
         "C00410118",
         "P20002978",
         "Bachmann, Michelle",
         "BECKMAN, JAMES",
         "SPRINGDALE",
         "AR",
         "727647190",
         "NONE",
         "RETIRED",
         "500.0",
         "23-JUN-11",
         null,
         null,
         null,
         "SA17A",
         "736166"
        ],
        [
         "6",
         "C00410118",
         "P20002978",
         "Bachmann, Michelle",
         "BLEVINS, DARONDA",
         "PIGGOTT",
         "AR",
         "724548253",
         "INFORMATION REQUESTED",
         "INFORMATION REQUESTED",
         "250.0",
         "21-JUN-11",
         null,
         null,
         null,
         "SA17A",
         "736166"
        ],
        [
         "7",
         "C00410118",
         "P20002978",
         "Bachmann, Michelle",
         "BLEVINS, DARONDA",
         "PIGGOTT",
         "AR",
         "724548253",
         "NONE",
         "RETIRED",
         "250.0",
         "05-JUL-11",
         null,
         null,
         null,
         "SA17A",
         "749073"
        ],
        [
         "8",
         "C00410118",
         "P20002978",
         "Bachmann, Michelle",
         "COLLINS, SARAH",
         "MESA",
         "AZ",
         "852106725",
         "ST. JOSEPH HOSPITAL",
         "RN",
         "250.0",
         "21-JUN-11",
         null,
         null,
         null,
         "SA17A",
         "736166"
        ],
        [
         "9",
         "C00410118",
         "P20002978",
         "Bachmann, Michelle",
         "COLEMAN, RONALD",
         "TUCSON",
         "AZ",
         "857498865",
         "RAYTHEON",
         "ELECTRICAL ENGINEER",
         "250.0",
         "20-JUN-11",
         null,
         null,
         null,
         "SA17A",
         "736166"
        ],
        [
         "10",
         "C00410118",
         "P20002978",
         "Bachmann, Michelle",
         "ATCHLEY, JR, KEITH",
         "MESA",
         "AZ",
         "85215",
         "NONE",
         "RETIRED",
         "250.0",
         "22-JUN-11",
         null,
         null,
         null,
         "SA17A",
         "736166"
        ],
        [
         "11",
         "C00410118",
         "P20002978",
         "Bachmann, Michelle",
         "FARNSWORTH, ROSS",
         "MESA",
         "AZ",
         "852062062",
         "FARNSWORTH COMPANIES",
         "LAND DEVELOPER",
         "500.0",
         "22-JUN-11",
         null,
         null,
         null,
         "SA17A",
         "736166"
        ],
        [
         "12",
         "C00410118",
         "P20002978",
         "Bachmann, Michelle",
         "PRESTON, CLIFFORD",
         "ORO VALLEY",
         "AZ",
         "857379072",
         "INFORMATION REQUESTED",
         "INFORMATION REQUESTED",
         "250.0",
         "21-JUN-11",
         null,
         null,
         null,
         "SA17A",
         "736166"
        ],
        [
         "13",
         "C00410118",
         "P20002978",
         "Bachmann, Michelle",
         "PETERSEN, W",
         "GILBERT",
         "AZ",
         "85295",
         "INFORMATION REQUESTED",
         "INFORMATION REQUESTED",
         "250.0",
         "27-JUN-11",
         null,
         null,
         null,
         "SA17A",
         "736166"
        ],
        [
         "14",
         "C00410118",
         "P20002978",
         "Bachmann, Michelle",
         "MILLER, WILLIAM",
         "SCOTTSDALE",
         "AZ",
         "852513055",
         "INFORMATION REQUESTED",
         "INFORMATION REQUESTED",
         "250.0",
         "11-JUL-11",
         null,
         null,
         null,
         "SA17A",
         "749073"
        ],
        [
         "15",
         "C00410118",
         "P20002978",
         "Bachmann, Michelle",
         "DOLAN, WILLIAM",
         "PHOENIX",
         "AZ",
         "850145248",
         "VA MEDICAL CENTER",
         "PHYSICIAN",
         "300.0",
         "08-JUL-11",
         null,
         null,
         null,
         "SA17A",
         "749073"
        ],
        [
         "16",
         "C00410118",
         "P20002978",
         "Bachmann, Michelle",
         "WILSON, RICHARD",
         "FLAGSTAFF",
         "AZ",
         "860010717",
         "NONE",
         "RETIRED",
         "500.0",
         "17-JUN-11",
         null,
         null,
         null,
         "SA17A",
         "736166"
        ],
        [
         "17",
         "C00410118",
         "P20002978",
         "Bachmann, Michelle",
         "REULING, RICHARD",
         "GREEN VALLEY",
         "AZ",
         "856225413",
         "NONE",
         "RETIRED",
         "1000.0",
         "05-JUL-11",
         null,
         null,
         null,
         "SA17A",
         "749073"
        ],
        [
         "18",
         "C00410118",
         "P20002978",
         "Bachmann, Michelle",
         "ALLUMBAUGH, KATHY",
         "SANTA ANA",
         "CA",
         "927051427",
         "NONE",
         "RETIRED",
         "250.0",
         "13-JUN-11",
         null,
         null,
         null,
         "SA17A",
         "736166"
        ],
        [
         "19",
         "C00410118",
         "P20002978",
         "Bachmann, Michelle",
         "DEL POZO, JOSE",
         "DEL MAR",
         "CA",
         "920142938",
         "RETIRES",
         "RETIRED",
         "300.0",
         "16-JUN-11",
         null,
         null,
         null,
         "SA17A",
         "736166"
        ],
        [
         "20",
         "C00410118",
         "P20002978",
         "Bachmann, Michelle",
         "KIEFFER, PIERRE",
         "SACRAMENTO",
         "CA",
         "958256640",
         "SELF",
         "OFFICE FURNITURE BROKER",
         "500.0",
         "16-JUN-11",
         null,
         null,
         null,
         "SA17A",
         "736166"
        ],
        [
         "21",
         "C00410118",
         "P20002978",
         "Bachmann, Michelle",
         "HANNAH, STEPHEN",
         "SHERMAN OAKS",
         "CA",
         "914131654",
         "RETIRED",
         "RETIRED",
         "250.0",
         "16-JUN-11",
         null,
         null,
         null,
         "SA17A",
         "736166"
        ],
        [
         "22",
         "C00410118",
         "P20002978",
         "Bachmann, Michelle",
         "MINNIS, RITA",
         "MILPITAS",
         "CA",
         "950357610",
         "MILPITS MATERIALS",
         "MANAGER",
         "2500.0",
         "17-JUN-11",
         null,
         null,
         null,
         "SA17A",
         "736166"
        ],
        [
         "23",
         "C00410118",
         "P20002978",
         "Bachmann, Michelle",
         "MINNIS, RITA",
         "MILPITAS",
         "CA",
         "950357610",
         "MILPITS MATERIALS",
         "MANAGER",
         "2500.0",
         "17-JUN-11",
         null,
         null,
         null,
         "SA17A",
         "736166"
        ],
        [
         "24",
         "C00410118",
         "P20002978",
         "Bachmann, Michelle",
         "EDWARDS, MARK",
         "LA JOLLA",
         "CA",
         "920377643",
         "NONE",
         "RETIRED",
         "150.0",
         "05-AUG-11",
         null,
         null,
         null,
         "SA17A",
         "749073"
        ],
        [
         "25",
         "C00410118",
         "P20002978",
         "Bachmann, Michelle",
         "HANNAH, STEPHEN",
         "SHERMAN OAKS",
         "CA",
         "914131654",
         "NONE",
         "RETIRED",
         "200.0",
         "08-AUG-11",
         null,
         null,
         null,
         "SA17A",
         "749073"
        ],
        [
         "26",
         "C00410118",
         "P20002978",
         "Bachmann, Michelle",
         "HENRY, JOAN",
         "YUBA CITY",
         "CA",
         "959938506",
         "NONE",
         "RETIRED",
         "100.0",
         "15-AUG-11",
         null,
         null,
         null,
         "SA17A",
         "749073"
        ],
        [
         "27",
         "C00410118",
         "P20002978",
         "Bachmann, Michelle",
         "SKEREN, THOMAS",
         "CALABASAS",
         "CA",
         "913021547",
         "INFORMATION REQUESTED",
         "INFORMATION REQUESTED",
         "250.0",
         "16-AUG-11",
         null,
         null,
         null,
         "SA17A",
         "749073"
        ],
        [
         "28",
         "C00410118",
         "P20002978",
         "Bachmann, Michelle",
         "EDWARDS, WILLIAM",
         "LOS ANGELES",
         "CA",
         "900243008",
         "INFORMATION REQUESTED",
         "INFORMATION REQUESTED",
         "500.0",
         "18-AUG-11",
         null,
         null,
         null,
         "SA17A",
         "749073"
        ],
        [
         "29",
         "C00410118",
         "P20002978",
         "Bachmann, Michelle",
         "PORTER, NANCY",
         "CARMEL VALLEY",
         "CA",
         "939249482",
         "NANCY PORTER",
         "REALTOR",
         "250.0",
         "05-JUL-11",
         null,
         null,
         null,
         "SA17A",
         "749073"
        ],
        [
         "30",
         "C00410118",
         "P20002978",
         "Bachmann, Michelle",
         "NELSON, VINCENT C.",
         "ALAMO",
         "CA",
         "945071620",
         "NONE",
         "RETIRED",
         "100.0",
         "05-JUL-11",
         null,
         null,
         null,
         "SA17A",
         "749073"
        ],
        [
         "31",
         "C00410118",
         "P20002978",
         "Bachmann, Michelle",
         "MULLISH, LUCILLE",
         "PALO ALTO",
         "CA",
         "943061361",
         "NONE",
         "RETIRED",
         "500.0",
         "06-JUL-11",
         null,
         null,
         null,
         "SA17A",
         "749073"
        ],
        [
         "32",
         "C00410118",
         "P20002978",
         "Bachmann, Michelle",
         "JONES, SCOTT",
         "MILL VALLEY",
         "CA",
         "949413047",
         "INFORMATION REQUESTED",
         "INFORMATION REQUESTED",
         "1000.0",
         "11-JUL-11",
         null,
         null,
         null,
         "SA17A",
         "749073"
        ],
        [
         "33",
         "C00410118",
         "P20002978",
         "Bachmann, Michelle",
         "SACK, EDGAR",
         "CORONADO",
         "CA",
         "921184011",
         "NONE",
         "RETIRED",
         "250.0",
         "13-JUL-11",
         null,
         null,
         null,
         "SA17A",
         "749073"
        ],
        [
         "34",
         "C00410118",
         "P20002978",
         "Bachmann, Michelle",
         "BOSTON, JOYCE",
         "RANCHO CUCAMONGA",
         "CA",
         "917304536",
         "INFORMATION REQUESTED",
         "INFORMATION REQUESTED",
         "300.0",
         "18-JUL-11",
         null,
         null,
         null,
         "SA17A",
         "749073"
        ],
        [
         "35",
         "C00410118",
         "P20002978",
         "Bachmann, Michelle",
         "MANSFIELD, LORNA",
         "WALNUT CREEK",
         "CA",
         "945951715",
         "NONE",
         "RETIRED",
         "100.0",
         "18-JUL-11",
         null,
         null,
         null,
         "SA17A",
         "749073"
        ],
        [
         "36",
         "C00410118",
         "P20002978",
         "Bachmann, Michelle",
         "SHEA, JAMES",
         "NEWPORT BEACH",
         "CA",
         "926604234",
         "NONE",
         "RETIRED",
         "250.0",
         "28-JUN-11",
         null,
         null,
         null,
         "SA17A",
         "736166"
        ],
        [
         "37",
         "C00410118",
         "P20002978",
         "Bachmann, Michelle",
         "BELLOMY, JANE",
         "MALIBU",
         "CA",
         "902654027",
         "HELMET HOUSE INC",
         "OWNER",
         "250.0",
         "30-JUN-11",
         null,
         null,
         null,
         "SA17A",
         "736166"
        ],
        [
         "38",
         "C00410118",
         "P20002978",
         "Bachmann, Michelle",
         "ROON, LOIS",
         "LA JOLLA",
         "CA",
         "920375551",
         "NONE",
         "RETIRED",
         "250.0",
         "30-JUN-11",
         null,
         null,
         null,
         "SA17A",
         "736166"
        ],
        [
         "39",
         "C00410118",
         "P20002978",
         "Bachmann, Michelle",
         "CLEGG, BRUCE",
         "BRENTWOOD",
         "CA",
         "94513",
         "LAMAR SALES",
         "OWNER",
         "250.0",
         "30-JUN-11",
         null,
         null,
         null,
         "SA17A",
         "736166"
        ],
        [
         "40",
         "C00410118",
         "P20002978",
         "Bachmann, Michelle",
         "SCHROEDER, DWIGHT",
         "SANTA ANA",
         "CA",
         "927056963",
         "INFORMATION REQUESTED",
         "INFORMATION REQUESTED",
         "500.0",
         "30-JUN-11",
         null,
         null,
         null,
         "SA17A",
         "736166"
        ],
        [
         "41",
         "C00410118",
         "P20002978",
         "Bachmann, Michelle",
         "MINNIS, RITA",
         "MILPITAS",
         "CA",
         "950357610",
         null,
         null,
         "-1500.0",
         "20-JUN-11",
         "Refund",
         null,
         null,
         "SB28A",
         "736166"
        ],
        [
         "42",
         "C00410118",
         "P20002978",
         "Bachmann, Michelle",
         "PECONI, GIANFRANCO",
         "CEDAR GLEN",
         "CA",
         "923211100",
         "INFORMATION REQUESTED",
         "INFORMATION REQUESTED",
         "250.0",
         "01-JUL-11",
         null,
         null,
         null,
         "SA17A",
         "749073"
        ],
        [
         "43",
         "C00410118",
         "P20002978",
         "Bachmann, Michelle",
         "WILSON, CAROL R.",
         "LINCOLN",
         "CA",
         "956487718",
         "NONE",
         "RETIRED",
         "500.0",
         "05-JUL-11",
         null,
         null,
         null,
         "SA17A",
         "749073"
        ],
        [
         "44",
         "C00410118",
         "P20002978",
         "Bachmann, Michelle",
         "CASTAGNOZZI, MARY",
         "PIEDMONT",
         "CA",
         "946113904",
         "PIEDMONT LAUNGUAGE SCHOOL",
         "MANDARIN TEACHER",
         "250.0",
         "05-JUL-11",
         null,
         null,
         null,
         "SA17A",
         "749073"
        ],
        [
         "45",
         "C00410118",
         "P20002978",
         "Bachmann, Michelle",
         "SANDROWSKI, TED",
         "CHICO",
         "CA",
         "959738922",
         "SANDROWSKI LANDSCAPING",
         "PRESIDENT",
         "260.0",
         "05-JUL-11",
         null,
         null,
         null,
         "SA17A",
         "749073"
        ],
        [
         "46",
         "C00410118",
         "P20002978",
         "Bachmann, Michelle",
         "MURRAY, JOSEPH",
         "ESCONDIDO",
         "CA",
         "920257672",
         "NONE",
         "RETIRED",
         "500.0",
         "05-JUL-11",
         null,
         null,
         null,
         "SA17A",
         "749073"
        ],
        [
         "47",
         "C00410118",
         "P20002978",
         "Bachmann, Michelle",
         "CLAGUE, DONALD",
         "LA MESA",
         "CA",
         "919416873",
         "NONE",
         "RETIRED",
         "250.0",
         "05-JUL-11",
         null,
         null,
         null,
         "SA17A",
         "749073"
        ],
        [
         "48",
         "C00410118",
         "P20002978",
         "Bachmann, Michelle",
         "WALLING, PHILIPS",
         "GREENVILLE",
         "CA",
         "959479712",
         "ERNEST A DEMBURG MD",
         "OWNER",
         "240.0",
         "23-JUN-11",
         null,
         null,
         null,
         "SA17A",
         "736166"
        ],
        [
         "49",
         "C00410118",
         "P20002978",
         "Bachmann, Michelle",
         "GORMAN, VINCENT",
         "DIAMOND BAR",
         "CA",
         "917651108",
         "DUNCAN STUDIOS",
         "FREELANCE ANIMATOR",
         "100.0",
         "23-JUN-11",
         null,
         null,
         null,
         "SA17A",
         "736166"
        ]
       ],
       "shape": {
        "columns": 16,
        "rows": 1001731
       }
      },
      "text/html": [
       "<div>\n",
       "<style scoped>\n",
       "    .dataframe tbody tr th:only-of-type {\n",
       "        vertical-align: middle;\n",
       "    }\n",
       "\n",
       "    .dataframe tbody tr th {\n",
       "        vertical-align: top;\n",
       "    }\n",
       "\n",
       "    .dataframe thead th {\n",
       "        text-align: right;\n",
       "    }\n",
       "</style>\n",
       "<table border=\"1\" class=\"dataframe\">\n",
       "  <thead>\n",
       "    <tr style=\"text-align: right;\">\n",
       "      <th></th>\n",
       "      <th>cmte_id</th>\n",
       "      <th>cand_id</th>\n",
       "      <th>cand_nm</th>\n",
       "      <th>contbr_nm</th>\n",
       "      <th>contbr_city</th>\n",
       "      <th>contbr_st</th>\n",
       "      <th>contbr_zip</th>\n",
       "      <th>contbr_employer</th>\n",
       "      <th>contbr_occupation</th>\n",
       "      <th>contb_receipt_amt</th>\n",
       "      <th>contb_receipt_dt</th>\n",
       "      <th>receipt_desc</th>\n",
       "      <th>memo_cd</th>\n",
       "      <th>memo_text</th>\n",
       "      <th>form_tp</th>\n",
       "      <th>file_num</th>\n",
       "    </tr>\n",
       "  </thead>\n",
       "  <tbody>\n",
       "    <tr>\n",
       "      <th>0</th>\n",
       "      <td>C00410118</td>\n",
       "      <td>P20002978</td>\n",
       "      <td>Bachmann, Michelle</td>\n",
       "      <td>HARVEY, WILLIAM</td>\n",
       "      <td>MOBILE</td>\n",
       "      <td>AL</td>\n",
       "      <td>366010290</td>\n",
       "      <td>RETIRED</td>\n",
       "      <td>RETIRED</td>\n",
       "      <td>250.0</td>\n",
       "      <td>20-JUN-11</td>\n",
       "      <td>None</td>\n",
       "      <td>None</td>\n",
       "      <td>None</td>\n",
       "      <td>SA17A</td>\n",
       "      <td>736166</td>\n",
       "    </tr>\n",
       "    <tr>\n",
       "      <th>1</th>\n",
       "      <td>C00410118</td>\n",
       "      <td>P20002978</td>\n",
       "      <td>Bachmann, Michelle</td>\n",
       "      <td>HARVEY, WILLIAM</td>\n",
       "      <td>MOBILE</td>\n",
       "      <td>AL</td>\n",
       "      <td>366010290</td>\n",
       "      <td>RETIRED</td>\n",
       "      <td>RETIRED</td>\n",
       "      <td>50.0</td>\n",
       "      <td>23-JUN-11</td>\n",
       "      <td>None</td>\n",
       "      <td>None</td>\n",
       "      <td>None</td>\n",
       "      <td>SA17A</td>\n",
       "      <td>736166</td>\n",
       "    </tr>\n",
       "    <tr>\n",
       "      <th>2</th>\n",
       "      <td>C00410118</td>\n",
       "      <td>P20002978</td>\n",
       "      <td>Bachmann, Michelle</td>\n",
       "      <td>SMITH, LANIER</td>\n",
       "      <td>LANETT</td>\n",
       "      <td>AL</td>\n",
       "      <td>368633403</td>\n",
       "      <td>INFORMATION REQUESTED</td>\n",
       "      <td>INFORMATION REQUESTED</td>\n",
       "      <td>250.0</td>\n",
       "      <td>05-JUL-11</td>\n",
       "      <td>None</td>\n",
       "      <td>None</td>\n",
       "      <td>None</td>\n",
       "      <td>SA17A</td>\n",
       "      <td>749073</td>\n",
       "    </tr>\n",
       "    <tr>\n",
       "      <th>3</th>\n",
       "      <td>C00410118</td>\n",
       "      <td>P20002978</td>\n",
       "      <td>Bachmann, Michelle</td>\n",
       "      <td>BLEVINS, DARONDA</td>\n",
       "      <td>PIGGOTT</td>\n",
       "      <td>AR</td>\n",
       "      <td>724548253</td>\n",
       "      <td>NONE</td>\n",
       "      <td>RETIRED</td>\n",
       "      <td>250.0</td>\n",
       "      <td>01-AUG-11</td>\n",
       "      <td>None</td>\n",
       "      <td>None</td>\n",
       "      <td>None</td>\n",
       "      <td>SA17A</td>\n",
       "      <td>749073</td>\n",
       "    </tr>\n",
       "    <tr>\n",
       "      <th>4</th>\n",
       "      <td>C00410118</td>\n",
       "      <td>P20002978</td>\n",
       "      <td>Bachmann, Michelle</td>\n",
       "      <td>WARDENBURG, HAROLD</td>\n",
       "      <td>HOT SPRINGS NATION</td>\n",
       "      <td>AR</td>\n",
       "      <td>719016467</td>\n",
       "      <td>NONE</td>\n",
       "      <td>RETIRED</td>\n",
       "      <td>300.0</td>\n",
       "      <td>20-JUN-11</td>\n",
       "      <td>None</td>\n",
       "      <td>None</td>\n",
       "      <td>None</td>\n",
       "      <td>SA17A</td>\n",
       "      <td>736166</td>\n",
       "    </tr>\n",
       "    <tr>\n",
       "      <th>...</th>\n",
       "      <td>...</td>\n",
       "      <td>...</td>\n",
       "      <td>...</td>\n",
       "      <td>...</td>\n",
       "      <td>...</td>\n",
       "      <td>...</td>\n",
       "      <td>...</td>\n",
       "      <td>...</td>\n",
       "      <td>...</td>\n",
       "      <td>...</td>\n",
       "      <td>...</td>\n",
       "      <td>...</td>\n",
       "      <td>...</td>\n",
       "      <td>...</td>\n",
       "      <td>...</td>\n",
       "      <td>...</td>\n",
       "    </tr>\n",
       "    <tr>\n",
       "      <th>1001726</th>\n",
       "      <td>C00500587</td>\n",
       "      <td>P20003281</td>\n",
       "      <td>Perry, Rick</td>\n",
       "      <td>GORMAN, CHRIS D. MR.</td>\n",
       "      <td>INFO REQUESTED</td>\n",
       "      <td>XX</td>\n",
       "      <td>99999</td>\n",
       "      <td>INFORMATION REQUESTED PER BEST EFFORTS</td>\n",
       "      <td>INFORMATION REQUESTED PER BEST EFFORTS</td>\n",
       "      <td>5000.0</td>\n",
       "      <td>29-SEP-11</td>\n",
       "      <td>REATTRIBUTION / REDESIGNATION REQUESTED (AUTOM...</td>\n",
       "      <td>None</td>\n",
       "      <td>REATTRIBUTION / REDESIGNATION REQUESTED (AUTOM...</td>\n",
       "      <td>SA17A</td>\n",
       "      <td>751678</td>\n",
       "    </tr>\n",
       "    <tr>\n",
       "      <th>1001727</th>\n",
       "      <td>C00500587</td>\n",
       "      <td>P20003281</td>\n",
       "      <td>Perry, Rick</td>\n",
       "      <td>DUFFY, DAVID A. MR.</td>\n",
       "      <td>INFO REQUESTED</td>\n",
       "      <td>XX</td>\n",
       "      <td>99999</td>\n",
       "      <td>DUFFY EQUIPMENT COMPANY INC.</td>\n",
       "      <td>BUSINESS OWNER</td>\n",
       "      <td>2500.0</td>\n",
       "      <td>30-SEP-11</td>\n",
       "      <td>None</td>\n",
       "      <td>None</td>\n",
       "      <td>None</td>\n",
       "      <td>SA17A</td>\n",
       "      <td>751678</td>\n",
       "    </tr>\n",
       "    <tr>\n",
       "      <th>1001728</th>\n",
       "      <td>C00500587</td>\n",
       "      <td>P20003281</td>\n",
       "      <td>Perry, Rick</td>\n",
       "      <td>GRANE, BRYAN F. MR.</td>\n",
       "      <td>INFO REQUESTED</td>\n",
       "      <td>XX</td>\n",
       "      <td>99999</td>\n",
       "      <td>INFORMATION REQUESTED PER BEST EFFORTS</td>\n",
       "      <td>INFORMATION REQUESTED PER BEST EFFORTS</td>\n",
       "      <td>500.0</td>\n",
       "      <td>29-SEP-11</td>\n",
       "      <td>None</td>\n",
       "      <td>None</td>\n",
       "      <td>None</td>\n",
       "      <td>SA17A</td>\n",
       "      <td>751678</td>\n",
       "    </tr>\n",
       "    <tr>\n",
       "      <th>1001729</th>\n",
       "      <td>C00500587</td>\n",
       "      <td>P20003281</td>\n",
       "      <td>Perry, Rick</td>\n",
       "      <td>TOLBERT, DARYL MR.</td>\n",
       "      <td>INFO REQUESTED</td>\n",
       "      <td>XX</td>\n",
       "      <td>99999</td>\n",
       "      <td>T.A.C.C.</td>\n",
       "      <td>LONGWALL MAINTENANCE FOREMAN</td>\n",
       "      <td>500.0</td>\n",
       "      <td>30-SEP-11</td>\n",
       "      <td>None</td>\n",
       "      <td>None</td>\n",
       "      <td>None</td>\n",
       "      <td>SA17A</td>\n",
       "      <td>751678</td>\n",
       "    </tr>\n",
       "    <tr>\n",
       "      <th>1001730</th>\n",
       "      <td>C00500587</td>\n",
       "      <td>P20003281</td>\n",
       "      <td>Perry, Rick</td>\n",
       "      <td>ANDERSON, MARILEE MRS.</td>\n",
       "      <td>INFO REQUESTED</td>\n",
       "      <td>XX</td>\n",
       "      <td>99999</td>\n",
       "      <td>INFORMATION REQUESTED PER BEST EFFORTS</td>\n",
       "      <td>INFORMATION REQUESTED PER BEST EFFORTS</td>\n",
       "      <td>2500.0</td>\n",
       "      <td>31-AUG-11</td>\n",
       "      <td>None</td>\n",
       "      <td>None</td>\n",
       "      <td>None</td>\n",
       "      <td>SA17A</td>\n",
       "      <td>751678</td>\n",
       "    </tr>\n",
       "  </tbody>\n",
       "</table>\n",
       "<p>1001731 rows × 16 columns</p>\n",
       "</div>"
      ],
      "text/plain": [
       "           cmte_id    cand_id             cand_nm               contbr_nm  \\\n",
       "0        C00410118  P20002978  Bachmann, Michelle         HARVEY, WILLIAM   \n",
       "1        C00410118  P20002978  Bachmann, Michelle         HARVEY, WILLIAM   \n",
       "2        C00410118  P20002978  Bachmann, Michelle           SMITH, LANIER   \n",
       "3        C00410118  P20002978  Bachmann, Michelle        BLEVINS, DARONDA   \n",
       "4        C00410118  P20002978  Bachmann, Michelle      WARDENBURG, HAROLD   \n",
       "...            ...        ...                 ...                     ...   \n",
       "1001726  C00500587  P20003281         Perry, Rick    GORMAN, CHRIS D. MR.   \n",
       "1001727  C00500587  P20003281         Perry, Rick     DUFFY, DAVID A. MR.   \n",
       "1001728  C00500587  P20003281         Perry, Rick     GRANE, BRYAN F. MR.   \n",
       "1001729  C00500587  P20003281         Perry, Rick      TOLBERT, DARYL MR.   \n",
       "1001730  C00500587  P20003281         Perry, Rick  ANDERSON, MARILEE MRS.   \n",
       "\n",
       "                contbr_city contbr_st contbr_zip  \\\n",
       "0                    MOBILE        AL  366010290   \n",
       "1                    MOBILE        AL  366010290   \n",
       "2                    LANETT        AL  368633403   \n",
       "3                   PIGGOTT        AR  724548253   \n",
       "4        HOT SPRINGS NATION        AR  719016467   \n",
       "...                     ...       ...        ...   \n",
       "1001726      INFO REQUESTED        XX      99999   \n",
       "1001727      INFO REQUESTED        XX      99999   \n",
       "1001728      INFO REQUESTED        XX      99999   \n",
       "1001729      INFO REQUESTED        XX      99999   \n",
       "1001730      INFO REQUESTED        XX      99999   \n",
       "\n",
       "                                contbr_employer  \\\n",
       "0                                       RETIRED   \n",
       "1                                       RETIRED   \n",
       "2                         INFORMATION REQUESTED   \n",
       "3                                          NONE   \n",
       "4                                          NONE   \n",
       "...                                         ...   \n",
       "1001726  INFORMATION REQUESTED PER BEST EFFORTS   \n",
       "1001727            DUFFY EQUIPMENT COMPANY INC.   \n",
       "1001728  INFORMATION REQUESTED PER BEST EFFORTS   \n",
       "1001729                                T.A.C.C.   \n",
       "1001730  INFORMATION REQUESTED PER BEST EFFORTS   \n",
       "\n",
       "                              contbr_occupation  contb_receipt_amt  \\\n",
       "0                                       RETIRED              250.0   \n",
       "1                                       RETIRED               50.0   \n",
       "2                         INFORMATION REQUESTED              250.0   \n",
       "3                                       RETIRED              250.0   \n",
       "4                                       RETIRED              300.0   \n",
       "...                                         ...                ...   \n",
       "1001726  INFORMATION REQUESTED PER BEST EFFORTS             5000.0   \n",
       "1001727                          BUSINESS OWNER             2500.0   \n",
       "1001728  INFORMATION REQUESTED PER BEST EFFORTS              500.0   \n",
       "1001729            LONGWALL MAINTENANCE FOREMAN              500.0   \n",
       "1001730  INFORMATION REQUESTED PER BEST EFFORTS             2500.0   \n",
       "\n",
       "        contb_receipt_dt                                       receipt_desc  \\\n",
       "0              20-JUN-11                                               None   \n",
       "1              23-JUN-11                                               None   \n",
       "2              05-JUL-11                                               None   \n",
       "3              01-AUG-11                                               None   \n",
       "4              20-JUN-11                                               None   \n",
       "...                  ...                                                ...   \n",
       "1001726        29-SEP-11  REATTRIBUTION / REDESIGNATION REQUESTED (AUTOM...   \n",
       "1001727        30-SEP-11                                               None   \n",
       "1001728        29-SEP-11                                               None   \n",
       "1001729        30-SEP-11                                               None   \n",
       "1001730        31-AUG-11                                               None   \n",
       "\n",
       "        memo_cd                                          memo_text form_tp  \\\n",
       "0          None                                               None   SA17A   \n",
       "1          None                                               None   SA17A   \n",
       "2          None                                               None   SA17A   \n",
       "3          None                                               None   SA17A   \n",
       "4          None                                               None   SA17A   \n",
       "...         ...                                                ...     ...   \n",
       "1001726    None  REATTRIBUTION / REDESIGNATION REQUESTED (AUTOM...   SA17A   \n",
       "1001727    None                                               None   SA17A   \n",
       "1001728    None                                               None   SA17A   \n",
       "1001729    None                                               None   SA17A   \n",
       "1001730    None                                               None   SA17A   \n",
       "\n",
       "         file_num  \n",
       "0          736166  \n",
       "1          736166  \n",
       "2          749073  \n",
       "3          749073  \n",
       "4          736166  \n",
       "...           ...  \n",
       "1001726    751678  \n",
       "1001727    751678  \n",
       "1001728    751678  \n",
       "1001729    751678  \n",
       "1001730    751678  \n",
       "\n",
       "[1001731 rows x 16 columns]"
      ]
     },
     "execution_count": 86,
     "metadata": {},
     "output_type": "execute_result"
    }
   ],
   "source": [
    "fec\n"
   ]
  },
  {
   "cell_type": "markdown",
   "id": "c33912bb",
   "metadata": {},
   "source": [
    "### Leitura de arquivos do Microsoft Excel"
   ]
  },
  {
   "cell_type": "code",
   "execution_count": 87,
   "id": "f02e2b0d",
   "metadata": {},
   "outputs": [],
   "source": [
    "xlsx = pd.ExcelFile(\"examples/ex1.xlsx\")\n"
   ]
  },
  {
   "cell_type": "code",
   "execution_count": 88,
   "id": "802b8a98",
   "metadata": {},
   "outputs": [
    {
     "data": {
      "text/plain": [
       "['Sheet1']"
      ]
     },
     "execution_count": 88,
     "metadata": {},
     "output_type": "execute_result"
    }
   ],
   "source": [
    "xlsx.sheet_names\n"
   ]
  },
  {
   "cell_type": "code",
   "execution_count": 89,
   "id": "5d60ac04",
   "metadata": {},
   "outputs": [
    {
     "data": {
      "application/vnd.microsoft.datawrangler.viewer.v0+json": {
       "columns": [
        {
         "name": "index",
         "rawType": "int64",
         "type": "integer"
        },
        {
         "name": "Unnamed: 0",
         "rawType": "int64",
         "type": "integer"
        },
        {
         "name": "a",
         "rawType": "int64",
         "type": "integer"
        },
        {
         "name": "b",
         "rawType": "int64",
         "type": "integer"
        },
        {
         "name": "c",
         "rawType": "int64",
         "type": "integer"
        },
        {
         "name": "d",
         "rawType": "int64",
         "type": "integer"
        },
        {
         "name": "message",
         "rawType": "object",
         "type": "string"
        }
       ],
       "ref": "30193014-60f1-4736-ba03-b1a8e7cd10ca",
       "rows": [
        [
         "0",
         "0",
         "1",
         "2",
         "3",
         "4",
         "hello"
        ],
        [
         "1",
         "1",
         "5",
         "6",
         "7",
         "8",
         "world"
        ],
        [
         "2",
         "2",
         "9",
         "10",
         "11",
         "12",
         "foo"
        ]
       ],
       "shape": {
        "columns": 6,
        "rows": 3
       }
      },
      "text/html": [
       "<div>\n",
       "<style scoped>\n",
       "    .dataframe tbody tr th:only-of-type {\n",
       "        vertical-align: middle;\n",
       "    }\n",
       "\n",
       "    .dataframe tbody tr th {\n",
       "        vertical-align: top;\n",
       "    }\n",
       "\n",
       "    .dataframe thead th {\n",
       "        text-align: right;\n",
       "    }\n",
       "</style>\n",
       "<table border=\"1\" class=\"dataframe\">\n",
       "  <thead>\n",
       "    <tr style=\"text-align: right;\">\n",
       "      <th></th>\n",
       "      <th>Unnamed: 0</th>\n",
       "      <th>a</th>\n",
       "      <th>b</th>\n",
       "      <th>c</th>\n",
       "      <th>d</th>\n",
       "      <th>message</th>\n",
       "    </tr>\n",
       "  </thead>\n",
       "  <tbody>\n",
       "    <tr>\n",
       "      <th>0</th>\n",
       "      <td>0</td>\n",
       "      <td>1</td>\n",
       "      <td>2</td>\n",
       "      <td>3</td>\n",
       "      <td>4</td>\n",
       "      <td>hello</td>\n",
       "    </tr>\n",
       "    <tr>\n",
       "      <th>1</th>\n",
       "      <td>1</td>\n",
       "      <td>5</td>\n",
       "      <td>6</td>\n",
       "      <td>7</td>\n",
       "      <td>8</td>\n",
       "      <td>world</td>\n",
       "    </tr>\n",
       "    <tr>\n",
       "      <th>2</th>\n",
       "      <td>2</td>\n",
       "      <td>9</td>\n",
       "      <td>10</td>\n",
       "      <td>11</td>\n",
       "      <td>12</td>\n",
       "      <td>foo</td>\n",
       "    </tr>\n",
       "  </tbody>\n",
       "</table>\n",
       "</div>"
      ],
      "text/plain": [
       "   Unnamed: 0  a   b   c   d message\n",
       "0           0  1   2   3   4   hello\n",
       "1           1  5   6   7   8   world\n",
       "2           2  9  10  11  12     foo"
      ]
     },
     "execution_count": 89,
     "metadata": {},
     "output_type": "execute_result"
    }
   ],
   "source": [
    "xlsx.parse(sheet_name=\"Sheet1\")\n"
   ]
  },
  {
   "cell_type": "code",
   "execution_count": 90,
   "id": "6d2fa5f6",
   "metadata": {},
   "outputs": [
    {
     "data": {
      "application/vnd.microsoft.datawrangler.viewer.v0+json": {
       "columns": [
        {
         "name": "index",
         "rawType": "int64",
         "type": "integer"
        },
        {
         "name": "a",
         "rawType": "int64",
         "type": "integer"
        },
        {
         "name": "b",
         "rawType": "int64",
         "type": "integer"
        },
        {
         "name": "c",
         "rawType": "int64",
         "type": "integer"
        },
        {
         "name": "d",
         "rawType": "int64",
         "type": "integer"
        },
        {
         "name": "message",
         "rawType": "object",
         "type": "string"
        }
       ],
       "ref": "b1c1fc46-b12b-4cf8-8beb-ce952f82e3ff",
       "rows": [
        [
         "0",
         "1",
         "2",
         "3",
         "4",
         "hello"
        ],
        [
         "1",
         "5",
         "6",
         "7",
         "8",
         "world"
        ],
        [
         "2",
         "9",
         "10",
         "11",
         "12",
         "foo"
        ]
       ],
       "shape": {
        "columns": 5,
        "rows": 3
       }
      },
      "text/html": [
       "<div>\n",
       "<style scoped>\n",
       "    .dataframe tbody tr th:only-of-type {\n",
       "        vertical-align: middle;\n",
       "    }\n",
       "\n",
       "    .dataframe tbody tr th {\n",
       "        vertical-align: top;\n",
       "    }\n",
       "\n",
       "    .dataframe thead th {\n",
       "        text-align: right;\n",
       "    }\n",
       "</style>\n",
       "<table border=\"1\" class=\"dataframe\">\n",
       "  <thead>\n",
       "    <tr style=\"text-align: right;\">\n",
       "      <th></th>\n",
       "      <th>a</th>\n",
       "      <th>b</th>\n",
       "      <th>c</th>\n",
       "      <th>d</th>\n",
       "      <th>message</th>\n",
       "    </tr>\n",
       "  </thead>\n",
       "  <tbody>\n",
       "    <tr>\n",
       "      <th>0</th>\n",
       "      <td>1</td>\n",
       "      <td>2</td>\n",
       "      <td>3</td>\n",
       "      <td>4</td>\n",
       "      <td>hello</td>\n",
       "    </tr>\n",
       "    <tr>\n",
       "      <th>1</th>\n",
       "      <td>5</td>\n",
       "      <td>6</td>\n",
       "      <td>7</td>\n",
       "      <td>8</td>\n",
       "      <td>world</td>\n",
       "    </tr>\n",
       "    <tr>\n",
       "      <th>2</th>\n",
       "      <td>9</td>\n",
       "      <td>10</td>\n",
       "      <td>11</td>\n",
       "      <td>12</td>\n",
       "      <td>foo</td>\n",
       "    </tr>\n",
       "  </tbody>\n",
       "</table>\n",
       "</div>"
      ],
      "text/plain": [
       "   a   b   c   d message\n",
       "0  1   2   3   4   hello\n",
       "1  5   6   7   8   world\n",
       "2  9  10  11  12     foo"
      ]
     },
     "execution_count": 90,
     "metadata": {},
     "output_type": "execute_result"
    }
   ],
   "source": [
    "xlsx.parse(sheet_name=\"Sheet1\", index_col=0)\n"
   ]
  },
  {
   "cell_type": "code",
   "execution_count": 91,
   "id": "520e8cd0",
   "metadata": {},
   "outputs": [],
   "source": [
    "frame = pd.read_excel(\"examples/ex1.xlsx\", sheet_name=\"Sheet1\")\n"
   ]
  },
  {
   "cell_type": "code",
   "execution_count": 92,
   "id": "8113e853",
   "metadata": {},
   "outputs": [
    {
     "data": {
      "application/vnd.microsoft.datawrangler.viewer.v0+json": {
       "columns": [
        {
         "name": "index",
         "rawType": "int64",
         "type": "integer"
        },
        {
         "name": "Unnamed: 0",
         "rawType": "int64",
         "type": "integer"
        },
        {
         "name": "a",
         "rawType": "int64",
         "type": "integer"
        },
        {
         "name": "b",
         "rawType": "int64",
         "type": "integer"
        },
        {
         "name": "c",
         "rawType": "int64",
         "type": "integer"
        },
        {
         "name": "d",
         "rawType": "int64",
         "type": "integer"
        },
        {
         "name": "message",
         "rawType": "object",
         "type": "string"
        }
       ],
       "ref": "98c76a9c-dd9a-430e-b46e-b73fbb6c2c77",
       "rows": [
        [
         "0",
         "0",
         "1",
         "2",
         "3",
         "4",
         "hello"
        ],
        [
         "1",
         "1",
         "5",
         "6",
         "7",
         "8",
         "world"
        ],
        [
         "2",
         "2",
         "9",
         "10",
         "11",
         "12",
         "foo"
        ]
       ],
       "shape": {
        "columns": 6,
        "rows": 3
       }
      },
      "text/html": [
       "<div>\n",
       "<style scoped>\n",
       "    .dataframe tbody tr th:only-of-type {\n",
       "        vertical-align: middle;\n",
       "    }\n",
       "\n",
       "    .dataframe tbody tr th {\n",
       "        vertical-align: top;\n",
       "    }\n",
       "\n",
       "    .dataframe thead th {\n",
       "        text-align: right;\n",
       "    }\n",
       "</style>\n",
       "<table border=\"1\" class=\"dataframe\">\n",
       "  <thead>\n",
       "    <tr style=\"text-align: right;\">\n",
       "      <th></th>\n",
       "      <th>Unnamed: 0</th>\n",
       "      <th>a</th>\n",
       "      <th>b</th>\n",
       "      <th>c</th>\n",
       "      <th>d</th>\n",
       "      <th>message</th>\n",
       "    </tr>\n",
       "  </thead>\n",
       "  <tbody>\n",
       "    <tr>\n",
       "      <th>0</th>\n",
       "      <td>0</td>\n",
       "      <td>1</td>\n",
       "      <td>2</td>\n",
       "      <td>3</td>\n",
       "      <td>4</td>\n",
       "      <td>hello</td>\n",
       "    </tr>\n",
       "    <tr>\n",
       "      <th>1</th>\n",
       "      <td>1</td>\n",
       "      <td>5</td>\n",
       "      <td>6</td>\n",
       "      <td>7</td>\n",
       "      <td>8</td>\n",
       "      <td>world</td>\n",
       "    </tr>\n",
       "    <tr>\n",
       "      <th>2</th>\n",
       "      <td>2</td>\n",
       "      <td>9</td>\n",
       "      <td>10</td>\n",
       "      <td>11</td>\n",
       "      <td>12</td>\n",
       "      <td>foo</td>\n",
       "    </tr>\n",
       "  </tbody>\n",
       "</table>\n",
       "</div>"
      ],
      "text/plain": [
       "   Unnamed: 0  a   b   c   d message\n",
       "0           0  1   2   3   4   hello\n",
       "1           1  5   6   7   8   world\n",
       "2           2  9  10  11  12     foo"
      ]
     },
     "execution_count": 92,
     "metadata": {},
     "output_type": "execute_result"
    }
   ],
   "source": [
    "frame\n"
   ]
  },
  {
   "cell_type": "code",
   "execution_count": 93,
   "id": "6b563f9a",
   "metadata": {},
   "outputs": [],
   "source": [
    "writer = pd.ExcelWriter(\"examples/ex2.xlsx\")\n"
   ]
  },
  {
   "cell_type": "code",
   "execution_count": 94,
   "id": "8aecafa5",
   "metadata": {},
   "outputs": [],
   "source": [
    "frame.to_excel(writer, sheet_name=\"Sheet1\")\n"
   ]
  },
  {
   "cell_type": "code",
   "execution_count": 95,
   "id": "8e4861f3",
   "metadata": {},
   "outputs": [],
   "source": [
    "writer.close()\n",
    "\n",
    "# Alternativa para salvar o arquivo\n",
    "# with pd.ExcelWriter(\"examples/ex2.xlsx\") as writer:\n",
    "#     frame.to_excel(writer, sheet_name=\"Sheet1\")\n"
   ]
  },
  {
   "cell_type": "code",
   "execution_count": 96,
   "id": "bf0c657e",
   "metadata": {},
   "outputs": [],
   "source": [
    "frame.to_excel(\"examples/ex2.xlsx\")\n"
   ]
  },
  {
   "cell_type": "markdown",
   "id": "6a66686b",
   "metadata": {},
   "source": [
    "### Uso do formato HDF5"
   ]
  },
  {
   "cell_type": "code",
   "execution_count": 97,
   "id": "df8d7443",
   "metadata": {},
   "outputs": [],
   "source": [
    "frame = pd.DataFrame({\"a\": np.random.standard_normal(100)})\n"
   ]
  },
  {
   "cell_type": "code",
   "execution_count": 98,
   "id": "1047939a",
   "metadata": {},
   "outputs": [],
   "source": [
    "store = pd.HDFStore(\"examples/mydata.h5\")\n"
   ]
  },
  {
   "cell_type": "code",
   "execution_count": null,
   "id": "6d32c8bc",
   "metadata": {},
   "outputs": [],
   "source": [
    "store[\"obj1\"] = frame\n"
   ]
  },
  {
   "cell_type": "code",
   "execution_count": 100,
   "id": "0f748748",
   "metadata": {},
   "outputs": [],
   "source": [
    "store[\"obj1_col\"] = frame[\"a\"]\n"
   ]
  },
  {
   "cell_type": "code",
   "execution_count": null,
   "id": "df0e8e0b",
   "metadata": {},
   "outputs": [
    {
     "data": {
      "text/plain": [
       "<class 'pandas.io.pytables.HDFStore'>\n",
       "File path: examples/mydata.h5"
      ]
     },
     "execution_count": 101,
     "metadata": {},
     "output_type": "execute_result"
    }
   ],
   "source": [
    "store\n"
   ]
  },
  {
   "cell_type": "code",
   "execution_count": null,
   "id": "e41f5e63",
   "metadata": {},
   "outputs": [
    {
     "data": {
      "application/vnd.microsoft.datawrangler.viewer.v0+json": {
       "columns": [
        {
         "name": "index",
         "rawType": "int64",
         "type": "integer"
        },
        {
         "name": "a",
         "rawType": "float64",
         "type": "float"
        }
       ],
       "ref": "fb151d94-01a6-48e6-b84b-4df922e4eaed",
       "rows": [
        [
         "0",
         "-0.8827355676861195"
        ],
        [
         "1",
         "0.5059572326231158"
        ],
        [
         "2",
         "-0.5915991525297576"
        ],
        [
         "3",
         "-0.9586389673713914"
        ],
        [
         "4",
         "1.3365897128712112"
        ],
        [
         "5",
         "1.5835289400594414"
        ],
        [
         "6",
         "0.28668915332480166"
        ],
        [
         "7",
         "-0.36641449728509495"
        ],
        [
         "8",
         "0.006168404539743803"
        ],
        [
         "9",
         "0.3662803292596471"
        ],
        [
         "10",
         "-0.5783241791129962"
        ],
        [
         "11",
         "-0.23825003963264627"
        ],
        [
         "12",
         "-1.138060018013597"
        ],
        [
         "13",
         "-2.343708320806228"
        ],
        [
         "14",
         "1.4974563498788376"
        ],
        [
         "15",
         "0.2948567383958375"
        ],
        [
         "16",
         "1.4976895644508286"
        ],
        [
         "17",
         "0.11176937579931102"
        ],
        [
         "18",
         "0.6867835598161802"
        ],
        [
         "19",
         "-0.10922961182185792"
        ],
        [
         "20",
         "0.30563043247414196"
        ],
        [
         "21",
         "0.8168132070698346"
        ],
        [
         "22",
         "-0.12998811797749435"
        ],
        [
         "23",
         "-0.4581872797028085"
        ],
        [
         "24",
         "-0.043860952230919244"
        ],
        [
         "25",
         "0.18789210626298092"
        ],
        [
         "26",
         "0.21122554417266295"
        ],
        [
         "27",
         "0.28604568591410284"
        ],
        [
         "28",
         "0.6236222041401034"
        ],
        [
         "29",
         "0.15513920323372216"
        ],
        [
         "30",
         "0.22466722473179138"
        ],
        [
         "31",
         "0.052382789526618456"
        ],
        [
         "32",
         "-0.28034205136954365"
        ],
        [
         "33",
         "-0.9515630595029518"
        ],
        [
         "34",
         "-0.051597984248977144"
        ],
        [
         "35",
         "0.4517498096330663"
        ],
        [
         "36",
         "0.1225009240687018"
        ],
        [
         "37",
         "0.16521701420935614"
        ],
        [
         "38",
         "0.20429053080140547"
        ],
        [
         "39",
         "1.0699215639600594"
        ],
        [
         "40",
         "0.4541885351810644"
        ],
        [
         "41",
         "0.7546003734113673"
        ],
        [
         "42",
         "0.12681246376613672"
        ],
        [
         "43",
         "1.0987460277558883"
        ],
        [
         "44",
         "-1.2913675979594554"
        ],
        [
         "45",
         "2.075798490216932"
        ],
        [
         "46",
         "-1.9931445984978726"
        ],
        [
         "47",
         "-0.826761437829989"
        ],
        [
         "48",
         "0.8043048365910841"
        ],
        [
         "49",
         "0.27755089330023974"
        ]
       ],
       "shape": {
        "columns": 1,
        "rows": 100
       }
      },
      "text/html": [
       "<div>\n",
       "<style scoped>\n",
       "    .dataframe tbody tr th:only-of-type {\n",
       "        vertical-align: middle;\n",
       "    }\n",
       "\n",
       "    .dataframe tbody tr th {\n",
       "        vertical-align: top;\n",
       "    }\n",
       "\n",
       "    .dataframe thead th {\n",
       "        text-align: right;\n",
       "    }\n",
       "</style>\n",
       "<table border=\"1\" class=\"dataframe\">\n",
       "  <thead>\n",
       "    <tr style=\"text-align: right;\">\n",
       "      <th></th>\n",
       "      <th>a</th>\n",
       "    </tr>\n",
       "  </thead>\n",
       "  <tbody>\n",
       "    <tr>\n",
       "      <th>0</th>\n",
       "      <td>-0.882736</td>\n",
       "    </tr>\n",
       "    <tr>\n",
       "      <th>1</th>\n",
       "      <td>0.505957</td>\n",
       "    </tr>\n",
       "    <tr>\n",
       "      <th>2</th>\n",
       "      <td>-0.591599</td>\n",
       "    </tr>\n",
       "    <tr>\n",
       "      <th>3</th>\n",
       "      <td>-0.958639</td>\n",
       "    </tr>\n",
       "    <tr>\n",
       "      <th>4</th>\n",
       "      <td>1.336590</td>\n",
       "    </tr>\n",
       "    <tr>\n",
       "      <th>...</th>\n",
       "      <td>...</td>\n",
       "    </tr>\n",
       "    <tr>\n",
       "      <th>95</th>\n",
       "      <td>-0.612188</td>\n",
       "    </tr>\n",
       "    <tr>\n",
       "      <th>96</th>\n",
       "      <td>1.933219</td>\n",
       "    </tr>\n",
       "    <tr>\n",
       "      <th>97</th>\n",
       "      <td>0.232227</td>\n",
       "    </tr>\n",
       "    <tr>\n",
       "      <th>98</th>\n",
       "      <td>0.908459</td>\n",
       "    </tr>\n",
       "    <tr>\n",
       "      <th>99</th>\n",
       "      <td>2.441965</td>\n",
       "    </tr>\n",
       "  </tbody>\n",
       "</table>\n",
       "<p>100 rows × 1 columns</p>\n",
       "</div>"
      ],
      "text/plain": [
       "           a\n",
       "0  -0.882736\n",
       "1   0.505957\n",
       "2  -0.591599\n",
       "3  -0.958639\n",
       "4   1.336590\n",
       "..       ...\n",
       "95 -0.612188\n",
       "96  1.933219\n",
       "97  0.232227\n",
       "98  0.908459\n",
       "99  2.441965\n",
       "\n",
       "[100 rows x 1 columns]"
      ]
     },
     "execution_count": 103,
     "metadata": {},
     "output_type": "execute_result"
    }
   ],
   "source": [
    "store[\"obj1\"]\n"
   ]
  },
  {
   "cell_type": "code",
   "execution_count": 104,
   "id": "c89eee36",
   "metadata": {},
   "outputs": [],
   "source": [
    "store.put(\"obj2\", frame, format=\"table\")\n"
   ]
  },
  {
   "cell_type": "code",
   "execution_count": 105,
   "id": "fdcaf48d",
   "metadata": {},
   "outputs": [
    {
     "data": {
      "application/vnd.microsoft.datawrangler.viewer.v0+json": {
       "columns": [
        {
         "name": "index",
         "rawType": "int64",
         "type": "integer"
        },
        {
         "name": "a",
         "rawType": "float64",
         "type": "float"
        }
       ],
       "ref": "6ab5ee4e-1012-4436-875b-205071da6f04",
       "rows": [
        [
         "10",
         "-0.5783241791129962"
        ],
        [
         "11",
         "-0.23825003963264627"
        ],
        [
         "12",
         "-1.138060018013597"
        ],
        [
         "13",
         "-2.343708320806228"
        ],
        [
         "14",
         "1.4974563498788376"
        ],
        [
         "15",
         "0.2948567383958375"
        ]
       ],
       "shape": {
        "columns": 1,
        "rows": 6
       }
      },
      "text/html": [
       "<div>\n",
       "<style scoped>\n",
       "    .dataframe tbody tr th:only-of-type {\n",
       "        vertical-align: middle;\n",
       "    }\n",
       "\n",
       "    .dataframe tbody tr th {\n",
       "        vertical-align: top;\n",
       "    }\n",
       "\n",
       "    .dataframe thead th {\n",
       "        text-align: right;\n",
       "    }\n",
       "</style>\n",
       "<table border=\"1\" class=\"dataframe\">\n",
       "  <thead>\n",
       "    <tr style=\"text-align: right;\">\n",
       "      <th></th>\n",
       "      <th>a</th>\n",
       "    </tr>\n",
       "  </thead>\n",
       "  <tbody>\n",
       "    <tr>\n",
       "      <th>10</th>\n",
       "      <td>-0.578324</td>\n",
       "    </tr>\n",
       "    <tr>\n",
       "      <th>11</th>\n",
       "      <td>-0.238250</td>\n",
       "    </tr>\n",
       "    <tr>\n",
       "      <th>12</th>\n",
       "      <td>-1.138060</td>\n",
       "    </tr>\n",
       "    <tr>\n",
       "      <th>13</th>\n",
       "      <td>-2.343708</td>\n",
       "    </tr>\n",
       "    <tr>\n",
       "      <th>14</th>\n",
       "      <td>1.497456</td>\n",
       "    </tr>\n",
       "    <tr>\n",
       "      <th>15</th>\n",
       "      <td>0.294857</td>\n",
       "    </tr>\n",
       "  </tbody>\n",
       "</table>\n",
       "</div>"
      ],
      "text/plain": [
       "           a\n",
       "10 -0.578324\n",
       "11 -0.238250\n",
       "12 -1.138060\n",
       "13 -2.343708\n",
       "14  1.497456\n",
       "15  0.294857"
      ]
     },
     "execution_count": 105,
     "metadata": {},
     "output_type": "execute_result"
    }
   ],
   "source": [
    "store.select(\"obj2\", where=[\"index >= 10 and index <= 15\"])\n"
   ]
  },
  {
   "cell_type": "code",
   "execution_count": null,
   "id": "80c7a7fd",
   "metadata": {},
   "outputs": [],
   "source": [
    "store.close()\n"
   ]
  },
  {
   "cell_type": "code",
   "execution_count": 107,
   "id": "de83299e",
   "metadata": {},
   "outputs": [
    {
     "name": "stderr",
     "output_type": "stream",
     "text": [
      "C:\\Users\\derek\\AppData\\Local\\Temp\\ipykernel_17496\\1277131479.py:1: FutureWarning: Starting with pandas version 3.0 all arguments of to_hdf except for the argument 'path_or_buf' will be keyword-only.\n",
      "  frame.to_hdf(\"examples/mydata.h5\", \"obj3\", format=\"table\")\n"
     ]
    }
   ],
   "source": [
    "frame.to_hdf(\"examples/mydata.h5\", \"obj3\", format=\"table\")\n"
   ]
  },
  {
   "cell_type": "code",
   "execution_count": 108,
   "id": "ec686559",
   "metadata": {},
   "outputs": [
    {
     "data": {
      "application/vnd.microsoft.datawrangler.viewer.v0+json": {
       "columns": [
        {
         "name": "index",
         "rawType": "int64",
         "type": "integer"
        },
        {
         "name": "a",
         "rawType": "float64",
         "type": "float"
        }
       ],
       "ref": "b17b2692-5327-4b4c-97a1-7f2c132409e5",
       "rows": [
        [
         "0",
         "-0.8827355676861195"
        ],
        [
         "1",
         "0.5059572326231158"
        ],
        [
         "2",
         "-0.5915991525297576"
        ],
        [
         "3",
         "-0.9586389673713914"
        ],
        [
         "4",
         "1.3365897128712112"
        ]
       ],
       "shape": {
        "columns": 1,
        "rows": 5
       }
      },
      "text/html": [
       "<div>\n",
       "<style scoped>\n",
       "    .dataframe tbody tr th:only-of-type {\n",
       "        vertical-align: middle;\n",
       "    }\n",
       "\n",
       "    .dataframe tbody tr th {\n",
       "        vertical-align: top;\n",
       "    }\n",
       "\n",
       "    .dataframe thead th {\n",
       "        text-align: right;\n",
       "    }\n",
       "</style>\n",
       "<table border=\"1\" class=\"dataframe\">\n",
       "  <thead>\n",
       "    <tr style=\"text-align: right;\">\n",
       "      <th></th>\n",
       "      <th>a</th>\n",
       "    </tr>\n",
       "  </thead>\n",
       "  <tbody>\n",
       "    <tr>\n",
       "      <th>0</th>\n",
       "      <td>-0.882736</td>\n",
       "    </tr>\n",
       "    <tr>\n",
       "      <th>1</th>\n",
       "      <td>0.505957</td>\n",
       "    </tr>\n",
       "    <tr>\n",
       "      <th>2</th>\n",
       "      <td>-0.591599</td>\n",
       "    </tr>\n",
       "    <tr>\n",
       "      <th>3</th>\n",
       "      <td>-0.958639</td>\n",
       "    </tr>\n",
       "    <tr>\n",
       "      <th>4</th>\n",
       "      <td>1.336590</td>\n",
       "    </tr>\n",
       "  </tbody>\n",
       "</table>\n",
       "</div>"
      ],
      "text/plain": [
       "          a\n",
       "0 -0.882736\n",
       "1  0.505957\n",
       "2 -0.591599\n",
       "3 -0.958639\n",
       "4  1.336590"
      ]
     },
     "execution_count": 108,
     "metadata": {},
     "output_type": "execute_result"
    }
   ],
   "source": [
    "pd.read_hdf(\"examples/mydata.h5\", \"obj3\", where=[\"index < 5\"])\n"
   ]
  },
  {
   "cell_type": "markdown",
   "id": "68dc589a",
   "metadata": {},
   "source": [
    "## 6.3 Interação com web APIs"
   ]
  },
  {
   "cell_type": "code",
   "execution_count": null,
   "id": "16cb8370",
   "metadata": {},
   "outputs": [],
   "source": [
    "import requests\n"
   ]
  },
  {
   "cell_type": "code",
   "execution_count": 110,
   "id": "f4858b44",
   "metadata": {},
   "outputs": [],
   "source": [
    "url = \"https://api.github.com/repos/pandas-dev/pandas/issues\"\n"
   ]
  },
  {
   "cell_type": "code",
   "execution_count": 111,
   "id": "04a213fd",
   "metadata": {},
   "outputs": [],
   "source": [
    "resp = requests.get(url)\n"
   ]
  },
  {
   "cell_type": "code",
   "execution_count": null,
   "id": "0e918ed5",
   "metadata": {},
   "outputs": [],
   "source": [
    "resp.raise_for_status()\n"
   ]
  },
  {
   "cell_type": "code",
   "execution_count": null,
   "id": "bf51f553",
   "metadata": {},
   "outputs": [
    {
     "data": {
      "text/plain": [
       "<Response [200]>"
      ]
     },
     "execution_count": 113,
     "metadata": {},
     "output_type": "execute_result"
    }
   ],
   "source": [
    "resp\n"
   ]
  },
  {
   "cell_type": "code",
   "execution_count": null,
   "id": "db532cb5",
   "metadata": {},
   "outputs": [],
   "source": [
    "data = resp.json()\n"
   ]
  },
  {
   "cell_type": "code",
   "execution_count": 115,
   "id": "0e91023c",
   "metadata": {},
   "outputs": [
    {
     "data": {
      "text/plain": [
       "'[backport 2.3.x] DOC: move and reword whatsnew note for replace fix (GH-57865) (#62153)'"
      ]
     },
     "execution_count": 115,
     "metadata": {},
     "output_type": "execute_result"
    }
   ],
   "source": [
    "data[0][\"title\"]\n"
   ]
  },
  {
   "cell_type": "code",
   "execution_count": 116,
   "id": "dc8c693d",
   "metadata": {},
   "outputs": [],
   "source": [
    "issues = pd.DataFrame(data, columns=[\"number\", \"title\", \"labels\", \"state\"])\n"
   ]
  },
  {
   "cell_type": "code",
   "execution_count": null,
   "id": "db8b9726",
   "metadata": {},
   "outputs": [
    {
     "data": {
      "application/vnd.microsoft.datawrangler.viewer.v0+json": {
       "columns": [
        {
         "name": "index",
         "rawType": "int64",
         "type": "integer"
        },
        {
         "name": "number",
         "rawType": "int64",
         "type": "integer"
        },
        {
         "name": "title",
         "rawType": "object",
         "type": "string"
        },
        {
         "name": "labels",
         "rawType": "object",
         "type": "unknown"
        },
        {
         "name": "state",
         "rawType": "object",
         "type": "string"
        }
       ],
       "ref": "42ce711a-5222-42e1-a087-32fd30f49d5b",
       "rows": [
        [
         "0",
         "62156",
         "[backport 2.3.x] DOC: move and reword whatsnew note for replace fix (GH-57865) (#62153)",
         "[]",
         "open"
        ],
        [
         "1",
         "62155",
         "REF: remove unnecessary string mixins",
         "[]",
         "open"
        ],
        [
         "2",
         "62154",
         "BUG: resampling with origin=end_date includes extra elements in the bucket",
         "[{'id': 76811, 'node_id': 'MDU6TGFiZWw3NjgxMQ==', 'url': 'https://api.github.com/repos/pandas-dev/pandas/labels/Bug', 'name': 'Bug', 'color': 'e10c02', 'default': False, 'description': None}, {'id': 1954720290, 'node_id': 'MDU6TGFiZWwxOTU0NzIwMjkw', 'url': 'https://api.github.com/repos/pandas-dev/pandas/labels/Needs%20Triage', 'name': 'Needs Triage', 'color': '0052cc', 'default': False, 'description': 'Issue that has not been reviewed by a pandas team member'}]",
         "open"
        ],
        [
         "3",
         "62152",
         "DOC: prepare 2.3.2 whatsnew notes for release",
         "[{'id': 134699, 'node_id': 'MDU6TGFiZWwxMzQ2OTk=', 'url': 'https://api.github.com/repos/pandas-dev/pandas/labels/Docs', 'name': 'Docs', 'color': '3465A4', 'default': False, 'description': None}]",
         "open"
        ],
        [
         "4",
         "62150",
         "BUG: Inconsistent behaviour when merging reset-ed MultiIndex dataframe",
         "[{'id': 76811, 'node_id': 'MDU6TGFiZWw3NjgxMQ==', 'url': 'https://api.github.com/repos/pandas-dev/pandas/labels/Bug', 'name': 'Bug', 'color': 'e10c02', 'default': False, 'description': None}, {'id': 1954720290, 'node_id': 'MDU6TGFiZWwxOTU0NzIwMjkw', 'url': 'https://api.github.com/repos/pandas-dev/pandas/labels/Needs%20Triage', 'name': 'Needs Triage', 'color': '0052cc', 'default': False, 'description': 'Issue that has not been reviewed by a pandas team member'}]",
         "open"
        ],
        [
         "5",
         "62149",
         "REF: get rid of StringArrayNumpySemantics",
         "[]",
         "open"
        ],
        [
         "6",
         "62148",
         "RLS: 2.3.2",
         "[{'id': 131473665, 'node_id': 'MDU6TGFiZWwxMzE0NzM2NjU=', 'url': 'https://api.github.com/repos/pandas-dev/pandas/labels/Release', 'name': 'Release', 'color': '006b75', 'default': False, 'description': None}]",
         "open"
        ],
        [
         "7",
         "62146",
         "BUG: Fails to Build on Raspberry Pi 3 (tested both 2.1.4, 2.3.1 and main Branch)",
         "[{'id': 76811, 'node_id': 'MDU6TGFiZWw3NjgxMQ==', 'url': 'https://api.github.com/repos/pandas-dev/pandas/labels/Bug', 'name': 'Bug', 'color': 'e10c02', 'default': False, 'description': None}, {'id': 1954720290, 'node_id': 'MDU6TGFiZWwxOTU0NzIwMjkw', 'url': 'https://api.github.com/repos/pandas-dev/pandas/labels/Needs%20Triage', 'name': 'Needs Triage', 'color': '0052cc', 'default': False, 'description': 'Issue that has not been reviewed by a pandas team member'}]",
         "open"
        ],
        [
         "8",
         "62145",
         "fix enum typing from _lib",
         "[]",
         "open"
        ],
        [
         "9",
         "62144",
         "BUG / API: setitem on pandas object fails if underlying numpy array is read-only",
         "[{'id': 2822098, 'node_id': 'MDU6TGFiZWwyODIyMDk4', 'url': 'https://api.github.com/repos/pandas-dev/pandas/labels/Indexing', 'name': 'Indexing', 'color': '0b02e1', 'default': False, 'description': 'Related to indexing on series/frames, not to indexes themselves'}, {'id': 35818298, 'node_id': 'MDU6TGFiZWwzNTgxODI5OA==', 'url': 'https://api.github.com/repos/pandas-dev/pandas/labels/API%20Design', 'name': 'API Design', 'color': 'AD7FA8', 'default': False, 'description': None}]",
         "open"
        ],
        [
         "10",
         "62143",
         "DOC: Clarify is_scalar docstring to specify scalar vs non-scalar and add Enum example (GH#62063)",
         "[]",
         "open"
        ],
        [
         "11",
         "62142",
         "DEPR: Categorical with values not present in categories",
         "[]",
         "open"
        ],
        [
         "12",
         "62141",
         "ENH: Consistent `name` property for the iterates in `DataFrameGroupBy`",
         "[{'id': 76811, 'node_id': 'MDU6TGFiZWw3NjgxMQ==', 'url': 'https://api.github.com/repos/pandas-dev/pandas/labels/Bug', 'name': 'Bug', 'color': 'e10c02', 'default': False, 'description': None}, {'id': 76812, 'node_id': 'MDU6TGFiZWw3NjgxMg==', 'url': 'https://api.github.com/repos/pandas-dev/pandas/labels/Enhancement', 'name': 'Enhancement', 'color': '4E9A06', 'default': False, 'description': None}, {'id': 233160, 'node_id': 'MDU6TGFiZWwyMzMxNjA=', 'url': 'https://api.github.com/repos/pandas-dev/pandas/labels/Groupby', 'name': 'Groupby', 'color': '729FCF', 'default': False, 'description': None}, {'id': 1741841389, 'node_id': 'MDU6TGFiZWwxNzQxODQxMzg5', 'url': 'https://api.github.com/repos/pandas-dev/pandas/labels/API%20-%20Consistency', 'name': 'API - Consistency', 'color': 'b60205', 'default': False, 'description': 'Internal Consistency of API/Behavior'}]",
         "open"
        ],
        [
         "13",
         "62139",
         "BUG: Fix to_csv microsecond inconsistency (#62111)",
         "[]",
         "open"
        ],
        [
         "14",
         "62138",
         "BUG: Preserve day freq on DatetimeIndex subtraction",
         "[]",
         "open"
        ],
        [
         "15",
         "62137",
         "ENH: Rename DataFrame._append to _append_internal",
         "[]",
         "open"
        ],
        [
         "16",
         "62136",
         "DOC: Deprecate empty string defaults in DataFrame.join suffixes",
         "[]",
         "open"
        ],
        [
         "17",
         "62135",
         "BUG: Fix groupby.apply() dropping _metadata from subclassed DataFrame",
         "[]",
         "open"
        ],
        [
         "18",
         "62134",
         "BUG: groupby.apply() drops _metadata from subclassed DataFrame",
         "[{'id': 76811, 'node_id': 'MDU6TGFiZWw3NjgxMQ==', 'url': 'https://api.github.com/repos/pandas-dev/pandas/labels/Bug', 'name': 'Bug', 'color': 'e10c02', 'default': False, 'description': None}, {'id': 1539579994, 'node_id': 'MDU6TGFiZWwxNTM5NTc5OTk0', 'url': 'https://api.github.com/repos/pandas-dev/pandas/labels/metadata', 'name': 'metadata', 'color': '56efc9', 'default': False, 'description': '_metadata, .attrs'}, {'id': 1954720290, 'node_id': 'MDU6TGFiZWwxOTU0NzIwMjkw', 'url': 'https://api.github.com/repos/pandas-dev/pandas/labels/Needs%20Triage', 'name': 'Needs Triage', 'color': '0052cc', 'default': False, 'description': 'Issue that has not been reviewed by a pandas team member'}]",
         "open"
        ],
        [
         "19",
         "62131",
         "ENH: Enable destination aware scope for dataset attributes metadata propagation copy routines",
         "[]",
         "open"
        ],
        [
         "20",
         "62130",
         "Resolved issue 62094",
         "[]",
         "open"
        ],
        [
         "21",
         "62129",
         "REF/API: Move ArrowDtype(pa.foo_string()) into StringDtype(...)",
         "[]",
         "open"
        ],
        [
         "22",
         "62121",
         "BUG: Addition of __set_module__ breaks PyCharm PyDev debugger functionalities",
         "[]",
         "open"
        ],
        [
         "23",
         "62118",
         "Switch default string storage from python to pyarrow (if installed) also for NA-variant of the StringDtype",
         "[{'id': 57522093, 'node_id': 'MDU6TGFiZWw1NzUyMjA5Mw==', 'url': 'https://api.github.com/repos/pandas-dev/pandas/labels/Strings', 'name': 'Strings', 'color': '5319e7', 'default': False, 'description': 'String extension data type and string data'}, {'id': 1817503692, 'node_id': 'MDU6TGFiZWwxODE3NTAzNjky', 'url': 'https://api.github.com/repos/pandas-dev/pandas/labels/NA%20-%20MaskedArrays', 'name': 'NA - MaskedArrays', 'color': '8cc645', 'default': False, 'description': 'Related to pd.NA and nullable extension arrays'}]",
         "open"
        ],
        [
         "24",
         "62117",
         "fix(dtypes): ensure consistent behavior of is_string_dtype for Categorical",
         "[]",
         "open"
        ],
        [
         "25",
         "62111",
         "BUG: to_csv uses inconsistent microsecond format for datetimes with timezones",
         "[{'id': 76811, 'node_id': 'MDU6TGFiZWw3NjgxMQ==', 'url': 'https://api.github.com/repos/pandas-dev/pandas/labels/Bug', 'name': 'Bug', 'color': 'e10c02', 'default': False, 'description': None}, {'id': 1954720290, 'node_id': 'MDU6TGFiZWwxOTU0NzIwMjkw', 'url': 'https://api.github.com/repos/pandas-dev/pandas/labels/Needs%20Triage', 'name': 'Needs Triage', 'color': '0052cc', 'default': False, 'description': 'Issue that has not been reviewed by a pandas team member'}]",
         "open"
        ],
        [
         "26",
         "62110",
         "CI: Always install pandas in non-editable mode in CI",
         "[{'id': 48070600, 'node_id': 'MDU6TGFiZWw0ODA3MDYwMA==', 'url': 'https://api.github.com/repos/pandas-dev/pandas/labels/CI', 'name': 'CI', 'color': 'a2bca7', 'default': False, 'description': 'Continuous Integration'}]",
         "open"
        ],
        [
         "27",
         "62109",
         "BUG: `pd.api.types.is_string_dtype()` returns inconsistent results for Categorical series vs dtype",
         "[{'id': 76811, 'node_id': 'MDU6TGFiZWw3NjgxMQ==', 'url': 'https://api.github.com/repos/pandas-dev/pandas/labels/Bug', 'name': 'Bug', 'color': 'e10c02', 'default': False, 'description': None}, {'id': 1954720290, 'node_id': 'MDU6TGFiZWwxOTU0NzIwMjkw', 'url': 'https://api.github.com/repos/pandas-dev/pandas/labels/Needs%20Triage', 'name': 'Needs Triage', 'color': '0052cc', 'default': False, 'description': 'Issue that has not been reviewed by a pandas team member'}]",
         "open"
        ],
        [
         "28",
         "62108",
         "DOC: Website should copy code only",
         "[]",
         "open"
        ],
        [
         "29",
         "62103",
         "ENH: Introduce `pandas.col`",
         "[]",
         "open"
        ]
       ],
       "shape": {
        "columns": 4,
        "rows": 30
       }
      },
      "text/html": [
       "<div>\n",
       "<style scoped>\n",
       "    .dataframe tbody tr th:only-of-type {\n",
       "        vertical-align: middle;\n",
       "    }\n",
       "\n",
       "    .dataframe tbody tr th {\n",
       "        vertical-align: top;\n",
       "    }\n",
       "\n",
       "    .dataframe thead th {\n",
       "        text-align: right;\n",
       "    }\n",
       "</style>\n",
       "<table border=\"1\" class=\"dataframe\">\n",
       "  <thead>\n",
       "    <tr style=\"text-align: right;\">\n",
       "      <th></th>\n",
       "      <th>number</th>\n",
       "      <th>title</th>\n",
       "      <th>labels</th>\n",
       "      <th>state</th>\n",
       "    </tr>\n",
       "  </thead>\n",
       "  <tbody>\n",
       "    <tr>\n",
       "      <th>0</th>\n",
       "      <td>62156</td>\n",
       "      <td>[backport 2.3.x] DOC: move and reword whatsnew...</td>\n",
       "      <td>[]</td>\n",
       "      <td>open</td>\n",
       "    </tr>\n",
       "    <tr>\n",
       "      <th>1</th>\n",
       "      <td>62155</td>\n",
       "      <td>REF: remove unnecessary string mixins</td>\n",
       "      <td>[]</td>\n",
       "      <td>open</td>\n",
       "    </tr>\n",
       "    <tr>\n",
       "      <th>2</th>\n",
       "      <td>62154</td>\n",
       "      <td>BUG: resampling with origin=end_date includes ...</td>\n",
       "      <td>[{'id': 76811, 'node_id': 'MDU6TGFiZWw3NjgxMQ=...</td>\n",
       "      <td>open</td>\n",
       "    </tr>\n",
       "    <tr>\n",
       "      <th>3</th>\n",
       "      <td>62152</td>\n",
       "      <td>DOC: prepare 2.3.2 whatsnew notes for release</td>\n",
       "      <td>[{'id': 134699, 'node_id': 'MDU6TGFiZWwxMzQ2OT...</td>\n",
       "      <td>open</td>\n",
       "    </tr>\n",
       "    <tr>\n",
       "      <th>4</th>\n",
       "      <td>62150</td>\n",
       "      <td>BUG: Inconsistent behaviour when merging reset...</td>\n",
       "      <td>[{'id': 76811, 'node_id': 'MDU6TGFiZWw3NjgxMQ=...</td>\n",
       "      <td>open</td>\n",
       "    </tr>\n",
       "    <tr>\n",
       "      <th>...</th>\n",
       "      <td>...</td>\n",
       "      <td>...</td>\n",
       "      <td>...</td>\n",
       "      <td>...</td>\n",
       "    </tr>\n",
       "    <tr>\n",
       "      <th>25</th>\n",
       "      <td>62111</td>\n",
       "      <td>BUG: to_csv uses inconsistent microsecond form...</td>\n",
       "      <td>[{'id': 76811, 'node_id': 'MDU6TGFiZWw3NjgxMQ=...</td>\n",
       "      <td>open</td>\n",
       "    </tr>\n",
       "    <tr>\n",
       "      <th>26</th>\n",
       "      <td>62110</td>\n",
       "      <td>CI: Always install pandas in non-editable mode...</td>\n",
       "      <td>[{'id': 48070600, 'node_id': 'MDU6TGFiZWw0ODA3...</td>\n",
       "      <td>open</td>\n",
       "    </tr>\n",
       "    <tr>\n",
       "      <th>27</th>\n",
       "      <td>62109</td>\n",
       "      <td>BUG: `pd.api.types.is_string_dtype()` returns ...</td>\n",
       "      <td>[{'id': 76811, 'node_id': 'MDU6TGFiZWw3NjgxMQ=...</td>\n",
       "      <td>open</td>\n",
       "    </tr>\n",
       "    <tr>\n",
       "      <th>28</th>\n",
       "      <td>62108</td>\n",
       "      <td>DOC: Website should copy code only</td>\n",
       "      <td>[]</td>\n",
       "      <td>open</td>\n",
       "    </tr>\n",
       "    <tr>\n",
       "      <th>29</th>\n",
       "      <td>62103</td>\n",
       "      <td>ENH: Introduce `pandas.col`</td>\n",
       "      <td>[]</td>\n",
       "      <td>open</td>\n",
       "    </tr>\n",
       "  </tbody>\n",
       "</table>\n",
       "<p>30 rows × 4 columns</p>\n",
       "</div>"
      ],
      "text/plain": [
       "    number                                              title  \\\n",
       "0    62156  [backport 2.3.x] DOC: move and reword whatsnew...   \n",
       "1    62155              REF: remove unnecessary string mixins   \n",
       "2    62154  BUG: resampling with origin=end_date includes ...   \n",
       "3    62152      DOC: prepare 2.3.2 whatsnew notes for release   \n",
       "4    62150  BUG: Inconsistent behaviour when merging reset...   \n",
       "..     ...                                                ...   \n",
       "25   62111  BUG: to_csv uses inconsistent microsecond form...   \n",
       "26   62110  CI: Always install pandas in non-editable mode...   \n",
       "27   62109  BUG: `pd.api.types.is_string_dtype()` returns ...   \n",
       "28   62108                 DOC: Website should copy code only   \n",
       "29   62103                        ENH: Introduce `pandas.col`   \n",
       "\n",
       "                                               labels state  \n",
       "0                                                  []  open  \n",
       "1                                                  []  open  \n",
       "2   [{'id': 76811, 'node_id': 'MDU6TGFiZWw3NjgxMQ=...  open  \n",
       "3   [{'id': 134699, 'node_id': 'MDU6TGFiZWwxMzQ2OT...  open  \n",
       "4   [{'id': 76811, 'node_id': 'MDU6TGFiZWw3NjgxMQ=...  open  \n",
       "..                                                ...   ...  \n",
       "25  [{'id': 76811, 'node_id': 'MDU6TGFiZWw3NjgxMQ=...  open  \n",
       "26  [{'id': 48070600, 'node_id': 'MDU6TGFiZWw0ODA3...  open  \n",
       "27  [{'id': 76811, 'node_id': 'MDU6TGFiZWw3NjgxMQ=...  open  \n",
       "28                                                 []  open  \n",
       "29                                                 []  open  \n",
       "\n",
       "[30 rows x 4 columns]"
      ]
     },
     "execution_count": 117,
     "metadata": {},
     "output_type": "execute_result"
    }
   ],
   "source": [
    "issues\n"
   ]
  },
  {
   "cell_type": "markdown",
   "id": "ee2af12c",
   "metadata": {},
   "source": [
    "## 6.4 Interação com bancos de dados"
   ]
  },
  {
   "cell_type": "code",
   "execution_count": null,
   "id": "53ffdf5d",
   "metadata": {},
   "outputs": [],
   "source": [
    "import sqlite3\n"
   ]
  },
  {
   "cell_type": "code",
   "execution_count": null,
   "id": "1cf98d44",
   "metadata": {},
   "outputs": [],
   "source": [
    "query = \"\"\"\n",
    "CREATE TABLE test\n",
    "(a VARCHAR(20), b VARCHAR(20),\n",
    "c REAL, d INTEGER\n",
    ");\n",
    "\"\"\"\n"
   ]
  },
  {
   "cell_type": "code",
   "execution_count": null,
   "id": "665854c8",
   "metadata": {},
   "outputs": [],
   "source": [
    "con = sqlite3.connect(\"mydata.sqlite\")\n"
   ]
  },
  {
   "cell_type": "code",
   "execution_count": 121,
   "id": "205ced0c",
   "metadata": {},
   "outputs": [
    {
     "data": {
      "text/plain": [
       "<sqlite3.Cursor at 0x25cdbe181c0>"
      ]
     },
     "execution_count": 121,
     "metadata": {},
     "output_type": "execute_result"
    }
   ],
   "source": [
    "con.execute(query)\n"
   ]
  },
  {
   "cell_type": "code",
   "execution_count": null,
   "id": "92d79d11",
   "metadata": {},
   "outputs": [],
   "source": [
    "con.commit()\n"
   ]
  },
  {
   "cell_type": "code",
   "execution_count": 123,
   "id": "71a9def1",
   "metadata": {},
   "outputs": [],
   "source": [
    "data = [\n",
    "    (\"Atlanta\", \"Georgia\", 1.25, 6),\n",
    "    (\"Tallahasse\", \"Florida\", 2.6, 3),\n",
    "    (\"Sacramento\", \"California\", 1.7, 5),\n",
    "]\n"
   ]
  },
  {
   "cell_type": "code",
   "execution_count": 124,
   "id": "4525edd9",
   "metadata": {},
   "outputs": [],
   "source": [
    "stmt = \"INSERT INTO test VALUES(?, ?, ?, ?)\"\n"
   ]
  },
  {
   "cell_type": "code",
   "execution_count": 125,
   "id": "bfae51e1",
   "metadata": {},
   "outputs": [
    {
     "data": {
      "text/plain": [
       "<sqlite3.Cursor at 0x25cdc006640>"
      ]
     },
     "execution_count": 125,
     "metadata": {},
     "output_type": "execute_result"
    }
   ],
   "source": [
    "con.executemany(stmt, data)\n"
   ]
  },
  {
   "cell_type": "code",
   "execution_count": null,
   "id": "ef11e49f",
   "metadata": {},
   "outputs": [],
   "source": [
    "con.commit()\n"
   ]
  },
  {
   "cell_type": "code",
   "execution_count": 127,
   "id": "74c7b1b6",
   "metadata": {},
   "outputs": [],
   "source": [
    "cursor = con.execute(\"SELECT * FROM test\")\n"
   ]
  },
  {
   "cell_type": "code",
   "execution_count": null,
   "id": "af935c99",
   "metadata": {},
   "outputs": [],
   "source": [
    "rows = cursor.fetchall()\n"
   ]
  },
  {
   "cell_type": "code",
   "execution_count": null,
   "id": "5ff493c8",
   "metadata": {},
   "outputs": [
    {
     "data": {
      "text/plain": [
       "[('Atlanta', 'Georgia', 1.25, 6),\n",
       " ('Tallahasse', 'Florida', 2.6, 3),\n",
       " ('Sacramento', 'California', 1.7, 5)]"
      ]
     },
     "execution_count": 129,
     "metadata": {},
     "output_type": "execute_result"
    }
   ],
   "source": [
    "rows\n"
   ]
  },
  {
   "cell_type": "code",
   "execution_count": null,
   "id": "78273942",
   "metadata": {},
   "outputs": [
    {
     "data": {
      "text/plain": [
       "(('a', None, None, None, None, None, None),\n",
       " ('b', None, None, None, None, None, None),\n",
       " ('c', None, None, None, None, None, None),\n",
       " ('d', None, None, None, None, None, None))"
      ]
     },
     "execution_count": 130,
     "metadata": {},
     "output_type": "execute_result"
    }
   ],
   "source": [
    "cursor.description\n"
   ]
  },
  {
   "cell_type": "code",
   "execution_count": 131,
   "id": "96aef77d",
   "metadata": {},
   "outputs": [
    {
     "data": {
      "application/vnd.microsoft.datawrangler.viewer.v0+json": {
       "columns": [
        {
         "name": "index",
         "rawType": "int64",
         "type": "integer"
        },
        {
         "name": "a",
         "rawType": "object",
         "type": "string"
        },
        {
         "name": "b",
         "rawType": "object",
         "type": "string"
        },
        {
         "name": "c",
         "rawType": "float64",
         "type": "float"
        },
        {
         "name": "d",
         "rawType": "int64",
         "type": "integer"
        }
       ],
       "ref": "9f34567d-d758-45c7-b9dd-b583d18960eb",
       "rows": [
        [
         "0",
         "Atlanta",
         "Georgia",
         "1.25",
         "6"
        ],
        [
         "1",
         "Tallahasse",
         "Florida",
         "2.6",
         "3"
        ],
        [
         "2",
         "Sacramento",
         "California",
         "1.7",
         "5"
        ]
       ],
       "shape": {
        "columns": 4,
        "rows": 3
       }
      },
      "text/html": [
       "<div>\n",
       "<style scoped>\n",
       "    .dataframe tbody tr th:only-of-type {\n",
       "        vertical-align: middle;\n",
       "    }\n",
       "\n",
       "    .dataframe tbody tr th {\n",
       "        vertical-align: top;\n",
       "    }\n",
       "\n",
       "    .dataframe thead th {\n",
       "        text-align: right;\n",
       "    }\n",
       "</style>\n",
       "<table border=\"1\" class=\"dataframe\">\n",
       "  <thead>\n",
       "    <tr style=\"text-align: right;\">\n",
       "      <th></th>\n",
       "      <th>a</th>\n",
       "      <th>b</th>\n",
       "      <th>c</th>\n",
       "      <th>d</th>\n",
       "    </tr>\n",
       "  </thead>\n",
       "  <tbody>\n",
       "    <tr>\n",
       "      <th>0</th>\n",
       "      <td>Atlanta</td>\n",
       "      <td>Georgia</td>\n",
       "      <td>1.25</td>\n",
       "      <td>6</td>\n",
       "    </tr>\n",
       "    <tr>\n",
       "      <th>1</th>\n",
       "      <td>Tallahasse</td>\n",
       "      <td>Florida</td>\n",
       "      <td>2.60</td>\n",
       "      <td>3</td>\n",
       "    </tr>\n",
       "    <tr>\n",
       "      <th>2</th>\n",
       "      <td>Sacramento</td>\n",
       "      <td>California</td>\n",
       "      <td>1.70</td>\n",
       "      <td>5</td>\n",
       "    </tr>\n",
       "  </tbody>\n",
       "</table>\n",
       "</div>"
      ],
      "text/plain": [
       "            a           b     c  d\n",
       "0     Atlanta     Georgia  1.25  6\n",
       "1  Tallahasse     Florida  2.60  3\n",
       "2  Sacramento  California  1.70  5"
      ]
     },
     "execution_count": 131,
     "metadata": {},
     "output_type": "execute_result"
    }
   ],
   "source": [
    "pd.DataFrame(rows, columns=[x[0] for x in cursor.description])\n"
   ]
  },
  {
   "cell_type": "code",
   "execution_count": null,
   "id": "74143c99",
   "metadata": {},
   "outputs": [],
   "source": [
    "import sqlalchemy as sqla\n"
   ]
  },
  {
   "cell_type": "code",
   "execution_count": 133,
   "id": "2ecfabb9",
   "metadata": {},
   "outputs": [],
   "source": [
    "db = sqla.create_engine(\"sqlite:///mydata.sqlite\")\n"
   ]
  },
  {
   "cell_type": "code",
   "execution_count": 134,
   "id": "3406de88",
   "metadata": {},
   "outputs": [
    {
     "data": {
      "application/vnd.microsoft.datawrangler.viewer.v0+json": {
       "columns": [
        {
         "name": "index",
         "rawType": "int64",
         "type": "integer"
        },
        {
         "name": "a",
         "rawType": "object",
         "type": "string"
        },
        {
         "name": "b",
         "rawType": "object",
         "type": "string"
        },
        {
         "name": "c",
         "rawType": "float64",
         "type": "float"
        },
        {
         "name": "d",
         "rawType": "int64",
         "type": "integer"
        }
       ],
       "ref": "646364bf-d0d9-46ca-8816-25877cd8210f",
       "rows": [
        [
         "0",
         "Atlanta",
         "Georgia",
         "1.25",
         "6"
        ],
        [
         "1",
         "Tallahasse",
         "Florida",
         "2.6",
         "3"
        ],
        [
         "2",
         "Sacramento",
         "California",
         "1.7",
         "5"
        ]
       ],
       "shape": {
        "columns": 4,
        "rows": 3
       }
      },
      "text/html": [
       "<div>\n",
       "<style scoped>\n",
       "    .dataframe tbody tr th:only-of-type {\n",
       "        vertical-align: middle;\n",
       "    }\n",
       "\n",
       "    .dataframe tbody tr th {\n",
       "        vertical-align: top;\n",
       "    }\n",
       "\n",
       "    .dataframe thead th {\n",
       "        text-align: right;\n",
       "    }\n",
       "</style>\n",
       "<table border=\"1\" class=\"dataframe\">\n",
       "  <thead>\n",
       "    <tr style=\"text-align: right;\">\n",
       "      <th></th>\n",
       "      <th>a</th>\n",
       "      <th>b</th>\n",
       "      <th>c</th>\n",
       "      <th>d</th>\n",
       "    </tr>\n",
       "  </thead>\n",
       "  <tbody>\n",
       "    <tr>\n",
       "      <th>0</th>\n",
       "      <td>Atlanta</td>\n",
       "      <td>Georgia</td>\n",
       "      <td>1.25</td>\n",
       "      <td>6</td>\n",
       "    </tr>\n",
       "    <tr>\n",
       "      <th>1</th>\n",
       "      <td>Tallahasse</td>\n",
       "      <td>Florida</td>\n",
       "      <td>2.60</td>\n",
       "      <td>3</td>\n",
       "    </tr>\n",
       "    <tr>\n",
       "      <th>2</th>\n",
       "      <td>Sacramento</td>\n",
       "      <td>California</td>\n",
       "      <td>1.70</td>\n",
       "      <td>5</td>\n",
       "    </tr>\n",
       "  </tbody>\n",
       "</table>\n",
       "</div>"
      ],
      "text/plain": [
       "            a           b     c  d\n",
       "0     Atlanta     Georgia  1.25  6\n",
       "1  Tallahasse     Florida  2.60  3\n",
       "2  Sacramento  California  1.70  5"
      ]
     },
     "execution_count": 134,
     "metadata": {},
     "output_type": "execute_result"
    }
   ],
   "source": [
    "pd.read_sql(\"SELECT * FROM test\", db)\n"
   ]
  },
  {
   "cell_type": "code",
   "execution_count": null,
   "id": "7e6cf4fd",
   "metadata": {},
   "outputs": [],
   "source": []
  }
 ],
 "metadata": {
  "kernelspec": {
   "display_name": "Python 3",
   "language": "python",
   "name": "python3"
  },
  "language_info": {
   "codemirror_mode": {
    "name": "ipython",
    "version": 3
   },
   "file_extension": ".py",
   "mimetype": "text/x-python",
   "name": "python",
   "nbconvert_exporter": "python",
   "pygments_lexer": "ipython3",
   "version": "3.11.1"
  }
 },
 "nbformat": 4,
 "nbformat_minor": 5
}
