{
 "cells": [
  {
   "cell_type": "markdown",
   "id": "8bdad64c",
   "metadata": {},
   "source": [
    "# Cap 3 - Estruturas de dados, funções e arquivos"
   ]
  },
  {
   "cell_type": "markdown",
   "id": "74815950",
   "metadata": {},
   "source": [
    "## 3.1 Estruturas de dados e sequências"
   ]
  },
  {
   "cell_type": "markdown",
   "id": "b76f07dc",
   "metadata": {},
   "source": [
    "### Tupla"
   ]
  },
  {
   "cell_type": "code",
   "execution_count": 1,
   "id": "6bbbaa7f",
   "metadata": {},
   "outputs": [],
   "source": [
    "tup = (4, 5, 6)\n"
   ]
  },
  {
   "cell_type": "code",
   "execution_count": null,
   "id": "3dc50d36",
   "metadata": {},
   "outputs": [
    {
     "data": {
      "text/plain": [
       "(4, 5, 6)"
      ]
     },
     "execution_count": 2,
     "metadata": {},
     "output_type": "execute_result"
    }
   ],
   "source": [
    "tup\n"
   ]
  },
  {
   "cell_type": "code",
   "execution_count": 3,
   "id": "f6e82d7f",
   "metadata": {},
   "outputs": [],
   "source": [
    "tup = 4, 5, 6\n"
   ]
  },
  {
   "cell_type": "code",
   "execution_count": null,
   "id": "368dc4b2",
   "metadata": {},
   "outputs": [
    {
     "data": {
      "text/plain": [
       "(4, 5, 6)"
      ]
     },
     "execution_count": 4,
     "metadata": {},
     "output_type": "execute_result"
    }
   ],
   "source": [
    "tup\n"
   ]
  },
  {
   "cell_type": "code",
   "execution_count": null,
   "id": "a9ddb943",
   "metadata": {},
   "outputs": [
    {
     "data": {
      "text/plain": [
       "(4, 0, 2)"
      ]
     },
     "execution_count": 5,
     "metadata": {},
     "output_type": "execute_result"
    }
   ],
   "source": [
    "# Converter qualquer iterador ou sequência\n",
    "tuple([4, 0, 2])  \n"
   ]
  },
  {
   "cell_type": "code",
   "execution_count": 6,
   "id": "8fc2c8c7",
   "metadata": {},
   "outputs": [],
   "source": [
    "tup = tuple(\"string\")\n"
   ]
  },
  {
   "cell_type": "code",
   "execution_count": null,
   "id": "42b14ca7",
   "metadata": {},
   "outputs": [
    {
     "data": {
      "text/plain": [
       "('s', 't', 'r', 'i', 'n', 'g')"
      ]
     },
     "execution_count": 7,
     "metadata": {},
     "output_type": "execute_result"
    }
   ],
   "source": [
    "tup\n"
   ]
  },
  {
   "cell_type": "code",
   "execution_count": null,
   "id": "abb2001f",
   "metadata": {},
   "outputs": [
    {
     "data": {
      "text/plain": [
       "'s'"
      ]
     },
     "execution_count": 8,
     "metadata": {},
     "output_type": "execute_result"
    }
   ],
   "source": [
    "# Acessando elementos de uma tupla\n",
    "tup[0]\n"
   ]
  },
  {
   "cell_type": "code",
   "execution_count": 9,
   "id": "9ef143f8",
   "metadata": {},
   "outputs": [],
   "source": [
    "# Tuplas de tuplas\n",
    "nested_tup = (4, 5, 6), (7, 8)\n"
   ]
  },
  {
   "cell_type": "code",
   "execution_count": null,
   "id": "743af07b",
   "metadata": {},
   "outputs": [
    {
     "data": {
      "text/plain": [
       "((4, 5, 6), (7, 8))"
      ]
     },
     "execution_count": 10,
     "metadata": {},
     "output_type": "execute_result"
    }
   ],
   "source": [
    "nested_tup\n"
   ]
  },
  {
   "cell_type": "code",
   "execution_count": null,
   "id": "75a58275",
   "metadata": {},
   "outputs": [
    {
     "data": {
      "text/plain": [
       "(4, 5, 6)"
      ]
     },
     "execution_count": 11,
     "metadata": {},
     "output_type": "execute_result"
    }
   ],
   "source": [
    "nested_tup[0]\n"
   ]
  },
  {
   "cell_type": "code",
   "execution_count": null,
   "id": "16488532",
   "metadata": {},
   "outputs": [
    {
     "data": {
      "text/plain": [
       "(7, 8)"
      ]
     },
     "execution_count": 12,
     "metadata": {},
     "output_type": "execute_result"
    }
   ],
   "source": [
    "nested_tup[1]\n"
   ]
  },
  {
   "cell_type": "code",
   "execution_count": 13,
   "id": "397bb18a",
   "metadata": {},
   "outputs": [],
   "source": [
    "tup = tuple([\"foo\", [1, 2], True])\n"
   ]
  },
  {
   "cell_type": "code",
   "execution_count": null,
   "id": "4a2096d8",
   "metadata": {},
   "outputs": [
    {
     "ename": "TypeError",
     "evalue": "'tuple' object does not support item assignment",
     "output_type": "error",
     "traceback": [
      "\u001b[1;31m---------------------------------------------------------------------------\u001b[0m",
      "\u001b[1;31mTypeError\u001b[0m                                 Traceback (most recent call last)",
      "Cell \u001b[1;32mIn[14], line 1\u001b[0m\n\u001b[1;32m----> 1\u001b[0m \u001b[43mtup\u001b[49m\u001b[43m[\u001b[49m\u001b[38;5;241;43m2\u001b[39;49m\u001b[43m]\u001b[49m \u001b[38;5;241m=\u001b[39m \u001b[38;5;28;01mFalse\u001b[39;00m\n",
      "\u001b[1;31mTypeError\u001b[0m: 'tuple' object does not support item assignment"
     ]
    }
   ],
   "source": [
    "tup[2] = False\n"
   ]
  },
  {
   "cell_type": "code",
   "execution_count": null,
   "id": "dce9f512",
   "metadata": {},
   "outputs": [],
   "source": [
    "# Se o objeto dentro de uma tupla for mutável, como uma lista, a modificação\n",
    "# poderá ser feita diretamente no local\n",
    "tup[1].append(3)\n"
   ]
  },
  {
   "cell_type": "code",
   "execution_count": null,
   "id": "36459d02",
   "metadata": {},
   "outputs": [
    {
     "data": {
      "text/plain": [
       "('foo', [1, 2, 3], True)"
      ]
     },
     "execution_count": 16,
     "metadata": {},
     "output_type": "execute_result"
    }
   ],
   "source": [
    "tup\n"
   ]
  },
  {
   "cell_type": "code",
   "execution_count": 17,
   "id": "14b41c85",
   "metadata": {},
   "outputs": [
    {
     "data": {
      "text/plain": [
       "(4, None, 'foo', 6, 0, 'bar')"
      ]
     },
     "execution_count": 17,
     "metadata": {},
     "output_type": "execute_result"
    }
   ],
   "source": [
    "# Concaternar tuplas\n",
    "(4, None, \"foo\") + (6, 0) + (\"bar\",)\n"
   ]
  },
  {
   "cell_type": "code",
   "execution_count": 18,
   "id": "6240c9bf",
   "metadata": {},
   "outputs": [
    {
     "data": {
      "text/plain": [
       "('foo', 'bar', 'foo', 'bar', 'foo', 'bar', 'foo', 'bar')"
      ]
     },
     "execution_count": 18,
     "metadata": {},
     "output_type": "execute_result"
    }
   ],
   "source": [
    "# Multiplicar a tupla por um inteiro\n",
    "(\"foo\", \"bar\") * 4\n"
   ]
  },
  {
   "cell_type": "markdown",
   "id": "666b867d",
   "metadata": {},
   "source": [
    "#### Desempacotamento de tuplas"
   ]
  },
  {
   "cell_type": "code",
   "execution_count": 19,
   "id": "9dd0bf2d",
   "metadata": {},
   "outputs": [],
   "source": [
    "tup = (4, 5, 6)\n"
   ]
  },
  {
   "cell_type": "code",
   "execution_count": 20,
   "id": "c21ce8d8",
   "metadata": {},
   "outputs": [],
   "source": [
    "a, b, c = tup\n"
   ]
  },
  {
   "cell_type": "code",
   "execution_count": null,
   "id": "ad32c5d9",
   "metadata": {},
   "outputs": [
    {
     "data": {
      "text/plain": [
       "5"
      ]
     },
     "execution_count": 21,
     "metadata": {},
     "output_type": "execute_result"
    }
   ],
   "source": [
    "b\n"
   ]
  },
  {
   "cell_type": "code",
   "execution_count": 22,
   "id": "d2f1967b",
   "metadata": {},
   "outputs": [],
   "source": [
    "tup = 4, 5, (6, 7)\n"
   ]
  },
  {
   "cell_type": "code",
   "execution_count": 23,
   "id": "a4ca3e4f",
   "metadata": {},
   "outputs": [],
   "source": [
    "a, b, (c, d) = tup\n"
   ]
  },
  {
   "cell_type": "code",
   "execution_count": null,
   "id": "e2528f73",
   "metadata": {},
   "outputs": [
    {
     "data": {
      "text/plain": [
       "7"
      ]
     },
     "execution_count": 24,
     "metadata": {},
     "output_type": "execute_result"
    }
   ],
   "source": [
    "d\n"
   ]
  },
  {
   "cell_type": "code",
   "execution_count": 25,
   "id": "08694db5",
   "metadata": {},
   "outputs": [],
   "source": [
    "# Troca de varáveis\n",
    "a, b = 1, 2\n"
   ]
  },
  {
   "cell_type": "code",
   "execution_count": null,
   "id": "50a18213",
   "metadata": {},
   "outputs": [
    {
     "data": {
      "text/plain": [
       "1"
      ]
     },
     "execution_count": 26,
     "metadata": {},
     "output_type": "execute_result"
    }
   ],
   "source": [
    "a\n"
   ]
  },
  {
   "cell_type": "code",
   "execution_count": null,
   "id": "afa3f50c",
   "metadata": {},
   "outputs": [
    {
     "data": {
      "text/plain": [
       "2"
      ]
     },
     "execution_count": 27,
     "metadata": {},
     "output_type": "execute_result"
    }
   ],
   "source": [
    "b\n"
   ]
  },
  {
   "cell_type": "code",
   "execution_count": 28,
   "id": "a9c735fe",
   "metadata": {},
   "outputs": [],
   "source": [
    "b, a = a, b\n"
   ]
  },
  {
   "cell_type": "code",
   "execution_count": null,
   "id": "96001b8e",
   "metadata": {},
   "outputs": [
    {
     "data": {
      "text/plain": [
       "2"
      ]
     },
     "execution_count": 29,
     "metadata": {},
     "output_type": "execute_result"
    }
   ],
   "source": [
    "a\n"
   ]
  },
  {
   "cell_type": "code",
   "execution_count": null,
   "id": "3a194ba6",
   "metadata": {},
   "outputs": [
    {
     "data": {
      "text/plain": [
       "1"
      ]
     },
     "execution_count": 30,
     "metadata": {},
     "output_type": "execute_result"
    }
   ],
   "source": [
    "b\n"
   ]
  },
  {
   "cell_type": "code",
   "execution_count": 31,
   "id": "92e8b537",
   "metadata": {},
   "outputs": [],
   "source": [
    "seq = [(1, 2, 3), (4, 5, 6), (7, 8, 9)]\n"
   ]
  },
  {
   "cell_type": "code",
   "execution_count": 32,
   "id": "58294f16",
   "metadata": {},
   "outputs": [
    {
     "name": "stdout",
     "output_type": "stream",
     "text": [
      "a=1, b=2, c=3\n",
      "a=4, b=5, c=6\n",
      "a=7, b=8, c=9\n"
     ]
    }
   ],
   "source": [
    "for a, b, c in seq:\n",
    "    print(f\"a={a}, b={b}, c={c}\")\n"
   ]
  },
  {
   "cell_type": "code",
   "execution_count": 33,
   "id": "90159260",
   "metadata": {},
   "outputs": [],
   "source": [
    "values = 1, 2, 3, 4, 5\n"
   ]
  },
  {
   "cell_type": "code",
   "execution_count": 34,
   "id": "82458d32",
   "metadata": {},
   "outputs": [],
   "source": [
    "a, b, *rest = values\n"
   ]
  },
  {
   "cell_type": "code",
   "execution_count": null,
   "id": "5af03a50",
   "metadata": {},
   "outputs": [
    {
     "data": {
      "text/plain": [
       "1"
      ]
     },
     "execution_count": 35,
     "metadata": {},
     "output_type": "execute_result"
    }
   ],
   "source": [
    "a\n"
   ]
  },
  {
   "cell_type": "code",
   "execution_count": null,
   "id": "f70129a6",
   "metadata": {},
   "outputs": [
    {
     "data": {
      "text/plain": [
       "2"
      ]
     },
     "execution_count": 36,
     "metadata": {},
     "output_type": "execute_result"
    }
   ],
   "source": [
    "b\n"
   ]
  },
  {
   "cell_type": "code",
   "execution_count": null,
   "id": "02283285",
   "metadata": {},
   "outputs": [
    {
     "data": {
      "text/plain": [
       "[3, 4, 5]"
      ]
     },
     "execution_count": 37,
     "metadata": {},
     "output_type": "execute_result"
    }
   ],
   "source": [
    "rest\n"
   ]
  },
  {
   "cell_type": "markdown",
   "id": "d57c139f",
   "metadata": {},
   "source": [
    "#### Métodos das tuplas\n",
    "Não possuem poucos métodos de instância já que seu tamanho e conteúdo não podem\n",
    "ser modificados"
   ]
  },
  {
   "cell_type": "code",
   "execution_count": 38,
   "id": "e220b115",
   "metadata": {},
   "outputs": [],
   "source": [
    "a = (1, 2, 2, 2, 3, 4, 2)\n"
   ]
  },
  {
   "cell_type": "code",
   "execution_count": null,
   "id": "97e55caa",
   "metadata": {},
   "outputs": [
    {
     "data": {
      "text/plain": [
       "4"
      ]
     },
     "execution_count": 39,
     "metadata": {},
     "output_type": "execute_result"
    }
   ],
   "source": [
    "a.count(2)\n"
   ]
  },
  {
   "cell_type": "markdown",
   "id": "bc326334",
   "metadata": {},
   "source": [
    "### Lista"
   ]
  },
  {
   "cell_type": "code",
   "execution_count": 40,
   "id": "031d756e",
   "metadata": {},
   "outputs": [],
   "source": [
    "a_list = [2, 3, 7, None]\n"
   ]
  },
  {
   "cell_type": "code",
   "execution_count": 41,
   "id": "af0cfb68",
   "metadata": {},
   "outputs": [],
   "source": [
    "tup = (\"foo\", \"bar\", \"baz\")\n"
   ]
  },
  {
   "cell_type": "code",
   "execution_count": 42,
   "id": "022e87bd",
   "metadata": {},
   "outputs": [],
   "source": [
    "b_list = list(tup)\n"
   ]
  },
  {
   "cell_type": "code",
   "execution_count": null,
   "id": "ab363f80",
   "metadata": {},
   "outputs": [
    {
     "data": {
      "text/plain": [
       "['foo', 'bar', 'baz']"
      ]
     },
     "execution_count": 43,
     "metadata": {},
     "output_type": "execute_result"
    }
   ],
   "source": [
    "b_list\n"
   ]
  },
  {
   "cell_type": "code",
   "execution_count": 44,
   "id": "acdd840f",
   "metadata": {},
   "outputs": [],
   "source": [
    "b_list[1] = \"peekaboo\"\n"
   ]
  },
  {
   "cell_type": "code",
   "execution_count": null,
   "id": "f4a1eafc",
   "metadata": {},
   "outputs": [
    {
     "data": {
      "text/plain": [
       "['foo', 'peekaboo', 'baz']"
      ]
     },
     "execution_count": 45,
     "metadata": {},
     "output_type": "execute_result"
    }
   ],
   "source": [
    "b_list\n"
   ]
  },
  {
   "cell_type": "code",
   "execution_count": 46,
   "id": "00d0c10a",
   "metadata": {},
   "outputs": [],
   "source": [
    "gen = range(10)\n"
   ]
  },
  {
   "cell_type": "code",
   "execution_count": null,
   "id": "fdfb8890",
   "metadata": {},
   "outputs": [
    {
     "data": {
      "text/plain": [
       "range(0, 10)"
      ]
     },
     "execution_count": 47,
     "metadata": {},
     "output_type": "execute_result"
    }
   ],
   "source": [
    "gen\n"
   ]
  },
  {
   "cell_type": "code",
   "execution_count": null,
   "id": "c90c6e6e",
   "metadata": {},
   "outputs": [
    {
     "data": {
      "text/plain": [
       "[0, 1, 2, 3, 4, 5, 6, 7, 8, 9]"
      ]
     },
     "execution_count": 48,
     "metadata": {},
     "output_type": "execute_result"
    }
   ],
   "source": [
    "list(gen)  # Materializar um iterador/expressão geradora\n"
   ]
  },
  {
   "cell_type": "markdown",
   "id": "3a8fb279",
   "metadata": {},
   "source": [
    "#### Inclusão e remoção de elementos"
   ]
  },
  {
   "cell_type": "code",
   "execution_count": null,
   "id": "4872cdad",
   "metadata": {},
   "outputs": [],
   "source": [
    "# Acrescentar elementos no fim da lista\n",
    "b_list.append(\"dwarf\")\n"
   ]
  },
  {
   "cell_type": "code",
   "execution_count": null,
   "id": "788cd2c3",
   "metadata": {},
   "outputs": [
    {
     "data": {
      "text/plain": [
       "['foo', 'peekaboo', 'baz', 'dwarf']"
      ]
     },
     "execution_count": 50,
     "metadata": {},
     "output_type": "execute_result"
    }
   ],
   "source": [
    "b_list\n"
   ]
  },
  {
   "cell_type": "code",
   "execution_count": 51,
   "id": "5b8f1849",
   "metadata": {},
   "outputs": [],
   "source": [
    "# Inserir um elemento em um local específico da lista\n",
    "b_list.insert(1, \"red\")\n"
   ]
  },
  {
   "cell_type": "code",
   "execution_count": null,
   "id": "c280b2c8",
   "metadata": {},
   "outputs": [
    {
     "data": {
      "text/plain": [
       "['foo', 'red', 'peekaboo', 'baz', 'dwarf']"
      ]
     },
     "execution_count": 52,
     "metadata": {},
     "output_type": "execute_result"
    }
   ],
   "source": [
    "b_list\n"
   ]
  },
  {
   "cell_type": "markdown",
   "id": "e89c20e7",
   "metadata": {},
   "source": [
    "<div style=\"border-left: 4px solid #ff5555; background: #282a36; color: #f8f8f2; padding: 10px; margin: 10px 0; font-family: sans-serif;\">\n",
    "  <strong>⚠️ Aviso:</strong> \n",
    "  <code style=\"background-color: #44475a; color: #f8f8f2; padding: 2px 4px; border-radius: 4px;\">insert</code> é computacionalmente dispendioso se comparado com \n",
    "  <code style=\"background-color: #44475a; color: #f8f8f2; padding: 2px 4px; border-radius: 4px;\">append</code>, porque\n",
    "  referências a elementos subsequentes têm de ser deslocadas internamente para\n",
    "  dar espaço para o novo elemento. Se precisar inserir elementos tanto no começo\n",
    "  quanto no fim de uma sequência, pode ser melhor usar \n",
    "  <code style=\"background-color: #44475a; color: #f8f8f2; padding: 2px 4px; border-radius: 4px;\">collections.deque</code>, uma\n",
    "  fila de extremidade dupla ideal para esse fim e que pode ser encontrada na\n",
    "  Biblioteca Padrão do Python.\n",
    "</div>\n"
   ]
  },
  {
   "cell_type": "code",
   "execution_count": 53,
   "id": "56d120f1",
   "metadata": {},
   "outputs": [
    {
     "data": {
      "text/plain": [
       "'peekaboo'"
      ]
     },
     "execution_count": 53,
     "metadata": {},
     "output_type": "execute_result"
    }
   ],
   "source": [
    "# Operação inversa a insert, remove e retorna um elemento de um índice\n",
    "# específico\n",
    "b_list.pop(2)\n"
   ]
  },
  {
   "cell_type": "code",
   "execution_count": null,
   "id": "3b935a1f",
   "metadata": {},
   "outputs": [
    {
     "data": {
      "text/plain": [
       "['foo', 'red', 'baz', 'dwarf']"
      ]
     },
     "execution_count": 54,
     "metadata": {},
     "output_type": "execute_result"
    }
   ],
   "source": [
    "b_list\n"
   ]
  },
  {
   "cell_type": "code",
   "execution_count": 55,
   "id": "060d7b74",
   "metadata": {},
   "outputs": [],
   "source": [
    "b_list.append(\"foo\")\n"
   ]
  },
  {
   "cell_type": "code",
   "execution_count": null,
   "id": "635c92ca",
   "metadata": {},
   "outputs": [
    {
     "data": {
      "text/plain": [
       "['foo', 'red', 'baz', 'dwarf', 'foo']"
      ]
     },
     "execution_count": 56,
     "metadata": {},
     "output_type": "execute_result"
    }
   ],
   "source": [
    "b_list\n"
   ]
  },
  {
   "cell_type": "code",
   "execution_count": null,
   "id": "f26bc380",
   "metadata": {},
   "outputs": [],
   "source": [
    "# Localiza a primeira ocorrência e remove o elemento\n",
    "b_list.remove(\"foo\")\n"
   ]
  },
  {
   "cell_type": "code",
   "execution_count": null,
   "id": "fca82eb6",
   "metadata": {},
   "outputs": [
    {
     "data": {
      "text/plain": [
       "['red', 'baz', 'dwarf', 'foo']"
      ]
     },
     "execution_count": 58,
     "metadata": {},
     "output_type": "execute_result"
    }
   ],
   "source": [
    "b_list\n"
   ]
  },
  {
   "cell_type": "code",
   "execution_count": null,
   "id": "ab339f0d",
   "metadata": {},
   "outputs": [
    {
     "data": {
      "text/plain": [
       "True"
      ]
     },
     "execution_count": 59,
     "metadata": {},
     "output_type": "execute_result"
    }
   ],
   "source": [
    "# Verificar se uma lista contem um valor\n",
    "\"dwarf\" in b_list\n"
   ]
  },
  {
   "cell_type": "code",
   "execution_count": null,
   "id": "9bd3e9f0",
   "metadata": {},
   "outputs": [
    {
     "data": {
      "text/plain": [
       "False"
      ]
     },
     "execution_count": 60,
     "metadata": {},
     "output_type": "execute_result"
    }
   ],
   "source": [
    "# Usando not como negação de in\n",
    "\"dwarf\" not in b_list\n"
   ]
  },
  {
   "cell_type": "markdown",
   "id": "680e1bb7",
   "metadata": {},
   "source": [
    "#### Concatenação de listas"
   ]
  },
  {
   "cell_type": "code",
   "execution_count": null,
   "id": "250cf38e",
   "metadata": {},
   "outputs": [
    {
     "data": {
      "text/plain": [
       "[4, None, 'foo', 7, 8, (2, 3)]"
      ]
     },
     "execution_count": 61,
     "metadata": {},
     "output_type": "execute_result"
    }
   ],
   "source": [
    "[4, None, \"foo\"] + [7, 8, (2, 3)]\n"
   ]
  },
  {
   "cell_type": "code",
   "execution_count": null,
   "id": "7269ffa5",
   "metadata": {},
   "outputs": [],
   "source": [
    "x = [4, None, \"foo\"]\n"
   ]
  },
  {
   "cell_type": "code",
   "execution_count": 63,
   "id": "4da868b5",
   "metadata": {},
   "outputs": [],
   "source": [
    "x.extend([7, 8, (2, 3)])\n"
   ]
  },
  {
   "cell_type": "code",
   "execution_count": null,
   "id": "546c26f4",
   "metadata": {},
   "outputs": [
    {
     "data": {
      "text/plain": [
       "[4, None, 'foo', 7, 8, (2, 3)]"
      ]
     },
     "execution_count": 64,
     "metadata": {},
     "output_type": "execute_result"
    }
   ],
   "source": [
    "x\n"
   ]
  },
  {
   "cell_type": "markdown",
   "id": "7cc61cfa",
   "metadata": {},
   "source": [
    "#### Ordenação"
   ]
  },
  {
   "cell_type": "code",
   "execution_count": 65,
   "id": "065302d5",
   "metadata": {},
   "outputs": [],
   "source": [
    "a = [7, 2, 5, 1, 3]\n"
   ]
  },
  {
   "cell_type": "code",
   "execution_count": null,
   "id": "faf638c5",
   "metadata": {},
   "outputs": [],
   "source": [
    "a.sort()\n"
   ]
  },
  {
   "cell_type": "code",
   "execution_count": null,
   "id": "969c2b85",
   "metadata": {},
   "outputs": [
    {
     "data": {
      "text/plain": [
       "[1, 2, 3, 5, 7]"
      ]
     },
     "execution_count": 67,
     "metadata": {},
     "output_type": "execute_result"
    }
   ],
   "source": [
    "a\n"
   ]
  },
  {
   "cell_type": "code",
   "execution_count": 68,
   "id": "b0442eb7",
   "metadata": {},
   "outputs": [],
   "source": [
    "# Utilizando uma chave de ordenação secundária\n",
    "b = [\"saw\", \"small\", \"He\", \"foxes\", \"six\"]\n"
   ]
  },
  {
   "cell_type": "code",
   "execution_count": null,
   "id": "7115bdaa",
   "metadata": {},
   "outputs": [],
   "source": [
    "b.sort(key=len)\n"
   ]
  },
  {
   "cell_type": "code",
   "execution_count": null,
   "id": "8c4defcb",
   "metadata": {},
   "outputs": [
    {
     "data": {
      "text/plain": [
       "['He', 'saw', 'six', 'small', 'foxes']"
      ]
     },
     "execution_count": 70,
     "metadata": {},
     "output_type": "execute_result"
    }
   ],
   "source": [
    "b\n"
   ]
  },
  {
   "cell_type": "markdown",
   "id": "15a4a5cd",
   "metadata": {},
   "source": [
    "#### Fatiamento"
   ]
  },
  {
   "cell_type": "code",
   "execution_count": 75,
   "id": "6eda7abe",
   "metadata": {},
   "outputs": [],
   "source": [
    "seq = [7, 2, 3, 7, 5, 6, 0, 1]\n"
   ]
  },
  {
   "cell_type": "code",
   "execution_count": 76,
   "id": "64d7521d",
   "metadata": {},
   "outputs": [
    {
     "data": {
      "text/plain": [
       "[2, 3, 7, 5]"
      ]
     },
     "execution_count": 76,
     "metadata": {},
     "output_type": "execute_result"
    }
   ],
   "source": [
    "seq[1:5]\n"
   ]
  },
  {
   "cell_type": "code",
   "execution_count": 77,
   "id": "9cf0d230",
   "metadata": {},
   "outputs": [],
   "source": [
    "seq[3:5] = [6, 3]\n"
   ]
  },
  {
   "cell_type": "code",
   "execution_count": 78,
   "id": "f70163eb",
   "metadata": {},
   "outputs": [
    {
     "data": {
      "text/plain": [
       "[7, 2, 3, 6, 3, 6, 0, 1]"
      ]
     },
     "execution_count": 78,
     "metadata": {},
     "output_type": "execute_result"
    }
   ],
   "source": [
    "seq\n"
   ]
  },
  {
   "cell_type": "code",
   "execution_count": null,
   "id": "9b4b92bc",
   "metadata": {},
   "outputs": [
    {
     "data": {
      "text/plain": [
       "[7, 2, 3, 6, 3]"
      ]
     },
     "execution_count": 79,
     "metadata": {},
     "output_type": "execute_result"
    }
   ],
   "source": [
    "seq[:5]\n"
   ]
  },
  {
   "cell_type": "code",
   "execution_count": null,
   "id": "96382b88",
   "metadata": {},
   "outputs": [
    {
     "data": {
      "text/plain": [
       "[6, 3, 6, 0, 1]"
      ]
     },
     "execution_count": 80,
     "metadata": {},
     "output_type": "execute_result"
    }
   ],
   "source": [
    "seq[3:]\n"
   ]
  },
  {
   "cell_type": "code",
   "execution_count": null,
   "id": "a1cb7a3c",
   "metadata": {},
   "outputs": [
    {
     "data": {
      "text/plain": [
       "[3, 6, 0, 1]"
      ]
     },
     "execution_count": 81,
     "metadata": {},
     "output_type": "execute_result"
    }
   ],
   "source": [
    "seq[-4:]\n"
   ]
  },
  {
   "cell_type": "code",
   "execution_count": 84,
   "id": "c8f4b7e0",
   "metadata": {},
   "outputs": [
    {
     "data": {
      "text/plain": [
       "[3, 6, 3, 6]"
      ]
     },
     "execution_count": 84,
     "metadata": {},
     "output_type": "execute_result"
    }
   ],
   "source": [
    "seq[-6:-2]\n"
   ]
  },
  {
   "cell_type": "code",
   "execution_count": 83,
   "id": "f3570000",
   "metadata": {},
   "outputs": [
    {
     "data": {
      "text/plain": [
       "[7, 3, 3, 0]"
      ]
     },
     "execution_count": 83,
     "metadata": {},
     "output_type": "execute_result"
    }
   ],
   "source": [
    "seq[::2]\n"
   ]
  },
  {
   "cell_type": "code",
   "execution_count": 85,
   "id": "b7da4c9b",
   "metadata": {},
   "outputs": [
    {
     "data": {
      "text/plain": [
       "[1, 0, 6, 3, 6, 3, 2, 7]"
      ]
     },
     "execution_count": 85,
     "metadata": {},
     "output_type": "execute_result"
    }
   ],
   "source": [
    "# Utilizando step = -1 para reverter uma lista\n",
    "seq[::-1]\n"
   ]
  },
  {
   "cell_type": "markdown",
   "id": "8f8c18c8",
   "metadata": {},
   "source": [
    "### Dicionário"
   ]
  },
  {
   "cell_type": "code",
   "execution_count": null,
   "id": "502ee4dd",
   "metadata": {},
   "outputs": [],
   "source": [
    "empty_dict = {}\n"
   ]
  },
  {
   "cell_type": "code",
   "execution_count": 87,
   "id": "7d37e1c6",
   "metadata": {},
   "outputs": [],
   "source": [
    "d1 = {\"a\": \"some value\", \"b\": [1, 2, 3, 4]}\n"
   ]
  },
  {
   "cell_type": "code",
   "execution_count": null,
   "id": "aaf8706b",
   "metadata": {},
   "outputs": [
    {
     "data": {
      "text/plain": [
       "{'a': 'some value', 'b': [1, 2, 3, 4]}"
      ]
     },
     "execution_count": 88,
     "metadata": {},
     "output_type": "execute_result"
    }
   ],
   "source": [
    "d1\n"
   ]
  },
  {
   "cell_type": "code",
   "execution_count": 89,
   "id": "ab6d22a3",
   "metadata": {},
   "outputs": [],
   "source": [
    "# Acessar, inserir e definir elementos\n",
    "d1[7] = \"an integer\"\n"
   ]
  },
  {
   "cell_type": "code",
   "execution_count": null,
   "id": "e5aef503",
   "metadata": {},
   "outputs": [
    {
     "data": {
      "text/plain": [
       "{'a': 'some value', 'b': [1, 2, 3, 4], 7: 'an integer'}"
      ]
     },
     "execution_count": 90,
     "metadata": {},
     "output_type": "execute_result"
    }
   ],
   "source": [
    "d1\n"
   ]
  },
  {
   "cell_type": "code",
   "execution_count": null,
   "id": "33cc2b53",
   "metadata": {},
   "outputs": [
    {
     "data": {
      "text/plain": [
       "[1, 2, 3, 4]"
      ]
     },
     "execution_count": 91,
     "metadata": {},
     "output_type": "execute_result"
    }
   ],
   "source": [
    "d1[\"b\"]\n"
   ]
  },
  {
   "cell_type": "code",
   "execution_count": null,
   "id": "6f2f6324",
   "metadata": {},
   "outputs": [
    {
     "data": {
      "text/plain": [
       "True"
      ]
     },
     "execution_count": 92,
     "metadata": {},
     "output_type": "execute_result"
    }
   ],
   "source": [
    "\"b\" in d1\n"
   ]
  },
  {
   "cell_type": "code",
   "execution_count": null,
   "id": "e9e4d479",
   "metadata": {},
   "outputs": [],
   "source": [
    "# Excluir valores\n",
    "# palavra-chave del\n",
    "d1[5] = \"some value\"\n"
   ]
  },
  {
   "cell_type": "code",
   "execution_count": null,
   "id": "9d12c303",
   "metadata": {},
   "outputs": [
    {
     "data": {
      "text/plain": [
       "{'a': 'some value', 'b': [1, 2, 3, 4], 7: 'an integer', 5: 'some value'}"
      ]
     },
     "execution_count": 94,
     "metadata": {},
     "output_type": "execute_result"
    }
   ],
   "source": [
    "d1\n"
   ]
  },
  {
   "cell_type": "code",
   "execution_count": null,
   "id": "460c9f45",
   "metadata": {},
   "outputs": [],
   "source": [
    "d1[\"dummy\"] = \"another value\"\n"
   ]
  },
  {
   "cell_type": "code",
   "execution_count": null,
   "id": "a7b8a2ca",
   "metadata": {},
   "outputs": [
    {
     "data": {
      "text/plain": [
       "{'a': 'some value',\n",
       " 'b': [1, 2, 3, 4],\n",
       " 7: 'an integer',\n",
       " 5: 'some value',\n",
       " 'dummy': 'another value'}"
      ]
     },
     "execution_count": 96,
     "metadata": {},
     "output_type": "execute_result"
    }
   ],
   "source": [
    "d1\n"
   ]
  },
  {
   "cell_type": "code",
   "execution_count": null,
   "id": "a6523c2e",
   "metadata": {},
   "outputs": [],
   "source": [
    "del d1[5]\n"
   ]
  },
  {
   "cell_type": "code",
   "execution_count": null,
   "id": "267560ab",
   "metadata": {},
   "outputs": [
    {
     "data": {
      "text/plain": [
       "{'a': 'some value',\n",
       " 'b': [1, 2, 3, 4],\n",
       " 7: 'an integer',\n",
       " 'dummy': 'another value'}"
      ]
     },
     "execution_count": 98,
     "metadata": {},
     "output_type": "execute_result"
    }
   ],
   "source": [
    "d1\n"
   ]
  },
  {
   "cell_type": "code",
   "execution_count": 99,
   "id": "c778ee47",
   "metadata": {},
   "outputs": [],
   "source": [
    "# Excluir um elemento e retorna-lo\n",
    "ret = d1.pop(\"dummy\")\n"
   ]
  },
  {
   "cell_type": "code",
   "execution_count": null,
   "id": "7c9f714c",
   "metadata": {},
   "outputs": [
    {
     "data": {
      "text/plain": [
       "'another value'"
      ]
     },
     "execution_count": 100,
     "metadata": {},
     "output_type": "execute_result"
    }
   ],
   "source": [
    "ret\n"
   ]
  },
  {
   "cell_type": "code",
   "execution_count": null,
   "id": "b2833165",
   "metadata": {},
   "outputs": [
    {
     "data": {
      "text/plain": [
       "{'a': 'some value', 'b': [1, 2, 3, 4], 7: 'an integer'}"
      ]
     },
     "execution_count": 101,
     "metadata": {},
     "output_type": "execute_result"
    }
   ],
   "source": [
    "d1\n"
   ]
  },
  {
   "cell_type": "code",
   "execution_count": 102,
   "id": "f0eed6b0",
   "metadata": {},
   "outputs": [
    {
     "data": {
      "text/plain": [
       "['a', 'b', 7]"
      ]
     },
     "execution_count": 102,
     "metadata": {},
     "output_type": "execute_result"
    }
   ],
   "source": [
    "# Métodos keys e values\n",
    "list(d1.keys())\n"
   ]
  },
  {
   "cell_type": "code",
   "execution_count": null,
   "id": "69b5b246",
   "metadata": {},
   "outputs": [
    {
     "data": {
      "text/plain": [
       "['some value', [1, 2, 3, 4], 'an integer']"
      ]
     },
     "execution_count": 103,
     "metadata": {},
     "output_type": "execute_result"
    }
   ],
   "source": [
    "list(d1.values())\n"
   ]
  },
  {
   "cell_type": "code",
   "execution_count": null,
   "id": "68dad0ae",
   "metadata": {},
   "outputs": [
    {
     "data": {
      "text/plain": [
       "[('a', 'some value'), ('b', [1, 2, 3, 4]), (7, 'an integer')]"
      ]
     },
     "execution_count": 104,
     "metadata": {},
     "output_type": "execute_result"
    }
   ],
   "source": [
    "# Método items\n",
    "list(d1.items())\n"
   ]
  },
  {
   "cell_type": "code",
   "execution_count": 105,
   "id": "17c334a2",
   "metadata": {},
   "outputs": [],
   "source": [
    "# Mesclar dois dicionários\n",
    "d1.update({\"b\": \"foo\", \"c\": 12})\n"
   ]
  },
  {
   "cell_type": "code",
   "execution_count": null,
   "id": "7c060865",
   "metadata": {},
   "outputs": [
    {
     "data": {
      "text/plain": [
       "{'a': 'some value', 'b': 'foo', 7: 'an integer', 'c': 12}"
      ]
     },
     "execution_count": 106,
     "metadata": {},
     "output_type": "execute_result"
    }
   ],
   "source": [
    "d1\n"
   ]
  },
  {
   "cell_type": "markdown",
   "id": "c242825f",
   "metadata": {},
   "source": [
    "#### Criação de dicionários a partir de sequências"
   ]
  },
  {
   "cell_type": "code",
   "execution_count": 107,
   "id": "98ff2ab7",
   "metadata": {},
   "outputs": [],
   "source": [
    "tuples = zip(range(5), reversed(range(5)))\n"
   ]
  },
  {
   "cell_type": "code",
   "execution_count": null,
   "id": "e38b7e52",
   "metadata": {},
   "outputs": [
    {
     "data": {
      "text/plain": [
       "<zip at 0x2539f3a0440>"
      ]
     },
     "execution_count": 108,
     "metadata": {},
     "output_type": "execute_result"
    }
   ],
   "source": [
    "tuples\n"
   ]
  },
  {
   "cell_type": "code",
   "execution_count": 109,
   "id": "b214ac75",
   "metadata": {},
   "outputs": [],
   "source": [
    "mapping = dict(tuples)\n"
   ]
  },
  {
   "cell_type": "code",
   "execution_count": null,
   "id": "b6886dbb",
   "metadata": {},
   "outputs": [
    {
     "data": {
      "text/plain": [
       "{0: 4, 1: 3, 2: 2, 3: 1, 4: 0}"
      ]
     },
     "execution_count": 110,
     "metadata": {},
     "output_type": "execute_result"
    }
   ],
   "source": [
    "mapping\n"
   ]
  },
  {
   "cell_type": "markdown",
   "id": "d781424c",
   "metadata": {},
   "source": [
    "#### Valores padrão"
   ]
  },
  {
   "cell_type": "code",
   "execution_count": 111,
   "id": "dbe4708c",
   "metadata": {},
   "outputs": [],
   "source": [
    "words = [\"apple\", \"bat\", \"bar\", \"atom\", \"book\"]\n"
   ]
  },
  {
   "cell_type": "code",
   "execution_count": 112,
   "id": "3a9c1af3",
   "metadata": {},
   "outputs": [],
   "source": [
    "by_letter = {}\n"
   ]
  },
  {
   "cell_type": "code",
   "execution_count": 113,
   "id": "fbc1248c",
   "metadata": {},
   "outputs": [],
   "source": [
    "for word in words:\n",
    "    letter = word[0]\n",
    "    if letter not in by_letter:\n",
    "        by_letter[letter] = [word]\n",
    "    else:\n",
    "        by_letter[letter].append(word)\n"
   ]
  },
  {
   "cell_type": "code",
   "execution_count": null,
   "id": "f59b0607",
   "metadata": {},
   "outputs": [
    {
     "data": {
      "text/plain": [
       "{'a': ['apple', 'atom'], 'b': ['bat', 'bar', 'book']}"
      ]
     },
     "execution_count": 114,
     "metadata": {},
     "output_type": "execute_result"
    }
   ],
   "source": [
    "by_letter\n"
   ]
  },
  {
   "cell_type": "code",
   "execution_count": null,
   "id": "e8bc652c",
   "metadata": {},
   "outputs": [],
   "source": [
    "# Método setdefault\n",
    "by_letter = {}\n"
   ]
  },
  {
   "cell_type": "code",
   "execution_count": 116,
   "id": "acc6cfaf",
   "metadata": {},
   "outputs": [],
   "source": [
    "for word in words:\n",
    "    letter = word[0]\n",
    "    by_letter.setdefault(letter, []).append(word)\n"
   ]
  },
  {
   "cell_type": "code",
   "execution_count": null,
   "id": "8e11417a",
   "metadata": {},
   "outputs": [
    {
     "data": {
      "text/plain": [
       "{'a': ['apple', 'atom'], 'b': ['bat', 'bar', 'book']}"
      ]
     },
     "execution_count": 117,
     "metadata": {},
     "output_type": "execute_result"
    }
   ],
   "source": [
    "by_letter\n"
   ]
  },
  {
   "cell_type": "code",
   "execution_count": 120,
   "id": "37a7be87",
   "metadata": {},
   "outputs": [],
   "source": [
    "# Classe defaultdict\n",
    "from collections import defaultdict\n"
   ]
  },
  {
   "cell_type": "code",
   "execution_count": 121,
   "id": "2e594fde",
   "metadata": {},
   "outputs": [],
   "source": [
    "by_letter = defaultdict(list)\n"
   ]
  },
  {
   "cell_type": "code",
   "execution_count": 122,
   "id": "b52aab8c",
   "metadata": {},
   "outputs": [],
   "source": [
    "for word in words:\n",
    "    by_letter[word[0]].append(word)\n"
   ]
  },
  {
   "cell_type": "code",
   "execution_count": null,
   "id": "c50fc028",
   "metadata": {},
   "outputs": [
    {
     "data": {
      "text/plain": [
       "defaultdict(list, {'b': ['bat', 'bar', 'book'], 'a': ['apple', 'atom']})"
      ]
     },
     "execution_count": 123,
     "metadata": {},
     "output_type": "execute_result"
    }
   ],
   "source": [
    "by_letter\n"
   ]
  },
  {
   "cell_type": "markdown",
   "id": "09e7413a",
   "metadata": {},
   "source": [
    "#### Tipos de chave de dicionário válidos"
   ]
  },
  {
   "cell_type": "code",
   "execution_count": null,
   "id": "37f2cf0e",
   "metadata": {},
   "outputs": [
    {
     "data": {
      "text/plain": [
       "-4116635094514843077"
      ]
     },
     "execution_count": 124,
     "metadata": {},
     "output_type": "execute_result"
    }
   ],
   "source": [
    "hash(\"string\")\n"
   ]
  },
  {
   "cell_type": "code",
   "execution_count": 125,
   "id": "bffb1462",
   "metadata": {},
   "outputs": [
    {
     "data": {
      "text/plain": [
       "-9209053662355515447"
      ]
     },
     "execution_count": 125,
     "metadata": {},
     "output_type": "execute_result"
    }
   ],
   "source": [
    "hash((1, 2, (2, 3)))\n"
   ]
  },
  {
   "cell_type": "code",
   "execution_count": 126,
   "id": "720ec85e",
   "metadata": {},
   "outputs": [
    {
     "ename": "TypeError",
     "evalue": "unhashable type: 'list'",
     "output_type": "error",
     "traceback": [
      "\u001b[1;31m---------------------------------------------------------------------------\u001b[0m",
      "\u001b[1;31mTypeError\u001b[0m                                 Traceback (most recent call last)",
      "Cell \u001b[1;32mIn[126], line 1\u001b[0m\n\u001b[1;32m----> 1\u001b[0m \u001b[38;5;28;43mhash\u001b[39;49m\u001b[43m(\u001b[49m\u001b[43m(\u001b[49m\u001b[38;5;241;43m1\u001b[39;49m\u001b[43m,\u001b[49m\u001b[43m \u001b[49m\u001b[38;5;241;43m2\u001b[39;49m\u001b[43m,\u001b[49m\u001b[43m \u001b[49m\u001b[43m[\u001b[49m\u001b[38;5;241;43m2\u001b[39;49m\u001b[43m,\u001b[49m\u001b[43m \u001b[49m\u001b[38;5;241;43m3\u001b[39;49m\u001b[43m]\u001b[49m\u001b[43m)\u001b[49m\u001b[43m)\u001b[49m  \u001b[38;5;66;03m# Falha porque as listas são mutáveis\u001b[39;00m\n",
      "\u001b[1;31mTypeError\u001b[0m: unhashable type: 'list'"
     ]
    }
   ],
   "source": [
    "hash((1, 2, [2, 3]))  # Falha porque as listas são mutáveis\n"
   ]
  },
  {
   "cell_type": "code",
   "execution_count": null,
   "id": "5ced3fa9",
   "metadata": {},
   "outputs": [],
   "source": [
    "# Utilizando lista como chave\n",
    "d = {}\n"
   ]
  },
  {
   "cell_type": "code",
   "execution_count": 128,
   "id": "d504a426",
   "metadata": {},
   "outputs": [],
   "source": [
    "d[tuple([1, 2, 3])] = 5\n"
   ]
  },
  {
   "cell_type": "code",
   "execution_count": null,
   "id": "1d715a6e",
   "metadata": {},
   "outputs": [
    {
     "data": {
      "text/plain": [
       "{(1, 2, 3): 5}"
      ]
     },
     "execution_count": 129,
     "metadata": {},
     "output_type": "execute_result"
    }
   ],
   "source": [
    "d\n"
   ]
  },
  {
   "cell_type": "markdown",
   "id": "3c19366e",
   "metadata": {},
   "source": [
    "### Conjuntos"
   ]
  },
  {
   "cell_type": "code",
   "execution_count": 1,
   "id": "19dd9d35",
   "metadata": {},
   "outputs": [
    {
     "data": {
      "text/plain": [
       "{1, 2, 3}"
      ]
     },
     "execution_count": 1,
     "metadata": {},
     "output_type": "execute_result"
    }
   ],
   "source": [
    "set([2, 2, 2, 1, 3, 3])\n"
   ]
  },
  {
   "cell_type": "code",
   "execution_count": null,
   "id": "ce5f39aa",
   "metadata": {},
   "outputs": [
    {
     "data": {
      "text/plain": [
       "{1, 2, 3}"
      ]
     },
     "execution_count": 2,
     "metadata": {},
     "output_type": "execute_result"
    }
   ],
   "source": [
    "{2, 2, 2, 1, 3, 3}\n"
   ]
  },
  {
   "cell_type": "code",
   "execution_count": null,
   "id": "57952192",
   "metadata": {},
   "outputs": [],
   "source": [
    "# Operações matemáticas de conjuntos\n",
    "a = {1, 2, 3, 4, 5}\n"
   ]
  },
  {
   "cell_type": "code",
   "execution_count": 4,
   "id": "650ccec0",
   "metadata": {},
   "outputs": [],
   "source": [
    "b = {3, 4, 5, 6, 7, 8}\n"
   ]
  },
  {
   "cell_type": "code",
   "execution_count": null,
   "id": "eeff1151",
   "metadata": {},
   "outputs": [
    {
     "data": {
      "text/plain": [
       "{1, 2, 3, 4, 5, 6, 7, 8}"
      ]
     },
     "execution_count": 5,
     "metadata": {},
     "output_type": "execute_result"
    }
   ],
   "source": [
    "a.union(b)\n"
   ]
  },
  {
   "cell_type": "code",
   "execution_count": null,
   "id": "5f8b7176",
   "metadata": {},
   "outputs": [
    {
     "data": {
      "text/plain": [
       "{1, 2, 3, 4, 5, 6, 7, 8}"
      ]
     },
     "execution_count": 6,
     "metadata": {},
     "output_type": "execute_result"
    }
   ],
   "source": [
    "a | b\n"
   ]
  },
  {
   "cell_type": "code",
   "execution_count": null,
   "id": "77e471bb",
   "metadata": {},
   "outputs": [
    {
     "data": {
      "text/plain": [
       "{3, 4, 5}"
      ]
     },
     "execution_count": 7,
     "metadata": {},
     "output_type": "execute_result"
    }
   ],
   "source": [
    "a.intersection(b)\n"
   ]
  },
  {
   "cell_type": "code",
   "execution_count": null,
   "id": "e4f9c41c",
   "metadata": {},
   "outputs": [
    {
     "data": {
      "text/plain": [
       "{3, 4, 5}"
      ]
     },
     "execution_count": 8,
     "metadata": {},
     "output_type": "execute_result"
    }
   ],
   "source": [
    "a & b\n"
   ]
  },
  {
   "cell_type": "code",
   "execution_count": null,
   "id": "801ffb74",
   "metadata": {},
   "outputs": [],
   "source": [
    "c = a.copy()\n"
   ]
  },
  {
   "cell_type": "code",
   "execution_count": 10,
   "id": "e69d0bb9",
   "metadata": {},
   "outputs": [],
   "source": [
    "# Define o conteúdo de c para ser a união dos elementos de c e b\n",
    "c |= b\n"
   ]
  },
  {
   "cell_type": "code",
   "execution_count": null,
   "id": "97ec4e82",
   "metadata": {},
   "outputs": [
    {
     "data": {
      "text/plain": [
       "{1, 2, 3, 4, 5, 6, 7, 8}"
      ]
     },
     "execution_count": 11,
     "metadata": {},
     "output_type": "execute_result"
    }
   ],
   "source": [
    "c\n"
   ]
  },
  {
   "cell_type": "code",
   "execution_count": null,
   "id": "df6610f6",
   "metadata": {},
   "outputs": [],
   "source": [
    "d = a.copy()\n"
   ]
  },
  {
   "cell_type": "code",
   "execution_count": null,
   "id": "e5d1514f",
   "metadata": {},
   "outputs": [],
   "source": [
    "# Define o conteúdo de d para ser a interseção dos elementos de d e b\n",
    "d &= b \n"
   ]
  },
  {
   "cell_type": "code",
   "execution_count": null,
   "id": "d34f1f4e",
   "metadata": {},
   "outputs": [
    {
     "data": {
      "text/plain": [
       "{3, 4, 5}"
      ]
     },
     "execution_count": 14,
     "metadata": {},
     "output_type": "execute_result"
    }
   ],
   "source": [
    "d\n"
   ]
  },
  {
   "cell_type": "code",
   "execution_count": 15,
   "id": "0ad69220",
   "metadata": {},
   "outputs": [],
   "source": [
    "# Para armazenar elementos tipo lista (ou outras sequências mutáveis em um\n",
    "# conjunto), pode convertê-los em tuplas\n",
    "my_data = [1, 2, 3, 4]\n"
   ]
  },
  {
   "cell_type": "code",
   "execution_count": 16,
   "id": "96985baf",
   "metadata": {},
   "outputs": [],
   "source": [
    "my_set = {tuple(my_data)}\n"
   ]
  },
  {
   "cell_type": "code",
   "execution_count": null,
   "id": "01577d71",
   "metadata": {},
   "outputs": [
    {
     "data": {
      "text/plain": [
       "{(1, 2, 3, 4)}"
      ]
     },
     "execution_count": 17,
     "metadata": {},
     "output_type": "execute_result"
    }
   ],
   "source": [
    "my_set\n"
   ]
  },
  {
   "cell_type": "code",
   "execution_count": null,
   "id": "e706ba28",
   "metadata": {},
   "outputs": [],
   "source": [
    "# Verificar se um conjunto é um subconjunto ou um superconjunto\n",
    "a_set = {1, 2, 3, 4, 5}\n"
   ]
  },
  {
   "cell_type": "code",
   "execution_count": 19,
   "id": "e9414356",
   "metadata": {},
   "outputs": [
    {
     "data": {
      "text/plain": [
       "True"
      ]
     },
     "execution_count": 19,
     "metadata": {},
     "output_type": "execute_result"
    }
   ],
   "source": [
    "{1, 2, 3}.issubset(a_set)\n"
   ]
  },
  {
   "cell_type": "code",
   "execution_count": 20,
   "id": "aa30dc00",
   "metadata": {},
   "outputs": [
    {
     "data": {
      "text/plain": [
       "True"
      ]
     },
     "execution_count": 20,
     "metadata": {},
     "output_type": "execute_result"
    }
   ],
   "source": [
    "a_set.issuperset({1, 2, 3})\n"
   ]
  },
  {
   "cell_type": "code",
   "execution_count": 21,
   "id": "50d80774",
   "metadata": {},
   "outputs": [
    {
     "data": {
      "text/plain": [
       "True"
      ]
     },
     "execution_count": 21,
     "metadata": {},
     "output_type": "execute_result"
    }
   ],
   "source": [
    "# Os conjuntos serão iguais se, e somente se, os seus conteúdos forem iguais\n",
    "{1, 2, 3} == {3, 2, 1}\n"
   ]
  },
  {
   "cell_type": "markdown",
   "id": "6a71beb1",
   "metadata": {},
   "source": [
    "### Funções de sequência internas"
   ]
  },
  {
   "cell_type": "markdown",
   "id": "4dcee2f7",
   "metadata": {},
   "source": [
    "#### enumerate"
   ]
  },
  {
   "cell_type": "markdown",
   "id": "e12ba8c5",
   "metadata": {},
   "source": [
    "A função interna `enumerate` retorna uma sequência de tuplas `(i, value)`"
   ]
  },
  {
   "cell_type": "markdown",
   "id": "d631ee58",
   "metadata": {},
   "source": [
    "#### sorted"
   ]
  },
  {
   "cell_type": "code",
   "execution_count": null,
   "id": "7c979a33",
   "metadata": {},
   "outputs": [
    {
     "data": {
      "text/plain": [
       "[0, 1, 2, 2, 3, 6, 7]"
      ]
     },
     "execution_count": 22,
     "metadata": {},
     "output_type": "execute_result"
    }
   ],
   "source": [
    "sorted([7, 1, 2, 6, 0, 3, 2])\n"
   ]
  },
  {
   "cell_type": "code",
   "execution_count": null,
   "id": "88b2e840",
   "metadata": {},
   "outputs": [
    {
     "data": {
      "text/plain": [
       "[' ', 'a', 'c', 'e', 'e', 'h', 'o', 'r', 'r', 's']"
      ]
     },
     "execution_count": 23,
     "metadata": {},
     "output_type": "execute_result"
    }
   ],
   "source": [
    "sorted(\"horse race\")\n"
   ]
  },
  {
   "cell_type": "markdown",
   "id": "33b5cf27",
   "metadata": {},
   "source": [
    "#### zip"
   ]
  },
  {
   "cell_type": "code",
   "execution_count": 24,
   "id": "d246ba81",
   "metadata": {},
   "outputs": [],
   "source": [
    "seq1 = [\"foo\", \"bar\", \"baz\"]\n"
   ]
  },
  {
   "cell_type": "code",
   "execution_count": 25,
   "id": "0fc9245e",
   "metadata": {},
   "outputs": [],
   "source": [
    "seq2 = [\"one\", \"two\", \"three\"]\n"
   ]
  },
  {
   "cell_type": "code",
   "execution_count": 26,
   "id": "c11a4b5a",
   "metadata": {},
   "outputs": [],
   "source": [
    "zipped = zip(seq1, seq2)\n"
   ]
  },
  {
   "cell_type": "code",
   "execution_count": null,
   "id": "7f263c0f",
   "metadata": {},
   "outputs": [
    {
     "data": {
      "text/plain": [
       "[('foo', 'one'), ('bar', 'two'), ('baz', 'three')]"
      ]
     },
     "execution_count": 27,
     "metadata": {},
     "output_type": "execute_result"
    }
   ],
   "source": [
    "list(zipped)\n"
   ]
  },
  {
   "cell_type": "code",
   "execution_count": 28,
   "id": "0815ff9f",
   "metadata": {},
   "outputs": [],
   "source": [
    "seq3 = [False, True]\n"
   ]
  },
  {
   "cell_type": "code",
   "execution_count": 29,
   "id": "2c8c7676",
   "metadata": {},
   "outputs": [
    {
     "data": {
      "text/plain": [
       "[('foo', 'one', False), ('bar', 'two', True)]"
      ]
     },
     "execution_count": 29,
     "metadata": {},
     "output_type": "execute_result"
    }
   ],
   "source": [
    "list(zip(seq1, seq2, seq3))\n"
   ]
  },
  {
   "cell_type": "code",
   "execution_count": 30,
   "id": "6bb940b2",
   "metadata": {},
   "outputs": [
    {
     "name": "stdout",
     "output_type": "stream",
     "text": [
      "0: foo, one\n",
      "1: bar, two\n",
      "2: baz, three\n"
     ]
    }
   ],
   "source": [
    "for index, (a, b) in enumerate(zip(seq1, seq2)):\n",
    "    print(f\"{index}: {a}, {b}\")\n"
   ]
  },
  {
   "cell_type": "markdown",
   "id": "176ac25e",
   "metadata": {},
   "source": [
    "#### reversed"
   ]
  },
  {
   "cell_type": "code",
   "execution_count": 31,
   "id": "9f92f333",
   "metadata": {},
   "outputs": [
    {
     "data": {
      "text/plain": [
       "[9, 8, 7, 6, 5, 4, 3, 2, 1, 0]"
      ]
     },
     "execution_count": 31,
     "metadata": {},
     "output_type": "execute_result"
    }
   ],
   "source": [
    "list(reversed(range(10)))\n"
   ]
  },
  {
   "cell_type": "markdown",
   "id": "ac9c0b83",
   "metadata": {},
   "source": [
    "### List, set e dictionary comprehensions"
   ]
  },
  {
   "cell_type": "code",
   "execution_count": null,
   "id": "387d9996",
   "metadata": {},
   "outputs": [],
   "source": [
    "strings = [\"a\", \"as\", \"bat\", \"car\", \"dove\", \"python\"]\n"
   ]
  },
  {
   "cell_type": "code",
   "execution_count": 33,
   "id": "f5bd510d",
   "metadata": {},
   "outputs": [
    {
     "data": {
      "text/plain": [
       "['BAT', 'CAR', 'DOVE', 'PYTHON']"
      ]
     },
     "execution_count": 33,
     "metadata": {},
     "output_type": "execute_result"
    }
   ],
   "source": [
    "[x.upper() for x in strings if len(x) > 2]\n"
   ]
  },
  {
   "cell_type": "code",
   "execution_count": null,
   "id": "a73dfcdd",
   "metadata": {},
   "outputs": [],
   "source": [
    "unique_lengths = {len(x) for x in strings}\n"
   ]
  },
  {
   "cell_type": "code",
   "execution_count": null,
   "id": "7a48ca86",
   "metadata": {},
   "outputs": [
    {
     "data": {
      "text/plain": [
       "{1, 2, 3, 4, 6}"
      ]
     },
     "execution_count": 35,
     "metadata": {},
     "output_type": "execute_result"
    }
   ],
   "source": [
    "unique_lengths\n"
   ]
  },
  {
   "cell_type": "code",
   "execution_count": 36,
   "id": "d12412ae",
   "metadata": {},
   "outputs": [
    {
     "data": {
      "text/plain": [
       "{1, 2, 3, 4, 6}"
      ]
     },
     "execution_count": 36,
     "metadata": {},
     "output_type": "execute_result"
    }
   ],
   "source": [
    "# Utilizando a função map\n",
    "set(map(len, strings))\n"
   ]
  },
  {
   "cell_type": "code",
   "execution_count": null,
   "id": "c75ba0ee",
   "metadata": {},
   "outputs": [],
   "source": [
    "loc_mapping = {value: index for index, value in enumerate(strings)}\n"
   ]
  },
  {
   "cell_type": "code",
   "execution_count": null,
   "id": "7a9d49c0",
   "metadata": {},
   "outputs": [
    {
     "data": {
      "text/plain": [
       "{'a': 0, 'as': 1, 'bat': 2, 'car': 3, 'dove': 4, 'python': 5}"
      ]
     },
     "execution_count": 38,
     "metadata": {},
     "output_type": "execute_result"
    }
   ],
   "source": [
    "loc_mapping\n"
   ]
  },
  {
   "cell_type": "markdown",
   "id": "e44e3963",
   "metadata": {},
   "source": [
    "#### List comprehensions aninhadas"
   ]
  },
  {
   "cell_type": "code",
   "execution_count": 39,
   "id": "4575150c",
   "metadata": {},
   "outputs": [],
   "source": [
    "all_data = [\n",
    "    [\"John\", \"Emily\", \"Michael\", \"Mary\", \"Steven\"],\n",
    "    [\"Maria\", \"Juan\", \"Javier\", \"Natalia\", \"Pilar\"],\n",
    "]\n"
   ]
  },
  {
   "cell_type": "code",
   "execution_count": 47,
   "id": "fb6ed680",
   "metadata": {},
   "outputs": [],
   "source": [
    "names_of_interest = []\n"
   ]
  },
  {
   "cell_type": "code",
   "execution_count": 48,
   "id": "7f63f1bc",
   "metadata": {},
   "outputs": [],
   "source": [
    "for names in all_data:\n",
    "    enough_as = [name for name in names if name.count(\"a\") >= 2]\n",
    "    names_of_interest.extend(enough_as)\n"
   ]
  },
  {
   "cell_type": "code",
   "execution_count": null,
   "id": "925e82aa",
   "metadata": {},
   "outputs": [
    {
     "data": {
      "text/plain": [
       "['Maria', 'Natalia']"
      ]
     },
     "execution_count": 49,
     "metadata": {},
     "output_type": "execute_result"
    }
   ],
   "source": [
    "names_of_interest\n"
   ]
  },
  {
   "cell_type": "code",
   "execution_count": 51,
   "id": "0a07d20c",
   "metadata": {},
   "outputs": [],
   "source": [
    "result = [name for names in all_data for name in names if name.count(\"a\") >= 2]\n"
   ]
  },
  {
   "cell_type": "code",
   "execution_count": null,
   "id": "81bca655",
   "metadata": {},
   "outputs": [
    {
     "data": {
      "text/plain": [
       "['Maria', 'Natalia']"
      ]
     },
     "execution_count": 52,
     "metadata": {},
     "output_type": "execute_result"
    }
   ],
   "source": [
    "result\n"
   ]
  },
  {
   "cell_type": "code",
   "execution_count": 53,
   "id": "c9fd223e",
   "metadata": {},
   "outputs": [],
   "source": [
    "some_tuples = [(1, 2, 3), (4, 5, 6), (7, 8, 9)]\n"
   ]
  },
  {
   "cell_type": "code",
   "execution_count": 54,
   "id": "a0a3a1df",
   "metadata": {},
   "outputs": [],
   "source": [
    "flattened = [x for tup in some_tuples for x in tup]\n"
   ]
  },
  {
   "cell_type": "code",
   "execution_count": null,
   "id": "c659a897",
   "metadata": {},
   "outputs": [
    {
     "data": {
      "text/plain": [
       "[1, 2, 3, 4, 5, 6, 7, 8, 9]"
      ]
     },
     "execution_count": 55,
     "metadata": {},
     "output_type": "execute_result"
    }
   ],
   "source": [
    "flattened\n"
   ]
  },
  {
   "cell_type": "code",
   "execution_count": 57,
   "id": "bb95ad85",
   "metadata": {},
   "outputs": [
    {
     "data": {
      "text/plain": [
       "[[1, 2, 3], [4, 5, 6], [7, 8, 9]]"
      ]
     },
     "execution_count": 57,
     "metadata": {},
     "output_type": "execute_result"
    }
   ],
   "source": [
    "[[x for x in tup] for tup in some_tuples]  # Porduz uma lista de listas\n"
   ]
  },
  {
   "cell_type": "markdown",
   "id": "768e438b",
   "metadata": {},
   "source": [
    "## 3.2 Funções"
   ]
  },
  {
   "cell_type": "code",
   "execution_count": 58,
   "id": "5346ef04",
   "metadata": {},
   "outputs": [],
   "source": [
    "def my_function(x, y):\n",
    "    return x + y\n"
   ]
  },
  {
   "cell_type": "code",
   "execution_count": 59,
   "id": "71a71945",
   "metadata": {},
   "outputs": [
    {
     "data": {
      "text/plain": [
       "3"
      ]
     },
     "execution_count": 59,
     "metadata": {},
     "output_type": "execute_result"
    }
   ],
   "source": [
    "my_function(1, 2)\n"
   ]
  },
  {
   "cell_type": "code",
   "execution_count": 60,
   "id": "03efab2b",
   "metadata": {},
   "outputs": [],
   "source": [
    "result = my_function(1, 2)\n"
   ]
  },
  {
   "cell_type": "code",
   "execution_count": null,
   "id": "41a6d266",
   "metadata": {},
   "outputs": [
    {
     "data": {
      "text/plain": [
       "3"
      ]
     },
     "execution_count": 61,
     "metadata": {},
     "output_type": "execute_result"
    }
   ],
   "source": [
    "result\n"
   ]
  },
  {
   "cell_type": "code",
   "execution_count": 62,
   "id": "3a900368",
   "metadata": {},
   "outputs": [],
   "source": [
    "def function_without_return(x):\n",
    "    print(x)\n"
   ]
  },
  {
   "cell_type": "code",
   "execution_count": null,
   "id": "384ffbfb",
   "metadata": {},
   "outputs": [
    {
     "name": "stdout",
     "output_type": "stream",
     "text": [
      "hello!\n"
     ]
    }
   ],
   "source": [
    "result = function_without_return(\"hello!\")\n"
   ]
  },
  {
   "cell_type": "code",
   "execution_count": null,
   "id": "90e42d06",
   "metadata": {},
   "outputs": [
    {
     "name": "stdout",
     "output_type": "stream",
     "text": [
      "None\n"
     ]
    }
   ],
   "source": [
    "print(result)\n"
   ]
  },
  {
   "cell_type": "code",
   "execution_count": 65,
   "id": "008a9bea",
   "metadata": {},
   "outputs": [],
   "source": [
    "# Argumentos posicionais e argumentos nomeados\n",
    "def my_function(x, y, z=1.5):\n",
    "    if z > 1:\n",
    "        return z * (x + y)\n",
    "    else:\n",
    "        return z / (x + y)\n"
   ]
  },
  {
   "cell_type": "code",
   "execution_count": 66,
   "id": "53c0a18a",
   "metadata": {},
   "outputs": [
    {
     "data": {
      "text/plain": [
       "0.06363636363636363"
      ]
     },
     "execution_count": 66,
     "metadata": {},
     "output_type": "execute_result"
    }
   ],
   "source": [
    "my_function(5, 6, z=0.7)\n"
   ]
  },
  {
   "cell_type": "code",
   "execution_count": 68,
   "id": "7a3b007c",
   "metadata": {},
   "outputs": [
    {
     "data": {
      "text/plain": [
       "35.49"
      ]
     },
     "execution_count": 68,
     "metadata": {},
     "output_type": "execute_result"
    }
   ],
   "source": [
    "my_function(3.14, 7, 3.5)\n"
   ]
  },
  {
   "cell_type": "code",
   "execution_count": 69,
   "id": "f88c5fee",
   "metadata": {},
   "outputs": [
    {
     "data": {
      "text/plain": [
       "45.0"
      ]
     },
     "execution_count": 69,
     "metadata": {},
     "output_type": "execute_result"
    }
   ],
   "source": [
    "my_function(10, 20)\n"
   ]
  },
  {
   "cell_type": "markdown",
   "id": "16ee3ccf",
   "metadata": {},
   "source": [
    "### Namespaces, escopo e funções locais"
   ]
  },
  {
   "cell_type": "code",
   "execution_count": null,
   "id": "6bb7ac98",
   "metadata": {},
   "outputs": [],
   "source": [
    "a = []\n"
   ]
  },
  {
   "cell_type": "code",
   "execution_count": 71,
   "id": "efdc227a",
   "metadata": {},
   "outputs": [],
   "source": [
    "def func():\n",
    "    for i in range(5):\n",
    "        a.append(i)\n"
   ]
  },
  {
   "cell_type": "code",
   "execution_count": null,
   "id": "f2b10ac9",
   "metadata": {},
   "outputs": [],
   "source": [
    "func()\n"
   ]
  },
  {
   "cell_type": "code",
   "execution_count": null,
   "id": "34066fc5",
   "metadata": {},
   "outputs": [
    {
     "data": {
      "text/plain": [
       "[0, 1, 2, 3, 4]"
      ]
     },
     "execution_count": 73,
     "metadata": {},
     "output_type": "execute_result"
    }
   ],
   "source": [
    "a\n"
   ]
  },
  {
   "cell_type": "code",
   "execution_count": null,
   "id": "305e2d05",
   "metadata": {},
   "outputs": [],
   "source": [
    "func()\n"
   ]
  },
  {
   "cell_type": "code",
   "execution_count": null,
   "id": "ff636f94",
   "metadata": {},
   "outputs": [
    {
     "data": {
      "text/plain": [
       "[0, 1, 2, 3, 4, 0, 1, 2, 3, 4]"
      ]
     },
     "execution_count": 75,
     "metadata": {},
     "output_type": "execute_result"
    }
   ],
   "source": [
    "a\n"
   ]
  },
  {
   "cell_type": "code",
   "execution_count": null,
   "id": "9b374625",
   "metadata": {},
   "outputs": [],
   "source": [
    "# Utilizando a palavra-chave global\n",
    "a = None\n"
   ]
  },
  {
   "cell_type": "code",
   "execution_count": 79,
   "id": "85204a47",
   "metadata": {},
   "outputs": [],
   "source": [
    "def bind_a_variable():\n",
    "    global a\n",
    "    a = []\n",
    "\n",
    "\n",
    "bind_a_variable()\n"
   ]
  },
  {
   "cell_type": "code",
   "execution_count": 80,
   "id": "71a51edc",
   "metadata": {},
   "outputs": [
    {
     "name": "stdout",
     "output_type": "stream",
     "text": [
      "[]\n"
     ]
    }
   ],
   "source": [
    "print(a)\n"
   ]
  },
  {
   "cell_type": "markdown",
   "id": "1891a5ff",
   "metadata": {},
   "source": [
    "### Retorno de vários valores"
   ]
  },
  {
   "cell_type": "markdown",
   "id": "22ba23e9",
   "metadata": {},
   "source": [
    "Em Python há a possibilidade de retornar vários valores de uma função com uma\n",
    "sintaxe simples:\n",
    "```python\n",
    "def f():\n",
    "    a = 5\n",
    "    b = 6\n",
    "    c = 7\n",
    "    return a, b, c\n",
    "\n",
    "\n",
    "a, b, c = f()\n",
    "```"
   ]
  },
  {
   "cell_type": "markdown",
   "id": "8d7e2605",
   "metadata": {},
   "source": [
    "Uma alternativa ao retorno de vários valores poderia se retornar um dicionário:\n",
    "```python\n",
    "def f():\n",
    "    a = 5\n",
    "    b = 6\n",
    "    c = 7\n",
    "    return {\"a\": a, \"b\": b, \"c\": c}\n",
    "```"
   ]
  },
  {
   "cell_type": "markdown",
   "id": "281fa6dc",
   "metadata": {},
   "source": [
    "### Funções são objetos"
   ]
  },
  {
   "cell_type": "code",
   "execution_count": 81,
   "id": "465dea9a",
   "metadata": {},
   "outputs": [],
   "source": [
    "states = [\n",
    "    \"    Alabama\",\n",
    "    \"Georgia!\",\n",
    "    \"Georgia\",\n",
    "    \"georgia\",\n",
    "    \"FlOrIda\",\n",
    "    \"south    carolina##\",\n",
    "    \"West virginia?\",\n",
    "]\n"
   ]
  },
  {
   "cell_type": "code",
   "execution_count": 82,
   "id": "be93e842",
   "metadata": {},
   "outputs": [],
   "source": [
    "import re\n",
    "\n",
    "\n",
    "def clean_strings(strings):\n",
    "    result = []\n",
    "    for value in strings:\n",
    "        value = value.strip()\n",
    "        value = re.sub(\"[!#?]\", \"\", value)\n",
    "        value = value.title()\n",
    "        result.append(value)\n",
    "    return result\n"
   ]
  },
  {
   "cell_type": "code",
   "execution_count": 83,
   "id": "51f44f10",
   "metadata": {},
   "outputs": [
    {
     "data": {
      "text/plain": [
       "['Alabama',\n",
       " 'Georgia',\n",
       " 'Georgia',\n",
       " 'Georgia',\n",
       " 'Florida',\n",
       " 'South    Carolina',\n",
       " 'West Virginia']"
      ]
     },
     "execution_count": 83,
     "metadata": {},
     "output_type": "execute_result"
    }
   ],
   "source": [
    "clean_strings(states)\n"
   ]
  },
  {
   "cell_type": "code",
   "execution_count": 84,
   "id": "36ed3f31",
   "metadata": {},
   "outputs": [],
   "source": [
    "# Lista com operações que se deseja aplicar a um conjunto de strings específico\n",
    "def remove_punctuation(value):\n",
    "    return re.sub(\"[!#?]\", \"\", value)\n",
    "\n",
    "\n",
    "clean_ops = [str.strip, remove_punctuation, str.title]\n",
    "\n",
    "\n",
    "def clean_strings(strings, ops):\n",
    "    result = []\n",
    "    for value in strings:\n",
    "        for func in ops:\n",
    "            value = func(value)\n",
    "        result.append(value)\n",
    "    return result\n"
   ]
  },
  {
   "cell_type": "code",
   "execution_count": 85,
   "id": "8d9cd31e",
   "metadata": {},
   "outputs": [
    {
     "data": {
      "text/plain": [
       "['Alabama',\n",
       " 'Georgia',\n",
       " 'Georgia',\n",
       " 'Georgia',\n",
       " 'Florida',\n",
       " 'South    Carolina',\n",
       " 'West Virginia']"
      ]
     },
     "execution_count": 85,
     "metadata": {},
     "output_type": "execute_result"
    }
   ],
   "source": [
    "clean_strings(states, clean_ops)\n"
   ]
  },
  {
   "cell_type": "code",
   "execution_count": 86,
   "id": "7cbd26a4",
   "metadata": {},
   "outputs": [
    {
     "name": "stdout",
     "output_type": "stream",
     "text": [
      "    Alabama\n",
      "Georgia\n",
      "Georgia\n",
      "georgia\n",
      "FlOrIda\n",
      "south    carolina\n",
      "West virginia\n"
     ]
    }
   ],
   "source": [
    "# Utilizando a função map\n",
    "for x in map(remove_punctuation, states):\n",
    "    print(x)\n"
   ]
  },
  {
   "cell_type": "markdown",
   "id": "b46dba56",
   "metadata": {},
   "source": [
    "### Funções anônimas (lambdas)"
   ]
  },
  {
   "cell_type": "code",
   "execution_count": 87,
   "id": "3e5d978b",
   "metadata": {},
   "outputs": [],
   "source": [
    "def short_function(x):\n",
    "    return x * 2\n"
   ]
  },
  {
   "cell_type": "code",
   "execution_count": 88,
   "id": "2ce66222",
   "metadata": {},
   "outputs": [],
   "source": [
    "equiv_anon = lambda x: x * 2\n"
   ]
  },
  {
   "cell_type": "code",
   "execution_count": 89,
   "id": "a98f0047",
   "metadata": {},
   "outputs": [],
   "source": [
    "def apply_to_list(some_list, f):\n",
    "    return [f(x) for x in some_list]\n"
   ]
  },
  {
   "cell_type": "code",
   "execution_count": 90,
   "id": "37caddc5",
   "metadata": {},
   "outputs": [],
   "source": [
    "ints = [4, 0, 1, 5, 6]\n"
   ]
  },
  {
   "cell_type": "code",
   "execution_count": 91,
   "id": "ebd6e2f0",
   "metadata": {},
   "outputs": [
    {
     "data": {
      "text/plain": [
       "[8, 0, 2, 10, 12]"
      ]
     },
     "execution_count": 91,
     "metadata": {},
     "output_type": "execute_result"
    }
   ],
   "source": [
    "apply_to_list(ints, lambda x: x * 2)\n"
   ]
  },
  {
   "cell_type": "code",
   "execution_count": 92,
   "id": "580823e0",
   "metadata": {},
   "outputs": [],
   "source": [
    "strings = [\"foo\", \"card\", \"bar\", \"aaaa\", \"abab\"]\n"
   ]
  },
  {
   "cell_type": "code",
   "execution_count": 93,
   "id": "e972a568",
   "metadata": {},
   "outputs": [],
   "source": [
    "strings.sort(key=lambda x: len(set(x)))\n"
   ]
  },
  {
   "cell_type": "code",
   "execution_count": null,
   "id": "21c0e7f9",
   "metadata": {},
   "outputs": [
    {
     "data": {
      "text/plain": [
       "['aaaa', 'foo', 'abab', 'bar', 'card']"
      ]
     },
     "execution_count": 94,
     "metadata": {},
     "output_type": "execute_result"
    }
   ],
   "source": [
    "strings\n"
   ]
  },
  {
   "cell_type": "markdown",
   "id": "2d331c08",
   "metadata": {},
   "source": [
    "### Geradores"
   ]
  },
  {
   "cell_type": "code",
   "execution_count": 1,
   "id": "852221ac",
   "metadata": {},
   "outputs": [],
   "source": [
    "some_dict = {\"a\": 1, \"b\": 2, \"c\": 3}\n"
   ]
  },
  {
   "cell_type": "code",
   "execution_count": 2,
   "id": "bae2f739",
   "metadata": {},
   "outputs": [
    {
     "name": "stdout",
     "output_type": "stream",
     "text": [
      "a\n",
      "b\n",
      "c\n"
     ]
    }
   ],
   "source": [
    "for key in some_dict:\n",
    "    print(key)\n"
   ]
  },
  {
   "cell_type": "code",
   "execution_count": 3,
   "id": "80ac5491",
   "metadata": {},
   "outputs": [],
   "source": [
    "dict_iterator = iter(some_dict)\n"
   ]
  },
  {
   "cell_type": "code",
   "execution_count": null,
   "id": "5a19c64a",
   "metadata": {},
   "outputs": [
    {
     "data": {
      "text/plain": [
       "<dict_keyiterator at 0x1b032767830>"
      ]
     },
     "execution_count": 4,
     "metadata": {},
     "output_type": "execute_result"
    }
   ],
   "source": [
    "dict_iterator\n"
   ]
  },
  {
   "cell_type": "code",
   "execution_count": null,
   "id": "f99ac024",
   "metadata": {},
   "outputs": [
    {
     "data": {
      "text/plain": [
       "['a', 'b', 'c']"
      ]
     },
     "execution_count": 5,
     "metadata": {},
     "output_type": "execute_result"
    }
   ],
   "source": [
    "list(dict_iterator)\n"
   ]
  },
  {
   "cell_type": "code",
   "execution_count": 6,
   "id": "4699325a",
   "metadata": {},
   "outputs": [],
   "source": [
    "def squares(n=10):\n",
    "    print(f\"Generating squares from 1 to {n ** 2}\")\n",
    "    for i in range(1, n + 1):\n",
    "        yield i**2\n"
   ]
  },
  {
   "cell_type": "code",
   "execution_count": null,
   "id": "f400bbb3",
   "metadata": {},
   "outputs": [],
   "source": [
    "gen = squares()\n"
   ]
  },
  {
   "cell_type": "code",
   "execution_count": null,
   "id": "338a206f",
   "metadata": {},
   "outputs": [
    {
     "data": {
      "text/plain": [
       "<generator object squares at 0x000001B032727A00>"
      ]
     },
     "execution_count": 8,
     "metadata": {},
     "output_type": "execute_result"
    }
   ],
   "source": [
    "gen\n"
   ]
  },
  {
   "cell_type": "code",
   "execution_count": 9,
   "id": "38da3caf",
   "metadata": {},
   "outputs": [
    {
     "name": "stdout",
     "output_type": "stream",
     "text": [
      "Generating squares from 1 to 100\n",
      "1 4 9 16 25 36 49 64 81 100 "
     ]
    }
   ],
   "source": [
    "for x in gen:\n",
    "    print(x, end=\" \")\n"
   ]
  },
  {
   "cell_type": "markdown",
   "id": "af0d2cf5",
   "metadata": {},
   "source": [
    "#### Expressões geradoras"
   ]
  },
  {
   "cell_type": "code",
   "execution_count": 10,
   "id": "eaef70b7",
   "metadata": {},
   "outputs": [],
   "source": [
    "gen = (x**2 for x in range(100))\n"
   ]
  },
  {
   "cell_type": "code",
   "execution_count": null,
   "id": "0aa9d734",
   "metadata": {},
   "outputs": [
    {
     "data": {
      "text/plain": [
       "<generator object <genexpr> at 0x000001B03273AB50>"
      ]
     },
     "execution_count": 11,
     "metadata": {},
     "output_type": "execute_result"
    }
   ],
   "source": [
    "gen\n"
   ]
  },
  {
   "cell_type": "code",
   "execution_count": 12,
   "id": "9b601889",
   "metadata": {},
   "outputs": [
    {
     "data": {
      "text/plain": [
       "328350"
      ]
     },
     "execution_count": 12,
     "metadata": {},
     "output_type": "execute_result"
    }
   ],
   "source": [
    "# Utilizando expressões geradoras como argumentos de funções\n",
    "sum(x**2 for x in range(100))\n"
   ]
  },
  {
   "cell_type": "code",
   "execution_count": 13,
   "id": "93fddb1b",
   "metadata": {},
   "outputs": [
    {
     "data": {
      "text/plain": [
       "{0: 0, 1: 1, 2: 4, 3: 9, 4: 16}"
      ]
     },
     "execution_count": 13,
     "metadata": {},
     "output_type": "execute_result"
    }
   ],
   "source": [
    "dict((i, i**2) for i in range(5))\n"
   ]
  },
  {
   "cell_type": "markdown",
   "id": "3bdde2e8",
   "metadata": {},
   "source": [
    "#### Módulo itertools"
   ]
  },
  {
   "cell_type": "code",
   "execution_count": 14,
   "id": "e8469d3b",
   "metadata": {},
   "outputs": [],
   "source": [
    "import itertools\n"
   ]
  },
  {
   "cell_type": "code",
   "execution_count": 15,
   "id": "3fb142b4",
   "metadata": {},
   "outputs": [],
   "source": [
    "def first_letter(x):\n",
    "    return x[0]\n"
   ]
  },
  {
   "cell_type": "code",
   "execution_count": 16,
   "id": "ae801680",
   "metadata": {},
   "outputs": [],
   "source": [
    "names = [\"Alan\", \"Adam\", \"Wes\", \"Will\", \"Albert\", \"Steven\"]\n"
   ]
  },
  {
   "cell_type": "code",
   "execution_count": 17,
   "id": "d4cdc8d1",
   "metadata": {},
   "outputs": [
    {
     "name": "stdout",
     "output_type": "stream",
     "text": [
      "A ['Alan', 'Adam']\n",
      "W ['Wes', 'Will']\n",
      "A ['Albert']\n",
      "S ['Steven']\n"
     ]
    }
   ],
   "source": [
    "for letter, names in itertools.groupby(names, first_letter):\n",
    "    print(letter, list(names))  # names é um gerador\n"
   ]
  },
  {
   "cell_type": "markdown",
   "id": "80847877",
   "metadata": {},
   "source": [
    "### Erros e manipulação de exceções"
   ]
  },
  {
   "cell_type": "code",
   "execution_count": 18,
   "id": "4ff60678",
   "metadata": {},
   "outputs": [
    {
     "data": {
      "text/plain": [
       "1.2345"
      ]
     },
     "execution_count": 18,
     "metadata": {},
     "output_type": "execute_result"
    }
   ],
   "source": [
    "float(\"1.2345\")\n"
   ]
  },
  {
   "cell_type": "code",
   "execution_count": null,
   "id": "e22ed1a0",
   "metadata": {},
   "outputs": [
    {
     "ename": "ValueError",
     "evalue": "could not convert string to float: 'something'",
     "output_type": "error",
     "traceback": [
      "\u001b[1;31m---------------------------------------------------------------------------\u001b[0m",
      "\u001b[1;31mValueError\u001b[0m                                Traceback (most recent call last)",
      "Cell \u001b[1;32mIn[19], line 1\u001b[0m\n\u001b[1;32m----> 1\u001b[0m \u001b[38;5;28;43mfloat\u001b[39;49m\u001b[43m(\u001b[49m\u001b[38;5;124;43m\"\u001b[39;49m\u001b[38;5;124;43msomething\u001b[39;49m\u001b[38;5;124;43m\"\u001b[39;49m\u001b[43m)\u001b[49m\n",
      "\u001b[1;31mValueError\u001b[0m: could not convert string to float: 'something'"
     ]
    }
   ],
   "source": [
    "float(\"something\")\n"
   ]
  },
  {
   "cell_type": "code",
   "execution_count": 20,
   "id": "daf143f0",
   "metadata": {},
   "outputs": [],
   "source": [
    "def attempt_float(x):\n",
    "    try:\n",
    "        return float(x)\n",
    "    except:\n",
    "        return x\n"
   ]
  },
  {
   "cell_type": "code",
   "execution_count": 21,
   "id": "852fd4b8",
   "metadata": {},
   "outputs": [
    {
     "data": {
      "text/plain": [
       "1.2345"
      ]
     },
     "execution_count": 21,
     "metadata": {},
     "output_type": "execute_result"
    }
   ],
   "source": [
    "attempt_float(\"1.2345\")\n"
   ]
  },
  {
   "cell_type": "code",
   "execution_count": 22,
   "id": "5b24f13d",
   "metadata": {},
   "outputs": [
    {
     "data": {
      "text/plain": [
       "'something'"
      ]
     },
     "execution_count": 22,
     "metadata": {},
     "output_type": "execute_result"
    }
   ],
   "source": [
    "attempt_float(\"something\")\n"
   ]
  },
  {
   "cell_type": "code",
   "execution_count": 23,
   "id": "8d00e27c",
   "metadata": {},
   "outputs": [
    {
     "ename": "TypeError",
     "evalue": "float() argument must be a string or a real number, not 'tuple'",
     "output_type": "error",
     "traceback": [
      "\u001b[1;31m---------------------------------------------------------------------------\u001b[0m",
      "\u001b[1;31mTypeError\u001b[0m                                 Traceback (most recent call last)",
      "Cell \u001b[1;32mIn[23], line 1\u001b[0m\n\u001b[1;32m----> 1\u001b[0m \u001b[38;5;28;43mfloat\u001b[39;49m\u001b[43m(\u001b[49m\u001b[43m(\u001b[49m\u001b[38;5;241;43m1\u001b[39;49m\u001b[43m,\u001b[49m\u001b[43m \u001b[49m\u001b[38;5;241;43m2\u001b[39;49m\u001b[43m)\u001b[49m\u001b[43m)\u001b[49m\n",
      "\u001b[1;31mTypeError\u001b[0m: float() argument must be a string or a real number, not 'tuple'"
     ]
    }
   ],
   "source": [
    "float((1, 2))\n"
   ]
  },
  {
   "cell_type": "code",
   "execution_count": 24,
   "id": "d1254cbe",
   "metadata": {},
   "outputs": [],
   "source": [
    "def attempt_float(x):\n",
    "    try:\n",
    "        return float(x)\n",
    "    except ValueError:\n",
    "        return x\n"
   ]
  },
  {
   "cell_type": "code",
   "execution_count": 25,
   "id": "0010a408",
   "metadata": {},
   "outputs": [
    {
     "ename": "TypeError",
     "evalue": "float() argument must be a string or a real number, not 'tuple'",
     "output_type": "error",
     "traceback": [
      "\u001b[1;31m---------------------------------------------------------------------------\u001b[0m",
      "\u001b[1;31mTypeError\u001b[0m                                 Traceback (most recent call last)",
      "Cell \u001b[1;32mIn[25], line 1\u001b[0m\n\u001b[1;32m----> 1\u001b[0m \u001b[43mattempt_float\u001b[49m\u001b[43m(\u001b[49m\u001b[43m(\u001b[49m\u001b[38;5;241;43m1\u001b[39;49m\u001b[43m,\u001b[49m\u001b[43m \u001b[49m\u001b[38;5;241;43m2\u001b[39;49m\u001b[43m)\u001b[49m\u001b[43m)\u001b[49m\n",
      "Cell \u001b[1;32mIn[24], line 3\u001b[0m, in \u001b[0;36mattempt_float\u001b[1;34m(x)\u001b[0m\n\u001b[0;32m      1\u001b[0m \u001b[38;5;28;01mdef\u001b[39;00m \u001b[38;5;21mattempt_float\u001b[39m(x):\n\u001b[0;32m      2\u001b[0m     \u001b[38;5;28;01mtry\u001b[39;00m:\n\u001b[1;32m----> 3\u001b[0m         \u001b[38;5;28;01mreturn\u001b[39;00m \u001b[38;5;28;43mfloat\u001b[39;49m\u001b[43m(\u001b[49m\u001b[43mx\u001b[49m\u001b[43m)\u001b[49m\n\u001b[0;32m      4\u001b[0m     \u001b[38;5;28;01mexcept\u001b[39;00m \u001b[38;5;167;01mValueError\u001b[39;00m:\n\u001b[0;32m      5\u001b[0m         \u001b[38;5;28;01mreturn\u001b[39;00m x\n",
      "\u001b[1;31mTypeError\u001b[0m: float() argument must be a string or a real number, not 'tuple'"
     ]
    }
   ],
   "source": [
    "attempt_float((1, 2))\n"
   ]
  },
  {
   "cell_type": "code",
   "execution_count": 26,
   "id": "3c839c43",
   "metadata": {},
   "outputs": [],
   "source": [
    "def attempt_float(x):\n",
    "    try:\n",
    "        return float(x)\n",
    "    except (ValueError, TypeError):\n",
    "        return x\n"
   ]
  },
  {
   "cell_type": "markdown",
   "id": "4422b8f8",
   "metadata": {},
   "source": [
    "## 3.3 Arquivos e o sistema operacional"
   ]
  },
  {
   "cell_type": "code",
   "execution_count": null,
   "id": "94207ec0",
   "metadata": {},
   "outputs": [],
   "source": [
    "path = \"examples/segismundo.txt\"\n"
   ]
  },
  {
   "cell_type": "code",
   "execution_count": null,
   "id": "50a859e9",
   "metadata": {},
   "outputs": [],
   "source": [
    "f = open(path, encoding=\"utf-8\")\n"
   ]
  },
  {
   "cell_type": "code",
   "execution_count": 3,
   "id": "6963692f",
   "metadata": {},
   "outputs": [
    {
     "name": "stdout",
     "output_type": "stream",
     "text": [
      "Sueña el rico en su riqueza,\n",
      "\n",
      "que más cuidados le ofrece;\n",
      "\n",
      "\n",
      "\n",
      "sueña el pobre que padece\n",
      "\n",
      "su miseria y su pobreza;\n",
      "\n",
      "\n",
      "\n",
      "sueña el que a medrar empieza,\n",
      "\n",
      "sueña el que afana y pretende,\n",
      "\n",
      "sueña el que agravia y ofende,\n",
      "\n",
      "\n",
      "\n",
      "y en el mundo, en conclusión,\n",
      "\n",
      "todos sueñan lo que son,\n",
      "\n",
      "aunque ninguno lo entiende.\n",
      "\n",
      "\n",
      "\n"
     ]
    }
   ],
   "source": [
    "for line in f:\n",
    "    print(line)\n"
   ]
  },
  {
   "cell_type": "code",
   "execution_count": 4,
   "id": "4934edec",
   "metadata": {},
   "outputs": [],
   "source": [
    "lines = [x.rstrip() for x in open(path, encoding=\"utf-8\")]\n"
   ]
  },
  {
   "cell_type": "code",
   "execution_count": null,
   "id": "f67c8f16",
   "metadata": {},
   "outputs": [
    {
     "data": {
      "text/plain": [
       "['Sueña el rico en su riqueza,',\n",
       " 'que más cuidados le ofrece;',\n",
       " '',\n",
       " 'sueña el pobre que padece',\n",
       " 'su miseria y su pobreza;',\n",
       " '',\n",
       " 'sueña el que a medrar empieza,',\n",
       " 'sueña el que afana y pretende,',\n",
       " 'sueña el que agravia y ofende,',\n",
       " '',\n",
       " 'y en el mundo, en conclusión,',\n",
       " 'todos sueñan lo que son,',\n",
       " 'aunque ninguno lo entiende.',\n",
       " '']"
      ]
     },
     "execution_count": 5,
     "metadata": {},
     "output_type": "execute_result"
    }
   ],
   "source": [
    "lines\n"
   ]
  },
  {
   "cell_type": "code",
   "execution_count": null,
   "id": "c20451da",
   "metadata": {},
   "outputs": [],
   "source": [
    "f.close()\n"
   ]
  },
  {
   "cell_type": "code",
   "execution_count": 7,
   "id": "5239931e",
   "metadata": {},
   "outputs": [],
   "source": [
    "# Usando a instrução with (não precisa utilizar close para fechar o arquivo)\n",
    "with open(path, encoding=\"utf-8\") as f:\n",
    "    lines = [x.rstrip() for x in f]\n"
   ]
  },
  {
   "cell_type": "code",
   "execution_count": 10,
   "id": "5a542f0a",
   "metadata": {},
   "outputs": [],
   "source": [
    "f1 = open(path, encoding=\"utf-8\")\n"
   ]
  },
  {
   "cell_type": "code",
   "execution_count": null,
   "id": "fe5e5bca",
   "metadata": {},
   "outputs": [
    {
     "data": {
      "text/plain": [
       "'Sueña el r'"
      ]
     },
     "execution_count": 11,
     "metadata": {},
     "output_type": "execute_result"
    }
   ],
   "source": [
    "# read faz a posição no objeto avançar conforme o número de bytes lidos\n",
    "f1.read(10)\n"
   ]
  },
  {
   "cell_type": "code",
   "execution_count": 12,
   "id": "3d4c53d2",
   "metadata": {},
   "outputs": [],
   "source": [
    "f2 = open(path, mode=\"rb\")  # Modo binário\n"
   ]
  },
  {
   "cell_type": "code",
   "execution_count": null,
   "id": "3120283c",
   "metadata": {},
   "outputs": [
    {
     "data": {
      "text/plain": [
       "b'Sue\\xc3\\xb1a el '"
      ]
     },
     "execution_count": 13,
     "metadata": {},
     "output_type": "execute_result"
    }
   ],
   "source": [
    "f2.read(10)\n"
   ]
  },
  {
   "cell_type": "code",
   "execution_count": null,
   "id": "f03ef52d",
   "metadata": {},
   "outputs": [
    {
     "data": {
      "text/plain": [
       "11"
      ]
     },
     "execution_count": 14,
     "metadata": {},
     "output_type": "execute_result"
    }
   ],
   "source": [
    "# tell fornece a posição atual\n",
    "f1.tell()\n"
   ]
  },
  {
   "cell_type": "code",
   "execution_count": null,
   "id": "590ef32e",
   "metadata": {},
   "outputs": [
    {
     "data": {
      "text/plain": [
       "10"
      ]
     },
     "execution_count": 15,
     "metadata": {},
     "output_type": "execute_result"
    }
   ],
   "source": [
    "f2.tell()\n"
   ]
  },
  {
   "cell_type": "code",
   "execution_count": 16,
   "id": "4c885d81",
   "metadata": {},
   "outputs": [
    {
     "data": {
      "text/plain": [
       "'utf-8'"
      ]
     },
     "execution_count": 16,
     "metadata": {},
     "output_type": "execute_result"
    }
   ],
   "source": [
    "import sys\n",
    "\n",
    "sys.getdefaultencoding()\n"
   ]
  },
  {
   "cell_type": "code",
   "execution_count": 17,
   "id": "c27f5cad",
   "metadata": {},
   "outputs": [
    {
     "data": {
      "text/plain": [
       "3"
      ]
     },
     "execution_count": 17,
     "metadata": {},
     "output_type": "execute_result"
    }
   ],
   "source": [
    "# seek altera a posição no arquivo para o bute indicado\n",
    "f1.seek(3)\n"
   ]
  },
  {
   "cell_type": "code",
   "execution_count": 18,
   "id": "4a0885ca",
   "metadata": {},
   "outputs": [
    {
     "data": {
      "text/plain": [
       "'ñ'"
      ]
     },
     "execution_count": 18,
     "metadata": {},
     "output_type": "execute_result"
    }
   ],
   "source": [
    "f1.read(1)\n"
   ]
  },
  {
   "cell_type": "code",
   "execution_count": null,
   "id": "ba4455c3",
   "metadata": {},
   "outputs": [
    {
     "data": {
      "text/plain": [
       "5"
      ]
     },
     "execution_count": 19,
     "metadata": {},
     "output_type": "execute_result"
    }
   ],
   "source": [
    "f1.tell()\n"
   ]
  },
  {
   "cell_type": "code",
   "execution_count": null,
   "id": "9fb512c5",
   "metadata": {},
   "outputs": [],
   "source": [
    "f1.close()\n"
   ]
  },
  {
   "cell_type": "code",
   "execution_count": null,
   "id": "001eb0b1",
   "metadata": {},
   "outputs": [],
   "source": [
    "f2.close()\n"
   ]
  },
  {
   "cell_type": "code",
   "execution_count": null,
   "id": "bae2aa71",
   "metadata": {},
   "outputs": [
    {
     "data": {
      "text/plain": [
       "'examples/segismundo.txt'"
      ]
     },
     "execution_count": 22,
     "metadata": {},
     "output_type": "execute_result"
    }
   ],
   "source": [
    "path\n"
   ]
  },
  {
   "cell_type": "code",
   "execution_count": 23,
   "id": "eb90ce00",
   "metadata": {},
   "outputs": [],
   "source": [
    "with open(\"temp.txt\", mode=\"w\") as handle:\n",
    "    handle.writelines(x for x in open(path) if len(x) > 1)\n"
   ]
  },
  {
   "cell_type": "code",
   "execution_count": 26,
   "id": "63d748b3",
   "metadata": {},
   "outputs": [],
   "source": [
    "with open(\"temp.txt\", encoding=\"utf-8\") as f:\n",
    "    lines = f.readlines()\n"
   ]
  },
  {
   "cell_type": "code",
   "execution_count": 27,
   "id": "7e573024",
   "metadata": {},
   "outputs": [
    {
     "data": {
      "text/plain": [
       "['Sueña el rico en su riqueza,\\n',\n",
       " 'que más cuidados le ofrece;\\n',\n",
       " 'sueña el pobre que padece\\n',\n",
       " 'su miseria y su pobreza;\\n',\n",
       " 'sueña el que a medrar empieza,\\n',\n",
       " 'sueña el que afana y pretende,\\n',\n",
       " 'sueña el que agravia y ofende,\\n',\n",
       " 'y en el mundo, en conclusión,\\n',\n",
       " 'todos sueñan lo que son,\\n',\n",
       " 'aunque ninguno lo entiende.\\n']"
      ]
     },
     "execution_count": 27,
     "metadata": {},
     "output_type": "execute_result"
    }
   ],
   "source": [
    "lines\n"
   ]
  },
  {
   "cell_type": "markdown",
   "id": "f4c15ebf",
   "metadata": {},
   "source": [
    "#### Bytes e Unicode com arquivos"
   ]
  },
  {
   "cell_type": "code",
   "execution_count": 30,
   "id": "2f54762d",
   "metadata": {},
   "outputs": [],
   "source": [
    "with open(path, encoding=\"utf-8\") as f:\n",
    "    chars = f.read(10)\n"
   ]
  },
  {
   "cell_type": "code",
   "execution_count": 31,
   "id": "f95c2e99",
   "metadata": {},
   "outputs": [
    {
     "data": {
      "text/plain": [
       "'Sueña el r'"
      ]
     },
     "execution_count": 31,
     "metadata": {},
     "output_type": "execute_result"
    }
   ],
   "source": [
    "chars\n"
   ]
  },
  {
   "cell_type": "code",
   "execution_count": null,
   "id": "088b9b22",
   "metadata": {},
   "outputs": [
    {
     "data": {
      "text/plain": [
       "10"
      ]
     },
     "execution_count": 32,
     "metadata": {},
     "output_type": "execute_result"
    }
   ],
   "source": [
    "len(chars)\n"
   ]
  },
  {
   "cell_type": "code",
   "execution_count": 33,
   "id": "92e5d31f",
   "metadata": {},
   "outputs": [],
   "source": [
    "with open(path, mode=\"rb\") as f:\n",
    "    data = f.read(10)\n"
   ]
  },
  {
   "cell_type": "code",
   "execution_count": null,
   "id": "aa9f05ef",
   "metadata": {},
   "outputs": [
    {
     "data": {
      "text/plain": [
       "b'Sue\\xc3\\xb1a el '"
      ]
     },
     "execution_count": 34,
     "metadata": {},
     "output_type": "execute_result"
    }
   ],
   "source": [
    "data\n"
   ]
  },
  {
   "cell_type": "code",
   "execution_count": null,
   "id": "3e5a4899",
   "metadata": {},
   "outputs": [
    {
     "data": {
      "text/plain": [
       "'Sueña el '"
      ]
     },
     "execution_count": 35,
     "metadata": {},
     "output_type": "execute_result"
    }
   ],
   "source": [
    "data.decode(\"utf-8\")\n"
   ]
  },
  {
   "cell_type": "code",
   "execution_count": 36,
   "id": "c676b438",
   "metadata": {},
   "outputs": [
    {
     "ename": "UnicodeDecodeError",
     "evalue": "'utf-8' codec can't decode byte 0xc3 in position 3: unexpected end of data",
     "output_type": "error",
     "traceback": [
      "\u001b[1;31m---------------------------------------------------------------------------\u001b[0m",
      "\u001b[1;31mUnicodeDecodeError\u001b[0m                        Traceback (most recent call last)",
      "Cell \u001b[1;32mIn[36], line 1\u001b[0m\n\u001b[1;32m----> 1\u001b[0m \u001b[43mdata\u001b[49m\u001b[43m[\u001b[49m\u001b[43m:\u001b[49m\u001b[38;5;241;43m4\u001b[39;49m\u001b[43m]\u001b[49m\u001b[38;5;241;43m.\u001b[39;49m\u001b[43mdecode\u001b[49m\u001b[43m(\u001b[49m\u001b[38;5;124;43m\"\u001b[39;49m\u001b[38;5;124;43mutf-8\u001b[39;49m\u001b[38;5;124;43m\"\u001b[39;49m\u001b[43m)\u001b[49m\n",
      "\u001b[1;31mUnicodeDecodeError\u001b[0m: 'utf-8' codec can't decode byte 0xc3 in position 3: unexpected end of data"
     ]
    }
   ],
   "source": [
    "data[:4].decode(\"utf-8\")\n"
   ]
  },
  {
   "cell_type": "code",
   "execution_count": 37,
   "id": "4367f9ed",
   "metadata": {},
   "outputs": [],
   "source": [
    "sink_path = \"sink.txt\"\n"
   ]
  },
  {
   "cell_type": "code",
   "execution_count": 38,
   "id": "34732b64",
   "metadata": {},
   "outputs": [],
   "source": [
    "with open(path) as source:\n",
    "    with open(sink_path, \"x\", encoding=\"iso-8859-1\") as sink:\n",
    "        sink.write(source.read())\n"
   ]
  },
  {
   "cell_type": "code",
   "execution_count": 39,
   "id": "9b509b2a",
   "metadata": {},
   "outputs": [
    {
     "name": "stdout",
     "output_type": "stream",
     "text": [
      "SueÃ±a el \n"
     ]
    }
   ],
   "source": [
    "with open(sink_path, encoding=\"iso-8859-1\") as f:\n",
    "    print(f.read(10))\n"
   ]
  },
  {
   "cell_type": "code",
   "execution_count": 40,
   "id": "0344fd44",
   "metadata": {},
   "outputs": [],
   "source": [
    "f = open(path, encoding=\"utf-8\")\n"
   ]
  },
  {
   "cell_type": "code",
   "execution_count": 41,
   "id": "d8d4137c",
   "metadata": {},
   "outputs": [
    {
     "data": {
      "text/plain": [
       "'Sueña'"
      ]
     },
     "execution_count": 41,
     "metadata": {},
     "output_type": "execute_result"
    }
   ],
   "source": [
    "f.read(5)\n"
   ]
  },
  {
   "cell_type": "code",
   "execution_count": null,
   "id": "f3d848d1",
   "metadata": {},
   "outputs": [
    {
     "data": {
      "text/plain": [
       "4"
      ]
     },
     "execution_count": 42,
     "metadata": {},
     "output_type": "execute_result"
    }
   ],
   "source": [
    "f.seek(4)\n"
   ]
  },
  {
   "cell_type": "code",
   "execution_count": 43,
   "id": "7a0f3b38",
   "metadata": {},
   "outputs": [
    {
     "ename": "UnicodeDecodeError",
     "evalue": "'utf-8' codec can't decode byte 0xb1 in position 0: invalid start byte",
     "output_type": "error",
     "traceback": [
      "\u001b[1;31m---------------------------------------------------------------------------\u001b[0m",
      "\u001b[1;31mUnicodeDecodeError\u001b[0m                        Traceback (most recent call last)",
      "Cell \u001b[1;32mIn[43], line 1\u001b[0m\n\u001b[1;32m----> 1\u001b[0m \u001b[43mf\u001b[49m\u001b[38;5;241;43m.\u001b[39;49m\u001b[43mread\u001b[49m\u001b[43m(\u001b[49m\u001b[38;5;241;43m1\u001b[39;49m\u001b[43m)\u001b[49m\n",
      "File \u001b[1;32m<frozen codecs>:322\u001b[0m, in \u001b[0;36mdecode\u001b[1;34m(self, input, final)\u001b[0m\n",
      "\u001b[1;31mUnicodeDecodeError\u001b[0m: 'utf-8' codec can't decode byte 0xb1 in position 0: invalid start byte"
     ]
    }
   ],
   "source": [
    "f.read(1)\n"
   ]
  },
  {
   "cell_type": "code",
   "execution_count": 44,
   "id": "da8dccca",
   "metadata": {},
   "outputs": [],
   "source": [
    "f.close()\n"
   ]
  }
 ],
 "metadata": {
  "kernelspec": {
   "display_name": "Python 3",
   "language": "python",
   "name": "python3"
  },
  "language_info": {
   "codemirror_mode": {
    "name": "ipython",
    "version": 3
   },
   "file_extension": ".py",
   "mimetype": "text/x-python",
   "name": "python",
   "nbconvert_exporter": "python",
   "pygments_lexer": "ipython3",
   "version": "3.11.1"
  }
 },
 "nbformat": 4,
 "nbformat_minor": 5
}
